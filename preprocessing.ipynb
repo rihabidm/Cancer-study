{
 "cells": [
  {
   "cell_type": "code",
   "execution_count": 1,
   "metadata": {},
   "outputs": [],
   "source": [
    "import pandas as pd\n",
    "import numpy as np\n",
    "import matplotlib.pyplot as plt"
   ]
  },
  {
   "cell_type": "code",
   "execution_count": 2,
   "metadata": {},
   "outputs": [],
   "source": [
    "df = pd.read_excel(r'C:\\Users\\Admin\\Desktop\\school\\Advanced Machine Learning\\Project advanced ML\\clinical.tcgaSTAD.xlsx')"
   ]
  },
  {
   "cell_type": "code",
   "execution_count": 3,
   "metadata": {},
   "outputs": [],
   "source": [
    "df1 = pd.read_excel(r'C:\\Users\\Admin\\Desktop\\school\\Advanced Machine Learning\\Project advanced ML\\cnv_chromosomes.xlsx')"
   ]
  },
  {
   "cell_type": "code",
   "execution_count": 5,
   "metadata": {},
   "outputs": [
    {
     "name": "stdout",
     "output_type": "stream",
     "text": [
      "<class 'pandas.core.frame.DataFrame'>\n",
      "RangeIndex: 2717 entries, 0 to 2716\n",
      "Data columns (total 17 columns):\n",
      " #   Column                             Non-Null Count  Dtype  \n",
      "---  ------                             --------------  -----  \n",
      " 0   Cancer Type                        2717 non-null   object \n",
      " 1   Donor ID                           2717 non-null   object \n",
      " 2   Sex                                2717 non-null   object \n",
      " 3   Age at diagnosis                   2672 non-null   float64\n",
      " 4   Age at last follow-up              2672 non-null   float64\n",
      " 5   Disease status last follow-up      1505 non-null   object \n",
      " 6   Interval of last follow-up (days)  2402 non-null   float64\n",
      " 7   Donor vital status                 2717 non-null   object \n",
      " 8   ICD-10                             2717 non-null   object \n",
      " 9   Specimen ID                        2717 non-null   object \n",
      " 10  Specimen type                      2717 non-null   object \n",
      " 11  Tumour confirmed                   1558 non-null   object \n",
      " 12  Digital image of stained section   2153 non-null   object \n",
      " 13  Specimen notes                     2717 non-null   object \n",
      " 14  Sample ID                          2717 non-null   object \n",
      " 15  Sample type                        2717 non-null   object \n",
      " 16  Sample notes                       2717 non-null   object \n",
      "dtypes: float64(3), object(14)\n",
      "memory usage: 361.0+ KB\n"
     ]
    }
   ],
   "source": [
    "df.info()"
   ]
  },
  {
   "cell_type": "code",
   "execution_count": 6,
   "metadata": {},
   "outputs": [
    {
     "name": "stdout",
     "output_type": "stream",
     "text": [
      "<class 'pandas.core.frame.DataFrame'>\n",
      "RangeIndex: 773434 entries, 0 to 773433\n",
      "Data columns (total 23 columns):\n",
      " #   Column                Non-Null Count   Dtype  \n",
      "---  ------                --------------   -----  \n",
      " 0   Cancer Type           773434 non-null  object \n",
      " 1   Assembly Version      773434 non-null  object \n",
      " 2   Chromosome            737671 non-null  float64\n",
      " 3   Chromosome start      773434 non-null  int64  \n",
      " 4   Chromosome end        773434 non-null  int64  \n",
      " 5   Mutation ID           773434 non-null  int64  \n",
      " 6   Mutation type         773434 non-null  object \n",
      " 7   Segment mean          773434 non-null  float64\n",
      " 8   Analysis ID           773434 non-null  int64  \n",
      " 9   Platform              773434 non-null  object \n",
      " 10  Raw data repository   773434 non-null  object \n",
      " 11  Raw data accession    773434 non-null  object \n",
      " 12  Donor ID              773434 non-null  object \n",
      " 13  Sex                   773434 non-null  object \n",
      " 14  Age at diagnosis      771828 non-null  float64\n",
      " 15  ICD-10                773434 non-null  object \n",
      " 16  Specimen ID           773434 non-null  object \n",
      " 17  Specimen type         773434 non-null  object \n",
      " 18  Tumour confirmed      403678 non-null  object \n",
      " 19  Analyzed sample ID    773434 non-null  object \n",
      " 20  Sample type           773434 non-null  object \n",
      " 21  Matched sample ID     389485 non-null  object \n",
      " 22  Initial Release Date  0 non-null       float64\n",
      "dtypes: float64(4), int64(4), object(15)\n",
      "memory usage: 135.7+ MB\n"
     ]
    }
   ],
   "source": [
    "df1.info()"
   ]
  },
  {
   "cell_type": "code",
   "execution_count": 8,
   "metadata": {},
   "outputs": [],
   "source": [
    "df.dropna(subset=['Tumour confirmed'],inplace=True)\n",
    "df1.dropna(subset=['Tumour confirmed'],inplace=True)"
   ]
  },
  {
   "cell_type": "code",
   "execution_count": 17,
   "metadata": {},
   "outputs": [],
   "source": [
    "df.dropna(subset=['Interval of last follow-up (days)'],inplace=True)\n",
    "df.drop(columns=['Disease status last follow-up'],inplace=True)"
   ]
  },
  {
   "cell_type": "code",
   "execution_count": 18,
   "metadata": {},
   "outputs": [],
   "source": [
    "df1.dropna(subset=['Chromosome'],inplace=True)"
   ]
  },
  {
   "cell_type": "code",
   "execution_count": 15,
   "metadata": {},
   "outputs": [],
   "source": [
    "df1.drop(columns=['Matched sample ID'],inplace=True)"
   ]
  },
  {
   "cell_type": "code",
   "execution_count": 25,
   "metadata": {},
   "outputs": [],
   "source": [
    "df1.drop(columns=['Initial Release Date'],inplace=True)"
   ]
  },
  {
   "cell_type": "code",
   "execution_count": 19,
   "metadata": {},
   "outputs": [],
   "source": [
    "df.reset_index(inplace=True)\n",
    "df1.reset_index(inplace=True)"
   ]
  },
  {
   "cell_type": "code",
   "execution_count": 26,
   "metadata": {},
   "outputs": [
    {
     "name": "stdout",
     "output_type": "stream",
     "text": [
      "<class 'pandas.core.frame.DataFrame'>\n",
      "RangeIndex: 1370 entries, 0 to 1369\n",
      "Data columns (total 18 columns):\n",
      " #   Column                             Non-Null Count  Dtype  \n",
      "---  ------                             --------------  -----  \n",
      " 0   level_0                            1370 non-null   int64  \n",
      " 1   index                              1370 non-null   int64  \n",
      " 2   Cancer Type                        1370 non-null   object \n",
      " 3   Donor ID                           1370 non-null   object \n",
      " 4   Sex                                1370 non-null   object \n",
      " 5   Age at diagnosis                   1370 non-null   float64\n",
      " 6   Age at last follow-up              1370 non-null   float64\n",
      " 7   Interval of last follow-up (days)  1370 non-null   float64\n",
      " 8   Donor vital status                 1370 non-null   object \n",
      " 9   ICD-10                             1370 non-null   object \n",
      " 10  Specimen ID                        1370 non-null   object \n",
      " 11  Specimen type                      1370 non-null   object \n",
      " 12  Tumour confirmed                   1370 non-null   object \n",
      " 13  Digital image of stained section   1370 non-null   object \n",
      " 14  Specimen notes                     1370 non-null   object \n",
      " 15  Sample ID                          1370 non-null   object \n",
      " 16  Sample type                        1370 non-null   object \n",
      " 17  Sample notes                       1370 non-null   object \n",
      "dtypes: float64(3), int64(2), object(13)\n",
      "memory usage: 192.8+ KB\n",
      "<class 'pandas.core.frame.DataFrame'>\n",
      "RangeIndex: 383891 entries, 0 to 383890\n",
      "Data columns (total 23 columns):\n",
      " #   Column               Non-Null Count   Dtype  \n",
      "---  ------               --------------   -----  \n",
      " 0   level_0              383891 non-null  int64  \n",
      " 1   index                383891 non-null  int64  \n",
      " 2   Cancer Type          383891 non-null  object \n",
      " 3   Assembly Version     383891 non-null  object \n",
      " 4   Chromosome           383891 non-null  float64\n",
      " 5   Chromosome start     383891 non-null  int64  \n",
      " 6   Chromosome end       383891 non-null  int64  \n",
      " 7   Mutation ID          383891 non-null  int64  \n",
      " 8   Mutation type        383891 non-null  object \n",
      " 9   Segment mean         383891 non-null  float64\n",
      " 10  Analysis ID          383891 non-null  int64  \n",
      " 11  Platform             383891 non-null  object \n",
      " 12  Raw data repository  383891 non-null  object \n",
      " 13  Raw data accession   383891 non-null  object \n",
      " 14  Donor ID             383891 non-null  object \n",
      " 15  Sex                  383891 non-null  object \n",
      " 16  Age at diagnosis     383083 non-null  float64\n",
      " 17  ICD-10               383891 non-null  object \n",
      " 18  Specimen ID          383891 non-null  object \n",
      " 19  Specimen type        383891 non-null  object \n",
      " 20  Tumour confirmed     383891 non-null  object \n",
      " 21  Analyzed sample ID   383891 non-null  object \n",
      " 22  Sample type          383891 non-null  object \n",
      "dtypes: float64(3), int64(6), object(14)\n",
      "memory usage: 67.4+ MB\n"
     ]
    }
   ],
   "source": [
    "df.info()\n",
    "df1.info()"
   ]
  },
  {
   "cell_type": "code",
   "execution_count": 23,
   "metadata": {},
   "outputs": [
    {
     "data": {
      "text/html": [
       "<div>\n",
       "<style scoped>\n",
       "    .dataframe tbody tr th:only-of-type {\n",
       "        vertical-align: middle;\n",
       "    }\n",
       "\n",
       "    .dataframe tbody tr th {\n",
       "        vertical-align: top;\n",
       "    }\n",
       "\n",
       "    .dataframe thead th {\n",
       "        text-align: right;\n",
       "    }\n",
       "</style>\n",
       "<table border=\"1\" class=\"dataframe\">\n",
       "  <thead>\n",
       "    <tr style=\"text-align: right;\">\n",
       "      <th></th>\n",
       "      <th>level_0</th>\n",
       "      <th>index</th>\n",
       "      <th>Age at diagnosis</th>\n",
       "      <th>Age at last follow-up</th>\n",
       "      <th>Interval of last follow-up (days)</th>\n",
       "    </tr>\n",
       "  </thead>\n",
       "  <tbody>\n",
       "    <tr>\n",
       "      <th>count</th>\n",
       "      <td>1370.000000</td>\n",
       "      <td>1370.000000</td>\n",
       "      <td>1370.000000</td>\n",
       "      <td>1370.000000</td>\n",
       "      <td>1370.000000</td>\n",
       "    </tr>\n",
       "    <tr>\n",
       "      <th>mean</th>\n",
       "      <td>718.739416</td>\n",
       "      <td>1279.985401</td>\n",
       "      <td>66.675912</td>\n",
       "      <td>66.891971</td>\n",
       "      <td>128.410219</td>\n",
       "    </tr>\n",
       "    <tr>\n",
       "      <th>std</th>\n",
       "      <td>440.891305</td>\n",
       "      <td>769.421198</td>\n",
       "      <td>10.947184</td>\n",
       "      <td>11.089516</td>\n",
       "      <td>334.329375</td>\n",
       "    </tr>\n",
       "    <tr>\n",
       "      <th>min</th>\n",
       "      <td>0.000000</td>\n",
       "      <td>0.000000</td>\n",
       "      <td>34.000000</td>\n",
       "      <td>34.000000</td>\n",
       "      <td>0.000000</td>\n",
       "    </tr>\n",
       "    <tr>\n",
       "      <th>25%</th>\n",
       "      <td>342.250000</td>\n",
       "      <td>616.250000</td>\n",
       "      <td>58.000000</td>\n",
       "      <td>58.000000</td>\n",
       "      <td>0.000000</td>\n",
       "    </tr>\n",
       "    <tr>\n",
       "      <th>50%</th>\n",
       "      <td>684.500000</td>\n",
       "      <td>1278.500000</td>\n",
       "      <td>68.000000</td>\n",
       "      <td>68.000000</td>\n",
       "      <td>15.000000</td>\n",
       "    </tr>\n",
       "    <tr>\n",
       "      <th>75%</th>\n",
       "      <td>1072.750000</td>\n",
       "      <td>1890.750000</td>\n",
       "      <td>75.000000</td>\n",
       "      <td>75.000000</td>\n",
       "      <td>66.000000</td>\n",
       "    </tr>\n",
       "    <tr>\n",
       "      <th>max</th>\n",
       "      <td>1557.000000</td>\n",
       "      <td>2709.000000</td>\n",
       "      <td>90.000000</td>\n",
       "      <td>93.000000</td>\n",
       "      <td>2131.000000</td>\n",
       "    </tr>\n",
       "  </tbody>\n",
       "</table>\n",
       "</div>"
      ],
      "text/plain": [
       "           level_0        index  Age at diagnosis  Age at last follow-up  \\\n",
       "count  1370.000000  1370.000000       1370.000000            1370.000000   \n",
       "mean    718.739416  1279.985401         66.675912              66.891971   \n",
       "std     440.891305   769.421198         10.947184              11.089516   \n",
       "min       0.000000     0.000000         34.000000              34.000000   \n",
       "25%     342.250000   616.250000         58.000000              58.000000   \n",
       "50%     684.500000  1278.500000         68.000000              68.000000   \n",
       "75%    1072.750000  1890.750000         75.000000              75.000000   \n",
       "max    1557.000000  2709.000000         90.000000              93.000000   \n",
       "\n",
       "       Interval of last follow-up (days)  \n",
       "count                        1370.000000  \n",
       "mean                          128.410219  \n",
       "std                           334.329375  \n",
       "min                             0.000000  \n",
       "25%                             0.000000  \n",
       "50%                            15.000000  \n",
       "75%                            66.000000  \n",
       "max                          2131.000000  "
      ]
     },
     "execution_count": 23,
     "metadata": {},
     "output_type": "execute_result"
    }
   ],
   "source": [
    "df.describe()"
   ]
  },
  {
   "cell_type": "code",
   "execution_count": 27,
   "metadata": {},
   "outputs": [
    {
     "data": {
      "text/html": [
       "<div>\n",
       "<style scoped>\n",
       "    .dataframe tbody tr th:only-of-type {\n",
       "        vertical-align: middle;\n",
       "    }\n",
       "\n",
       "    .dataframe tbody tr th {\n",
       "        vertical-align: top;\n",
       "    }\n",
       "\n",
       "    .dataframe thead th {\n",
       "        text-align: right;\n",
       "    }\n",
       "</style>\n",
       "<table border=\"1\" class=\"dataframe\">\n",
       "  <thead>\n",
       "    <tr style=\"text-align: right;\">\n",
       "      <th></th>\n",
       "      <th>level_0</th>\n",
       "      <th>index</th>\n",
       "      <th>Chromosome</th>\n",
       "      <th>Chromosome start</th>\n",
       "      <th>Chromosome end</th>\n",
       "      <th>Mutation ID</th>\n",
       "      <th>Segment mean</th>\n",
       "      <th>Analysis ID</th>\n",
       "      <th>Age at diagnosis</th>\n",
       "    </tr>\n",
       "  </thead>\n",
       "  <tbody>\n",
       "    <tr>\n",
       "      <th>count</th>\n",
       "      <td>383891.000000</td>\n",
       "      <td>383891.000000</td>\n",
       "      <td>383891.000000</td>\n",
       "      <td>3.838910e+05</td>\n",
       "      <td>3.838910e+05</td>\n",
       "      <td>3.838910e+05</td>\n",
       "      <td>383891.000000</td>\n",
       "      <td>383891.000000</td>\n",
       "      <td>383083.000000</td>\n",
       "    </tr>\n",
       "    <tr>\n",
       "      <th>mean</th>\n",
       "      <td>194440.088189</td>\n",
       "      <td>375591.864086</td>\n",
       "      <td>8.922785</td>\n",
       "      <td>6.824202e+07</td>\n",
       "      <td>7.751978e+07</td>\n",
       "      <td>1.982294e+06</td>\n",
       "      <td>-0.208164</td>\n",
       "      <td>12100.070588</td>\n",
       "      <td>60.903799</td>\n",
       "    </tr>\n",
       "    <tr>\n",
       "      <th>std</th>\n",
       "      <td>114720.138590</td>\n",
       "      <td>219366.100839</td>\n",
       "      <td>5.944687</td>\n",
       "      <td>5.727704e+07</td>\n",
       "      <td>5.842822e+07</td>\n",
       "      <td>2.747587e+05</td>\n",
       "      <td>0.907335</td>\n",
       "      <td>1304.096320</td>\n",
       "      <td>11.804977</td>\n",
       "    </tr>\n",
       "    <tr>\n",
       "      <th>min</th>\n",
       "      <td>0.000000</td>\n",
       "      <td>1.000000</td>\n",
       "      <td>1.000000</td>\n",
       "      <td>5.260000e+02</td>\n",
       "      <td>1.588000e+03</td>\n",
       "      <td>1.529304e+06</td>\n",
       "      <td>-7.750000</td>\n",
       "      <td>11512.000000</td>\n",
       "      <td>19.000000</td>\n",
       "    </tr>\n",
       "    <tr>\n",
       "      <th>25%</th>\n",
       "      <td>95972.500000</td>\n",
       "      <td>188993.000000</td>\n",
       "      <td>4.000000</td>\n",
       "      <td>2.130267e+07</td>\n",
       "      <td>3.012685e+07</td>\n",
       "      <td>1.746846e+06</td>\n",
       "      <td>-0.530000</td>\n",
       "      <td>11515.000000</td>\n",
       "      <td>53.000000</td>\n",
       "    </tr>\n",
       "    <tr>\n",
       "      <th>50%</th>\n",
       "      <td>191945.000000</td>\n",
       "      <td>370315.000000</td>\n",
       "      <td>8.000000</td>\n",
       "      <td>5.427117e+07</td>\n",
       "      <td>6.462757e+07</td>\n",
       "      <td>1.950092e+06</td>\n",
       "      <td>-0.020000</td>\n",
       "      <td>11518.000000</td>\n",
       "      <td>61.000000</td>\n",
       "    </tr>\n",
       "    <tr>\n",
       "      <th>75%</th>\n",
       "      <td>287917.500000</td>\n",
       "      <td>556914.500000</td>\n",
       "      <td>13.000000</td>\n",
       "      <td>1.053392e+08</td>\n",
       "      <td>1.141436e+08</td>\n",
       "      <td>2.233066e+06</td>\n",
       "      <td>0.200000</td>\n",
       "      <td>12169.000000</td>\n",
       "      <td>68.000000</td>\n",
       "    </tr>\n",
       "    <tr>\n",
       "      <th>max</th>\n",
       "      <td>403677.000000</td>\n",
       "      <td>773432.000000</td>\n",
       "      <td>22.000000</td>\n",
       "      <td>2.492129e+08</td>\n",
       "      <td>2.492244e+08</td>\n",
       "      <td>2.492800e+06</td>\n",
       "      <td>6.100000</td>\n",
       "      <td>16277.000000</td>\n",
       "      <td>90.000000</td>\n",
       "    </tr>\n",
       "  </tbody>\n",
       "</table>\n",
       "</div>"
      ],
      "text/plain": [
       "             level_0          index     Chromosome  Chromosome start  \\\n",
       "count  383891.000000  383891.000000  383891.000000      3.838910e+05   \n",
       "mean   194440.088189  375591.864086       8.922785      6.824202e+07   \n",
       "std    114720.138590  219366.100839       5.944687      5.727704e+07   \n",
       "min         0.000000       1.000000       1.000000      5.260000e+02   \n",
       "25%     95972.500000  188993.000000       4.000000      2.130267e+07   \n",
       "50%    191945.000000  370315.000000       8.000000      5.427117e+07   \n",
       "75%    287917.500000  556914.500000      13.000000      1.053392e+08   \n",
       "max    403677.000000  773432.000000      22.000000      2.492129e+08   \n",
       "\n",
       "       Chromosome end   Mutation ID   Segment mean    Analysis ID  \\\n",
       "count    3.838910e+05  3.838910e+05  383891.000000  383891.000000   \n",
       "mean     7.751978e+07  1.982294e+06      -0.208164   12100.070588   \n",
       "std      5.842822e+07  2.747587e+05       0.907335    1304.096320   \n",
       "min      1.588000e+03  1.529304e+06      -7.750000   11512.000000   \n",
       "25%      3.012685e+07  1.746846e+06      -0.530000   11515.000000   \n",
       "50%      6.462757e+07  1.950092e+06      -0.020000   11518.000000   \n",
       "75%      1.141436e+08  2.233066e+06       0.200000   12169.000000   \n",
       "max      2.492244e+08  2.492800e+06       6.100000   16277.000000   \n",
       "\n",
       "       Age at diagnosis  \n",
       "count     383083.000000  \n",
       "mean          60.903799  \n",
       "std           11.804977  \n",
       "min           19.000000  \n",
       "25%           53.000000  \n",
       "50%           61.000000  \n",
       "75%           68.000000  \n",
       "max           90.000000  "
      ]
     },
     "execution_count": 27,
     "metadata": {},
     "output_type": "execute_result"
    }
   ],
   "source": [
    "df1.describe()"
   ]
  },
  {
   "cell_type": "code",
   "execution_count": 37,
   "metadata": {},
   "outputs": [],
   "source": [
    "result=pd.merge(df,df1, on='Donor ID',how='inner')"
   ]
  },
  {
   "cell_type": "code",
   "execution_count": 38,
   "metadata": {},
   "outputs": [
    {
     "name": "stdout",
     "output_type": "stream",
     "text": [
      "<class 'pandas.core.frame.DataFrame'>\n",
      "Index: 0 entries\n",
      "Data columns (total 40 columns):\n",
      " #   Column                             Non-Null Count  Dtype  \n",
      "---  ------                             --------------  -----  \n",
      " 0   level_0_x                          0 non-null      int64  \n",
      " 1   index_x                            0 non-null      int64  \n",
      " 2   Cancer Type_x                      0 non-null      object \n",
      " 3   Donor ID                           0 non-null      object \n",
      " 4   Sex_x                              0 non-null      object \n",
      " 5   Age at diagnosis_x                 0 non-null      float64\n",
      " 6   Age at last follow-up              0 non-null      float64\n",
      " 7   Interval of last follow-up (days)  0 non-null      float64\n",
      " 8   Donor vital status                 0 non-null      object \n",
      " 9   ICD-10_x                           0 non-null      object \n",
      " 10  Specimen ID_x                      0 non-null      object \n",
      " 11  Specimen type_x                    0 non-null      object \n",
      " 12  Tumour confirmed_x                 0 non-null      object \n",
      " 13  Digital image of stained section   0 non-null      object \n",
      " 14  Specimen notes                     0 non-null      object \n",
      " 15  Sample ID                          0 non-null      object \n",
      " 16  Sample type_x                      0 non-null      object \n",
      " 17  Sample notes                       0 non-null      object \n",
      " 18  level_0_y                          0 non-null      int64  \n",
      " 19  index_y                            0 non-null      int64  \n",
      " 20  Cancer Type_y                      0 non-null      object \n",
      " 21  Assembly Version                   0 non-null      object \n",
      " 22  Chromosome                         0 non-null      float64\n",
      " 23  Chromosome start                   0 non-null      int64  \n",
      " 24  Chromosome end                     0 non-null      int64  \n",
      " 25  Mutation ID                        0 non-null      int64  \n",
      " 26  Mutation type                      0 non-null      object \n",
      " 27  Segment mean                       0 non-null      float64\n",
      " 28  Analysis ID                        0 non-null      int64  \n",
      " 29  Platform                           0 non-null      object \n",
      " 30  Raw data repository                0 non-null      object \n",
      " 31  Raw data accession                 0 non-null      object \n",
      " 32  Sex_y                              0 non-null      object \n",
      " 33  Age at diagnosis_y                 0 non-null      float64\n",
      " 34  ICD-10_y                           0 non-null      object \n",
      " 35  Specimen ID_y                      0 non-null      object \n",
      " 36  Specimen type_y                    0 non-null      object \n",
      " 37  Tumour confirmed_y                 0 non-null      object \n",
      " 38  Analyzed sample ID                 0 non-null      object \n",
      " 39  Sample type_y                      0 non-null      object \n",
      "dtypes: float64(6), int64(8), object(26)\n",
      "memory usage: 0.0+ bytes\n"
     ]
    }
   ],
   "source": [
    "result.info()"
   ]
  },
  {
   "cell_type": "code",
   "execution_count": 40,
   "metadata": {},
   "outputs": [
    {
     "data": {
      "text/plain": [
       "False"
      ]
     },
     "execution_count": 40,
     "metadata": {},
     "output_type": "execute_result"
    }
   ],
   "source": [
    "common_values = df1['Donor ID'].isin(df['Donor ID']).any()\n",
    "common_values"
   ]
  },
  {
   "cell_type": "code",
   "execution_count": 42,
   "metadata": {},
   "outputs": [],
   "source": [
    "df.to_excel(r'C:\\Users\\Admin\\Desktop\\school\\Advanced Machine Learning\\Project advanced ML\\df1.xlsx',index=False)\n",
    "df1.to_excel(r'C:\\Users\\Admin\\Desktop\\school\\Advanced Machine Learning\\Project advanced ML\\df2.xlsx',index=False)"
   ]
  }
 ],
 "metadata": {
  "kernelspec": {
   "display_name": "Python 3",
   "language": "python",
   "name": "python3"
  },
  "language_info": {
   "codemirror_mode": {
    "name": "ipython",
    "version": 3
   },
   "file_extension": ".py",
   "mimetype": "text/x-python",
   "name": "python",
   "nbconvert_exporter": "python",
   "pygments_lexer": "ipython3",
   "version": "3.8.3"
  }
 },
 "nbformat": 4,
 "nbformat_minor": 4
}
