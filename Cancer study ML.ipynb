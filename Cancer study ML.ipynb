{
 "cells": [
  {
   "cell_type": "markdown",
   "metadata": {
    "id": "7pqcYz38Q0Tv"
   },
   "source": [
    "\n",
    "# Introduction"
   ]
  },
  {
   "cell_type": "markdown",
   "metadata": {
    "id": "iOuaM-owFHrL"
   },
   "source": [
    "Le carcinome épidermoïde de la cavité buccale et du pharynx représente un défi de santé majeur, nécessitant des stratégies de diagnostic et de traitement efficaces. Dans ce contexte, l'utilisation de l'intelligence artificielle (IA) et de l'apprentissage automatique offre des perspectives prometteuses pour améliorer la prise en charge des patients. Ce projet vise à exploiter les données cliniques et génomiques disponibles pour prédire les issues des patients atteints de ce type de cancer, avec pour objectif ultime d'améliorer les résultats cliniques et la qualité de vie des patients."
   ]
  },
  {
   "cell_type": "markdown",
   "metadata": {
    "id": "oHvgJvWrFNYK"
   },
   "source": [
    "# Presentation des colonnes de la dataset"
   ]
  },
  {
   "cell_type": "markdown",
   "metadata": {
    "id": "V06L4vuRXc6I"
   },
   "source": [
    "- Assembly Version : La version de l'assemblage génomique utilisée pour aligner les données.\n",
    "- Chromosome: Le numéro de chromosome où la mutation est située.\n",
    "- Chromosome start: La position de début de la mutation sur le chromosome.\n",
    "- Chromosome end: La position de fin de la mutation sur le chromosome.\n",
    "- Mutation ID: L'identifiant unique de la mutation.\n",
    "- Mutation type: Le type de mutation, tel que substitution, insertion, délétion, etc.\n",
    "- Segment mean: La moyenne du segment où la mutation est située.\n",
    "- Analysis ID: L'identifiant de l'analyse.\n",
    "- Donor ID: L'identifiant unique du donneur.\n",
    "- Sex_x: Le sexe du donneur.\n",
    "- Age at diagnosis_x: L'âge du donneur au moment du diagnostic.\n",
    "- ICD-10_x: Le code de la Classification internationale des maladies (CIM-10) associé au cancer.\n",
    "- Specimen ID_x: L'identifiant de l'échantillon.\n",
    "- Analyzed sample ID: L'identifiant de l'échantillon analysé.\n",
    "- Age at last follow-up: L'âge du donneur lors du dernier suivi.\n",
    "- Interval of last follow-up (days): L'intervalle en jours depuis le dernier suivi.\n",
    "- Donor vital status: Le statut vital du donneur (décédé ou vivant).\n",
    "- Survival time (days): Le temps de survie en jours.\n",
    "- Donor tumour staging system at diagnosis: Le système de stadification de la tumeur utilisé lors du diagnostic.\n",
    "- Specimen ID_y: L'identifiant de l'échantillon de type y.\n",
    "- Specimen type_y: Le type de spécimen de type y.\n",
    "- Tumour confirmed_y: La confirmation de la tumeur de type y.\n",
    "- Specimen notes: Les notes associées à l'échantillon.\n",
    "- Sample ID: L'identifiant de l'échantillon.\n",
    "- Sample type_y: Le type d'échantillon de type y.\n",
    "- Sample notes: Les notes associées à l'échantillon."
   ]
  },
  {
   "cell_type": "markdown",
   "metadata": {
    "id": "K6GXueoLFYFJ"
   },
   "source": [
    "# Objectif"
   ]
  },
  {
   "cell_type": "markdown",
   "metadata": {
    "id": "d_pD-DIQFZ8t"
   },
   "source": [
    "L'objectif principal de ce projet est de développer des modèles prédictifs précis pour estimer le temps de survie, le risque de récidive et le statut vital des patients atteints de carcinome épidermoïde de la cavité buccale et du pharynx. En combinant des techniques avancées d'IA avec une analyse approfondie des données cliniques et génomiques, nous cherchons à identifier les facteurs prédictifs clés et à personnaliser les stratégies de prise en charge pour chaque patient. En fournissant des insights précieux aux cliniciens, ce projet vise à améliorer les décisions médicales et les résultats cliniques dans la lutte contre ce type de cancer."
   ]
  },
  {
   "cell_type": "markdown",
   "metadata": {},
   "source": [
    "# IAE"
   ]
  },
  {
   "cell_type": "markdown",
   "metadata": {},
   "source": [
    "Les techniques d'Interprétabilité de l'Apprentissage Automatique sont utilisées pour chaque modèle établie afin de générer des explications interprétables pour les prédictions."
   ]
  },
  {
   "cell_type": "markdown",
   "metadata": {
    "id": "WbVe5nPpF5BI"
   },
   "source": [
    "\n",
    "# L'analyse exploratoire des données (EDA)"
   ]
  },
  {
   "cell_type": "code",
   "execution_count": 1,
   "metadata": {
    "id": "CDRD1RVIQ1kl"
   },
   "outputs": [],
   "source": [
    "import pandas as pd\n",
    "import numpy as np\n",
    "import matplotlib.pyplot as plt\n",
    "#from google.colab import files\n",
    "import seaborn as sns\n",
    "import os"
   ]
  },
  {
   "cell_type": "code",
   "execution_count": 2,
   "metadata": {
    "id": "cXyED3IIObpk"
   },
   "outputs": [],
   "source": [
    "df = pd.read_csv(r'C:\\Users\\Admin\\Desktop\\school\\Advanced Machine Learning\\Project advanced ML\\NewDataset_modified.csv')"
   ]
  },
  {
   "cell_type": "code",
   "execution_count": null,
   "metadata": {
    "colab": {
     "base_uri": "https://localhost:8080/",
     "height": 846
    },
    "id": "26lns1PhQLsZ",
    "outputId": "6d42f38a-89a4-4b59-fc8c-6014945be681"
   },
   "outputs": [
    {
     "data": {
      "application/vnd.google.colaboratory.intrinsic+json": {
       "type": "dataframe",
       "variable_name": "df"
      },
      "text/html": [
       "\n",
       "  <div id=\"df-27d65af9-e98e-4b4d-86bb-b04ed331528d\" class=\"colab-df-container\">\n",
       "    <div>\n",
       "<style scoped>\n",
       "    .dataframe tbody tr th:only-of-type {\n",
       "        vertical-align: middle;\n",
       "    }\n",
       "\n",
       "    .dataframe tbody tr th {\n",
       "        vertical-align: top;\n",
       "    }\n",
       "\n",
       "    .dataframe thead th {\n",
       "        text-align: right;\n",
       "    }\n",
       "</style>\n",
       "<table border=\"1\" class=\"dataframe\">\n",
       "  <thead>\n",
       "    <tr style=\"text-align: right;\">\n",
       "      <th></th>\n",
       "      <th>Cancer Type_x</th>\n",
       "      <th>Assembly Version</th>\n",
       "      <th>Chromosome</th>\n",
       "      <th>Chromosome start</th>\n",
       "      <th>Chromosome end</th>\n",
       "      <th>Mutation ID</th>\n",
       "      <th>Mutation type</th>\n",
       "      <th>Segment mean</th>\n",
       "      <th>Analysis ID</th>\n",
       "      <th>Platform</th>\n",
       "      <th>...</th>\n",
       "      <th>Donor vital status</th>\n",
       "      <th>Survival time (days)</th>\n",
       "      <th>Donor tumour staging system at diagnosis</th>\n",
       "      <th>Specimen ID_y</th>\n",
       "      <th>Specimen type_y</th>\n",
       "      <th>Tumour confirmed_y</th>\n",
       "      <th>Specimen notes</th>\n",
       "      <th>Sample ID</th>\n",
       "      <th>Sample type_y</th>\n",
       "      <th>Sample notes</th>\n",
       "    </tr>\n",
       "  </thead>\n",
       "  <tbody>\n",
       "    <tr>\n",
       "      <th>0</th>\n",
       "      <td>Head and Neck Squamous Cell Carcinoma (TCGA, US)</td>\n",
       "      <td>GRCh37</td>\n",
       "      <td>10.0</td>\n",
       "      <td>46478798</td>\n",
       "      <td>46479812</td>\n",
       "      <td>2190753</td>\n",
       "      <td>undetermined</td>\n",
       "      <td>0.32</td>\n",
       "      <td>12170</td>\n",
       "      <td>Affymetrix Genome-Wide Human SNP Array 6.0</td>\n",
       "      <td>...</td>\n",
       "      <td>alive</td>\n",
       "      <td>274.0</td>\n",
       "      <td>6th</td>\n",
       "      <td>TCGA-CN-5374-01A</td>\n",
       "      <td>primary tumour</td>\n",
       "      <td>yes</td>\n",
       "      <td>617df1e0-b075-4610-b6d5-8850786fea70</td>\n",
       "      <td>TCGA-CN-5374-01A-01D-1431-02</td>\n",
       "      <td>Primary tumour</td>\n",
       "      <td>dc9d40c3-0af2-481e-9e54-7b6329649eb6</td>\n",
       "    </tr>\n",
       "    <tr>\n",
       "      <th>1</th>\n",
       "      <td>Head and Neck Squamous Cell Carcinoma (TCGA, US)</td>\n",
       "      <td>GRCh37</td>\n",
       "      <td>10.0</td>\n",
       "      <td>46478798</td>\n",
       "      <td>46479812</td>\n",
       "      <td>2212316</td>\n",
       "      <td>undetermined</td>\n",
       "      <td>0.63</td>\n",
       "      <td>12170</td>\n",
       "      <td>Affymetrix Genome-Wide Human SNP Array 6.0</td>\n",
       "      <td>...</td>\n",
       "      <td>deceased</td>\n",
       "      <td>379.0</td>\n",
       "      <td>6th</td>\n",
       "      <td>TCGA-CN-5369-01A</td>\n",
       "      <td>primary tumour</td>\n",
       "      <td>yes</td>\n",
       "      <td>b4c02606-0f86-46e4-9daf-dc7dbcd60d78</td>\n",
       "      <td>TCGA-CN-5369-01A-01D-1431-02</td>\n",
       "      <td>Primary tumour</td>\n",
       "      <td>1a532ca9-e72f-4906-867b-272a18cfec79</td>\n",
       "    </tr>\n",
       "    <tr>\n",
       "      <th>2</th>\n",
       "      <td>Head and Neck Squamous Cell Carcinoma (TCGA, US)</td>\n",
       "      <td>GRCh37</td>\n",
       "      <td>10.0</td>\n",
       "      <td>46478798</td>\n",
       "      <td>46479812</td>\n",
       "      <td>2205898</td>\n",
       "      <td>undetermined</td>\n",
       "      <td>0.80</td>\n",
       "      <td>12170</td>\n",
       "      <td>Affymetrix Genome-Wide Human SNP Array 6.0</td>\n",
       "      <td>...</td>\n",
       "      <td>deceased</td>\n",
       "      <td>351.0</td>\n",
       "      <td>6th</td>\n",
       "      <td>TCGA-CN-5367-01A</td>\n",
       "      <td>primary tumour</td>\n",
       "      <td>yes</td>\n",
       "      <td>379f9e65-54f3-4566-b018-3f3eee6a4df4</td>\n",
       "      <td>TCGA-CN-5367-01A-01D-1431-02</td>\n",
       "      <td>Primary tumour</td>\n",
       "      <td>1380173d-316f-4821-8b98-654ad1050a38</td>\n",
       "    </tr>\n",
       "    <tr>\n",
       "      <th>3</th>\n",
       "      <td>Head and Neck Squamous Cell Carcinoma (TCGA, US)</td>\n",
       "      <td>GRCh37</td>\n",
       "      <td>10.0</td>\n",
       "      <td>46478798</td>\n",
       "      <td>46479812</td>\n",
       "      <td>2183483</td>\n",
       "      <td>undetermined</td>\n",
       "      <td>0.56</td>\n",
       "      <td>12170</td>\n",
       "      <td>Affymetrix Genome-Wide Human SNP Array 6.0</td>\n",
       "      <td>...</td>\n",
       "      <td>deceased</td>\n",
       "      <td>492.0</td>\n",
       "      <td>6th</td>\n",
       "      <td>TCGA-CN-5364-01A</td>\n",
       "      <td>primary tumour</td>\n",
       "      <td>yes</td>\n",
       "      <td>38a4ac42-be08-4187-98c2-af861218c3db</td>\n",
       "      <td>TCGA-CN-5364-01A-01D-1431-02</td>\n",
       "      <td>Primary tumour</td>\n",
       "      <td>6ce3d597-51f1-4807-a28f-271f25f95ed4</td>\n",
       "    </tr>\n",
       "    <tr>\n",
       "      <th>4</th>\n",
       "      <td>Head and Neck Squamous Cell Carcinoma (TCGA, US)</td>\n",
       "      <td>GRCh37</td>\n",
       "      <td>10.0</td>\n",
       "      <td>46478798</td>\n",
       "      <td>46479812</td>\n",
       "      <td>2214933</td>\n",
       "      <td>undetermined</td>\n",
       "      <td>0.64</td>\n",
       "      <td>12170</td>\n",
       "      <td>Affymetrix Genome-Wide Human SNP Array 6.0</td>\n",
       "      <td>...</td>\n",
       "      <td>alive</td>\n",
       "      <td>866.0</td>\n",
       "      <td>6th</td>\n",
       "      <td>TCGA-CN-5360-01A</td>\n",
       "      <td>primary tumour</td>\n",
       "      <td>yes</td>\n",
       "      <td>0c00768e-8b13-4b8e-80fc-b344740845f1</td>\n",
       "      <td>TCGA-CN-5360-01A-01D-1431-02</td>\n",
       "      <td>Primary tumour</td>\n",
       "      <td>7ee362c2-86ad-462c-b478-21255d96ed90</td>\n",
       "    </tr>\n",
       "  </tbody>\n",
       "</table>\n",
       "<p>5 rows × 33 columns</p>\n",
       "</div>\n",
       "    <div class=\"colab-df-buttons\">\n",
       "\n",
       "  <div class=\"colab-df-container\">\n",
       "    <button class=\"colab-df-convert\" onclick=\"convertToInteractive('df-27d65af9-e98e-4b4d-86bb-b04ed331528d')\"\n",
       "            title=\"Convert this dataframe to an interactive table.\"\n",
       "            style=\"display:none;\">\n",
       "\n",
       "  <svg xmlns=\"http://www.w3.org/2000/svg\" height=\"24px\" viewBox=\"0 -960 960 960\">\n",
       "    <path d=\"M120-120v-720h720v720H120Zm60-500h600v-160H180v160Zm220 220h160v-160H400v160Zm0 220h160v-160H400v160ZM180-400h160v-160H180v160Zm440 0h160v-160H620v160ZM180-180h160v-160H180v160Zm440 0h160v-160H620v160Z\"/>\n",
       "  </svg>\n",
       "    </button>\n",
       "\n",
       "  <style>\n",
       "    .colab-df-container {\n",
       "      display:flex;\n",
       "      gap: 12px;\n",
       "    }\n",
       "\n",
       "    .colab-df-convert {\n",
       "      background-color: #E8F0FE;\n",
       "      border: none;\n",
       "      border-radius: 50%;\n",
       "      cursor: pointer;\n",
       "      display: none;\n",
       "      fill: #1967D2;\n",
       "      height: 32px;\n",
       "      padding: 0 0 0 0;\n",
       "      width: 32px;\n",
       "    }\n",
       "\n",
       "    .colab-df-convert:hover {\n",
       "      background-color: #E2EBFA;\n",
       "      box-shadow: 0px 1px 2px rgba(60, 64, 67, 0.3), 0px 1px 3px 1px rgba(60, 64, 67, 0.15);\n",
       "      fill: #174EA6;\n",
       "    }\n",
       "\n",
       "    .colab-df-buttons div {\n",
       "      margin-bottom: 4px;\n",
       "    }\n",
       "\n",
       "    [theme=dark] .colab-df-convert {\n",
       "      background-color: #3B4455;\n",
       "      fill: #D2E3FC;\n",
       "    }\n",
       "\n",
       "    [theme=dark] .colab-df-convert:hover {\n",
       "      background-color: #434B5C;\n",
       "      box-shadow: 0px 1px 3px 1px rgba(0, 0, 0, 0.15);\n",
       "      filter: drop-shadow(0px 1px 2px rgba(0, 0, 0, 0.3));\n",
       "      fill: #FFFFFF;\n",
       "    }\n",
       "  </style>\n",
       "\n",
       "    <script>\n",
       "      const buttonEl =\n",
       "        document.querySelector('#df-27d65af9-e98e-4b4d-86bb-b04ed331528d button.colab-df-convert');\n",
       "      buttonEl.style.display =\n",
       "        google.colab.kernel.accessAllowed ? 'block' : 'none';\n",
       "\n",
       "      async function convertToInteractive(key) {\n",
       "        const element = document.querySelector('#df-27d65af9-e98e-4b4d-86bb-b04ed331528d');\n",
       "        const dataTable =\n",
       "          await google.colab.kernel.invokeFunction('convertToInteractive',\n",
       "                                                    [key], {});\n",
       "        if (!dataTable) return;\n",
       "\n",
       "        const docLinkHtml = 'Like what you see? Visit the ' +\n",
       "          '<a target=\"_blank\" href=https://colab.research.google.com/notebooks/data_table.ipynb>data table notebook</a>'\n",
       "          + ' to learn more about interactive tables.';\n",
       "        element.innerHTML = '';\n",
       "        dataTable['output_type'] = 'display_data';\n",
       "        await google.colab.output.renderOutput(dataTable, element);\n",
       "        const docLink = document.createElement('div');\n",
       "        docLink.innerHTML = docLinkHtml;\n",
       "        element.appendChild(docLink);\n",
       "      }\n",
       "    </script>\n",
       "  </div>\n",
       "\n",
       "\n",
       "<div id=\"df-7cc24716-81fc-4d4b-82c0-49a90a794197\">\n",
       "  <button class=\"colab-df-quickchart\" onclick=\"quickchart('df-7cc24716-81fc-4d4b-82c0-49a90a794197')\"\n",
       "            title=\"Suggest charts\"\n",
       "            style=\"display:none;\">\n",
       "\n",
       "<svg xmlns=\"http://www.w3.org/2000/svg\" height=\"24px\"viewBox=\"0 0 24 24\"\n",
       "     width=\"24px\">\n",
       "    <g>\n",
       "        <path d=\"M19 3H5c-1.1 0-2 .9-2 2v14c0 1.1.9 2 2 2h14c1.1 0 2-.9 2-2V5c0-1.1-.9-2-2-2zM9 17H7v-7h2v7zm4 0h-2V7h2v10zm4 0h-2v-4h2v4z\"/>\n",
       "    </g>\n",
       "</svg>\n",
       "  </button>\n",
       "\n",
       "<style>\n",
       "  .colab-df-quickchart {\n",
       "      --bg-color: #E8F0FE;\n",
       "      --fill-color: #1967D2;\n",
       "      --hover-bg-color: #E2EBFA;\n",
       "      --hover-fill-color: #174EA6;\n",
       "      --disabled-fill-color: #AAA;\n",
       "      --disabled-bg-color: #DDD;\n",
       "  }\n",
       "\n",
       "  [theme=dark] .colab-df-quickchart {\n",
       "      --bg-color: #3B4455;\n",
       "      --fill-color: #D2E3FC;\n",
       "      --hover-bg-color: #434B5C;\n",
       "      --hover-fill-color: #FFFFFF;\n",
       "      --disabled-bg-color: #3B4455;\n",
       "      --disabled-fill-color: #666;\n",
       "  }\n",
       "\n",
       "  .colab-df-quickchart {\n",
       "    background-color: var(--bg-color);\n",
       "    border: none;\n",
       "    border-radius: 50%;\n",
       "    cursor: pointer;\n",
       "    display: none;\n",
       "    fill: var(--fill-color);\n",
       "    height: 32px;\n",
       "    padding: 0;\n",
       "    width: 32px;\n",
       "  }\n",
       "\n",
       "  .colab-df-quickchart:hover {\n",
       "    background-color: var(--hover-bg-color);\n",
       "    box-shadow: 0 1px 2px rgba(60, 64, 67, 0.3), 0 1px 3px 1px rgba(60, 64, 67, 0.15);\n",
       "    fill: var(--button-hover-fill-color);\n",
       "  }\n",
       "\n",
       "  .colab-df-quickchart-complete:disabled,\n",
       "  .colab-df-quickchart-complete:disabled:hover {\n",
       "    background-color: var(--disabled-bg-color);\n",
       "    fill: var(--disabled-fill-color);\n",
       "    box-shadow: none;\n",
       "  }\n",
       "\n",
       "  .colab-df-spinner {\n",
       "    border: 2px solid var(--fill-color);\n",
       "    border-color: transparent;\n",
       "    border-bottom-color: var(--fill-color);\n",
       "    animation:\n",
       "      spin 1s steps(1) infinite;\n",
       "  }\n",
       "\n",
       "  @keyframes spin {\n",
       "    0% {\n",
       "      border-color: transparent;\n",
       "      border-bottom-color: var(--fill-color);\n",
       "      border-left-color: var(--fill-color);\n",
       "    }\n",
       "    20% {\n",
       "      border-color: transparent;\n",
       "      border-left-color: var(--fill-color);\n",
       "      border-top-color: var(--fill-color);\n",
       "    }\n",
       "    30% {\n",
       "      border-color: transparent;\n",
       "      border-left-color: var(--fill-color);\n",
       "      border-top-color: var(--fill-color);\n",
       "      border-right-color: var(--fill-color);\n",
       "    }\n",
       "    40% {\n",
       "      border-color: transparent;\n",
       "      border-right-color: var(--fill-color);\n",
       "      border-top-color: var(--fill-color);\n",
       "    }\n",
       "    60% {\n",
       "      border-color: transparent;\n",
       "      border-right-color: var(--fill-color);\n",
       "    }\n",
       "    80% {\n",
       "      border-color: transparent;\n",
       "      border-right-color: var(--fill-color);\n",
       "      border-bottom-color: var(--fill-color);\n",
       "    }\n",
       "    90% {\n",
       "      border-color: transparent;\n",
       "      border-bottom-color: var(--fill-color);\n",
       "    }\n",
       "  }\n",
       "</style>\n",
       "\n",
       "  <script>\n",
       "    async function quickchart(key) {\n",
       "      const quickchartButtonEl =\n",
       "        document.querySelector('#' + key + ' button');\n",
       "      quickchartButtonEl.disabled = true;  // To prevent multiple clicks.\n",
       "      quickchartButtonEl.classList.add('colab-df-spinner');\n",
       "      try {\n",
       "        const charts = await google.colab.kernel.invokeFunction(\n",
       "            'suggestCharts', [key], {});\n",
       "      } catch (error) {\n",
       "        console.error('Error during call to suggestCharts:', error);\n",
       "      }\n",
       "      quickchartButtonEl.classList.remove('colab-df-spinner');\n",
       "      quickchartButtonEl.classList.add('colab-df-quickchart-complete');\n",
       "    }\n",
       "    (() => {\n",
       "      let quickchartButtonEl =\n",
       "        document.querySelector('#df-7cc24716-81fc-4d4b-82c0-49a90a794197 button');\n",
       "      quickchartButtonEl.style.display =\n",
       "        google.colab.kernel.accessAllowed ? 'block' : 'none';\n",
       "    })();\n",
       "  </script>\n",
       "</div>\n",
       "\n",
       "    </div>\n",
       "  </div>\n"
      ],
      "text/plain": [
       "                                      Cancer Type_x Assembly Version  \\\n",
       "0  Head and Neck Squamous Cell Carcinoma (TCGA, US)           GRCh37   \n",
       "1  Head and Neck Squamous Cell Carcinoma (TCGA, US)           GRCh37   \n",
       "2  Head and Neck Squamous Cell Carcinoma (TCGA, US)           GRCh37   \n",
       "3  Head and Neck Squamous Cell Carcinoma (TCGA, US)           GRCh37   \n",
       "4  Head and Neck Squamous Cell Carcinoma (TCGA, US)           GRCh37   \n",
       "\n",
       "   Chromosome  Chromosome start  Chromosome end  Mutation ID Mutation type  \\\n",
       "0        10.0          46478798        46479812      2190753  undetermined   \n",
       "1        10.0          46478798        46479812      2212316  undetermined   \n",
       "2        10.0          46478798        46479812      2205898  undetermined   \n",
       "3        10.0          46478798        46479812      2183483  undetermined   \n",
       "4        10.0          46478798        46479812      2214933  undetermined   \n",
       "\n",
       "   Segment mean  Analysis ID                                    Platform  ...  \\\n",
       "0          0.32        12170  Affymetrix Genome-Wide Human SNP Array 6.0  ...   \n",
       "1          0.63        12170  Affymetrix Genome-Wide Human SNP Array 6.0  ...   \n",
       "2          0.80        12170  Affymetrix Genome-Wide Human SNP Array 6.0  ...   \n",
       "3          0.56        12170  Affymetrix Genome-Wide Human SNP Array 6.0  ...   \n",
       "4          0.64        12170  Affymetrix Genome-Wide Human SNP Array 6.0  ...   \n",
       "\n",
       "  Donor vital status Survival time (days)  \\\n",
       "0              alive                274.0   \n",
       "1           deceased                379.0   \n",
       "2           deceased                351.0   \n",
       "3           deceased                492.0   \n",
       "4              alive                866.0   \n",
       "\n",
       "   Donor tumour staging system at diagnosis     Specimen ID_y Specimen type_y  \\\n",
       "0                                       6th  TCGA-CN-5374-01A  primary tumour   \n",
       "1                                       6th  TCGA-CN-5369-01A  primary tumour   \n",
       "2                                       6th  TCGA-CN-5367-01A  primary tumour   \n",
       "3                                       6th  TCGA-CN-5364-01A  primary tumour   \n",
       "4                                       6th  TCGA-CN-5360-01A  primary tumour   \n",
       "\n",
       "  Tumour confirmed_y                        Specimen notes  \\\n",
       "0                yes  617df1e0-b075-4610-b6d5-8850786fea70   \n",
       "1                yes  b4c02606-0f86-46e4-9daf-dc7dbcd60d78   \n",
       "2                yes  379f9e65-54f3-4566-b018-3f3eee6a4df4   \n",
       "3                yes  38a4ac42-be08-4187-98c2-af861218c3db   \n",
       "4                yes  0c00768e-8b13-4b8e-80fc-b344740845f1   \n",
       "\n",
       "                      Sample ID   Sample type_y  \\\n",
       "0  TCGA-CN-5374-01A-01D-1431-02  Primary tumour   \n",
       "1  TCGA-CN-5369-01A-01D-1431-02  Primary tumour   \n",
       "2  TCGA-CN-5367-01A-01D-1431-02  Primary tumour   \n",
       "3  TCGA-CN-5364-01A-01D-1431-02  Primary tumour   \n",
       "4  TCGA-CN-5360-01A-01D-1431-02  Primary tumour   \n",
       "\n",
       "                           Sample notes  \n",
       "0  dc9d40c3-0af2-481e-9e54-7b6329649eb6  \n",
       "1  1a532ca9-e72f-4906-867b-272a18cfec79  \n",
       "2  1380173d-316f-4821-8b98-654ad1050a38  \n",
       "3  6ce3d597-51f1-4807-a28f-271f25f95ed4  \n",
       "4  7ee362c2-86ad-462c-b478-21255d96ed90  \n",
       "\n",
       "[5 rows x 33 columns]"
      ]
     },
     "execution_count": 40,
     "metadata": {},
     "output_type": "execute_result"
    }
   ],
   "source": [
    "df.head()"
   ]
  },
  {
   "cell_type": "code",
   "execution_count": null,
   "metadata": {
    "colab": {
     "base_uri": "https://localhost:8080/"
    },
    "id": "cQH_cmxQ6bFI",
    "outputId": "ee6dc58a-5a2f-4a70-8ab3-f914cae2184f"
   },
   "outputs": [
    {
     "name": "stdout",
     "output_type": "stream",
     "text": [
      "<class 'pandas.core.frame.DataFrame'>\n",
      "RangeIndex: 325 entries, 0 to 324\n",
      "Data columns (total 33 columns):\n",
      " #   Column                                    Non-Null Count  Dtype  \n",
      "---  ------                                    --------------  -----  \n",
      " 0   Cancer Type_x                             325 non-null    object \n",
      " 1   Assembly Version                          325 non-null    object \n",
      " 2   Chromosome                                325 non-null    float64\n",
      " 3   Chromosome start                          325 non-null    int64  \n",
      " 4   Chromosome end                            325 non-null    int64  \n",
      " 5   Mutation ID                               325 non-null    int64  \n",
      " 6   Mutation type                             325 non-null    object \n",
      " 7   Segment mean                              325 non-null    float64\n",
      " 8   Analysis ID                               325 non-null    int64  \n",
      " 9   Platform                                  325 non-null    object \n",
      " 10  Donor ID                                  325 non-null    object \n",
      " 11  Sex_x                                     325 non-null    object \n",
      " 12  Age at diagnosis_x                        324 non-null    float64\n",
      " 13  ICD-10_x                                  325 non-null    object \n",
      " 14  Specimen ID_x                             325 non-null    object \n",
      " 15  Specimen type_x                           325 non-null    object \n",
      " 16  Tumour confirmed_x                        175 non-null    object \n",
      " 17  Analyzed sample ID                        325 non-null    object \n",
      " 18  Sample type_x                             325 non-null    object \n",
      " 19  Matched sample ID                         164 non-null    object \n",
      " 20  Age at last follow-up                     324 non-null    float64\n",
      " 21  Disease status last follow-up             288 non-null    object \n",
      " 22  Interval of last follow-up (days)         233 non-null    float64\n",
      " 23  Donor vital status                        325 non-null    object \n",
      " 24  Survival time (days)                      99 non-null     float64\n",
      " 25  Donor tumour staging system at diagnosis  325 non-null    object \n",
      " 26  Specimen ID_y                             325 non-null    object \n",
      " 27  Specimen type_y                           325 non-null    object \n",
      " 28  Tumour confirmed_y                        325 non-null    object \n",
      " 29  Specimen notes                            325 non-null    object \n",
      " 30  Sample ID                                 325 non-null    object \n",
      " 31  Sample type_y                             325 non-null    object \n",
      " 32  Sample notes                              325 non-null    object \n",
      "dtypes: float64(6), int64(4), object(23)\n",
      "memory usage: 83.9+ KB\n"
     ]
    }
   ],
   "source": [
    "df.info()"
   ]
  },
  {
   "cell_type": "code",
   "execution_count": null,
   "metadata": {
    "id": "mf3t5Vki6bF0"
   },
   "outputs": [],
   "source": [
    "# Boucle pour parcourir chaque colonne\n",
    "for colonne in NewDataset.columns:\n",
    "    # Afficher le nom de la colonne\n",
    "    print(f\"Colonne : {colonne}\")\n",
    "    # Afficher les différentes valeurs uniques de la colonne\n",
    "    print(NewDataset[colonne].unique())\n",
    "    print(\"\\n\")\n"
   ]
  },
  {
   "cell_type": "code",
   "execution_count": null,
   "metadata": {
    "id": "oVC3tsae6bF-"
   },
   "outputs": [],
   "source": [
    "colonnes_a_supprimer = [ 'Cancer Type_x','Assembly Version','Platform','Specimen type_x','Tumour confirmed_x','Sample type_x','Disease status last follow-up','Matched sample ID']\n",
    "\n",
    "# Supprimer les colonnes spécifiées\n",
    "df.drop(columns=colonnes_a_supprimer, inplace=True)"
   ]
  },
  {
   "cell_type": "code",
   "execution_count": null,
   "metadata": {
    "colab": {
     "base_uri": "https://localhost:8080/"
    },
    "id": "KgCWaa5kWg9Y",
    "outputId": "23c32a45-41d9-492b-ee27-d90c35ced423"
   },
   "outputs": [
    {
     "data": {
      "text/plain": [
       "Index(['Chromosome', 'Chromosome start', 'Chromosome end', 'Mutation ID',\n",
       "       'Mutation type', 'Segment mean', 'Analysis ID', 'Donor ID', 'Sex_x',\n",
       "       'Age at diagnosis_x', 'ICD-10_x', 'Specimen ID_x', 'Analyzed sample ID',\n",
       "       'Age at last follow-up', 'Interval of last follow-up (days)',\n",
       "       'Donor vital status', 'Survival time (days)',\n",
       "       'Donor tumour staging system at diagnosis', 'Specimen ID_y',\n",
       "       'Specimen type_y', 'Tumour confirmed_y', 'Specimen notes', 'Sample ID',\n",
       "       'Sample type_y', 'Sample notes'],\n",
       "      dtype='object')"
      ]
     },
     "execution_count": 43,
     "metadata": {},
     "output_type": "execute_result"
    }
   ],
   "source": [
    "df.columns"
   ]
  },
  {
   "cell_type": "code",
   "execution_count": null,
   "metadata": {
    "id": "mJsQDz_cPmMl"
   },
   "outputs": [],
   "source": [
    "df1 = df.drop_duplicates('Donor ID')"
   ]
  },
  {
   "cell_type": "code",
   "execution_count": null,
   "metadata": {
    "id": "gCocyfXzgCKO"
   },
   "outputs": [],
   "source": [
    "df1['Survival time (days)'].fillna(df1['Interval of last follow-up (days)'], inplace=True)"
   ]
  },
  {
   "cell_type": "code",
   "execution_count": null,
   "metadata": {
    "id": "ts9es8VEgcqq"
   },
   "outputs": [],
   "source": [
    "# Supprimer les lignes contenant des valeurs manquantes\n",
    "df1 = df1.dropna(subset=[\"Survival time (days)\"])"
   ]
  },
  {
   "cell_type": "code",
   "execution_count": null,
   "metadata": {
    "colab": {
     "base_uri": "https://localhost:8080/"
    },
    "id": "8iX5z2YI28jI",
    "outputId": "b0b53f31-68b1-4559-b1fa-640578071b32"
   },
   "outputs": [
    {
     "data": {
      "text/plain": [
       "(233, 25)"
      ]
     },
     "execution_count": 47,
     "metadata": {},
     "output_type": "execute_result"
    }
   ],
   "source": [
    "df1.shape"
   ]
  },
  {
   "cell_type": "code",
   "execution_count": null,
   "metadata": {
    "colab": {
     "base_uri": "https://localhost:8080/"
    },
    "id": "VLn0zF3ygQTE",
    "outputId": "4d11a9e3-3e4e-48f0-e503-41b01f3c0f1d"
   },
   "outputs": [
    {
     "name": "stdout",
     "output_type": "stream",
     "text": [
      "<class 'pandas.core.frame.DataFrame'>\n",
      "Index: 233 entries, 0 to 324\n",
      "Data columns (total 25 columns):\n",
      " #   Column                                    Non-Null Count  Dtype  \n",
      "---  ------                                    --------------  -----  \n",
      " 0   Chromosome                                233 non-null    float64\n",
      " 1   Chromosome start                          233 non-null    int64  \n",
      " 2   Chromosome end                            233 non-null    int64  \n",
      " 3   Mutation ID                               233 non-null    int64  \n",
      " 4   Mutation type                             233 non-null    object \n",
      " 5   Segment mean                              233 non-null    float64\n",
      " 6   Analysis ID                               233 non-null    int64  \n",
      " 7   Donor ID                                  233 non-null    object \n",
      " 8   Sex_x                                     233 non-null    object \n",
      " 9   Age at diagnosis_x                        233 non-null    float64\n",
      " 10  ICD-10_x                                  233 non-null    object \n",
      " 11  Specimen ID_x                             233 non-null    object \n",
      " 12  Analyzed sample ID                        233 non-null    object \n",
      " 13  Age at last follow-up                     233 non-null    float64\n",
      " 14  Interval of last follow-up (days)         233 non-null    float64\n",
      " 15  Donor vital status                        233 non-null    object \n",
      " 16  Survival time (days)                      233 non-null    float64\n",
      " 17  Donor tumour staging system at diagnosis  233 non-null    object \n",
      " 18  Specimen ID_y                             233 non-null    object \n",
      " 19  Specimen type_y                           233 non-null    object \n",
      " 20  Tumour confirmed_y                        233 non-null    object \n",
      " 21  Specimen notes                            233 non-null    object \n",
      " 22  Sample ID                                 233 non-null    object \n",
      " 23  Sample type_y                             233 non-null    object \n",
      " 24  Sample notes                              233 non-null    object \n",
      "dtypes: float64(6), int64(4), object(15)\n",
      "memory usage: 47.3+ KB\n"
     ]
    }
   ],
   "source": [
    "df1.info()"
   ]
  },
  {
   "cell_type": "code",
   "execution_count": null,
   "metadata": {
    "id": "lxxyTyPKuQpD"
   },
   "outputs": [],
   "source": [
    "# Remplacez les valeurs de la colonne 'Donor vital status'\n",
    "df1['Donor vital status'] = df1['Donor vital status'].replace({'alive': 1, 'deceased': 0})"
   ]
  },
  {
   "cell_type": "code",
   "execution_count": null,
   "metadata": {
    "colab": {
     "base_uri": "https://localhost:8080/",
     "height": 846
    },
    "id": "5yLCqrIHcZBQ",
    "outputId": "826152e2-46e4-4a85-a5ec-d2e88fe8d635"
   },
   "outputs": [
    {
     "data": {
      "application/vnd.google.colaboratory.intrinsic+json": {
       "type": "dataframe",
       "variable_name": "df1"
      },
      "text/html": [
       "\n",
       "  <div id=\"df-a9a6f648-e274-4e16-a192-f8a564532826\" class=\"colab-df-container\">\n",
       "    <div>\n",
       "<style scoped>\n",
       "    .dataframe tbody tr th:only-of-type {\n",
       "        vertical-align: middle;\n",
       "    }\n",
       "\n",
       "    .dataframe tbody tr th {\n",
       "        vertical-align: top;\n",
       "    }\n",
       "\n",
       "    .dataframe thead th {\n",
       "        text-align: right;\n",
       "    }\n",
       "</style>\n",
       "<table border=\"1\" class=\"dataframe\">\n",
       "  <thead>\n",
       "    <tr style=\"text-align: right;\">\n",
       "      <th></th>\n",
       "      <th>Chromosome</th>\n",
       "      <th>Chromosome start</th>\n",
       "      <th>Chromosome end</th>\n",
       "      <th>Mutation ID</th>\n",
       "      <th>Mutation type</th>\n",
       "      <th>Segment mean</th>\n",
       "      <th>Analysis ID</th>\n",
       "      <th>Donor ID</th>\n",
       "      <th>Sex_x</th>\n",
       "      <th>Age at diagnosis_x</th>\n",
       "      <th>...</th>\n",
       "      <th>Donor vital status</th>\n",
       "      <th>Survival time (days)</th>\n",
       "      <th>Donor tumour staging system at diagnosis</th>\n",
       "      <th>Specimen ID_y</th>\n",
       "      <th>Specimen type_y</th>\n",
       "      <th>Tumour confirmed_y</th>\n",
       "      <th>Specimen notes</th>\n",
       "      <th>Sample ID</th>\n",
       "      <th>Sample type_y</th>\n",
       "      <th>Sample notes</th>\n",
       "    </tr>\n",
       "  </thead>\n",
       "  <tbody>\n",
       "    <tr>\n",
       "      <th>0</th>\n",
       "      <td>10.0</td>\n",
       "      <td>46478798</td>\n",
       "      <td>46479812</td>\n",
       "      <td>2190753</td>\n",
       "      <td>undetermined</td>\n",
       "      <td>0.32</td>\n",
       "      <td>12170</td>\n",
       "      <td>TCGA-CN-5374</td>\n",
       "      <td>female</td>\n",
       "      <td>56.0</td>\n",
       "      <td>...</td>\n",
       "      <td>1</td>\n",
       "      <td>274.0</td>\n",
       "      <td>6th</td>\n",
       "      <td>TCGA-CN-5374-01A</td>\n",
       "      <td>primary tumour</td>\n",
       "      <td>yes</td>\n",
       "      <td>617df1e0-b075-4610-b6d5-8850786fea70</td>\n",
       "      <td>TCGA-CN-5374-01A-01D-1431-02</td>\n",
       "      <td>Primary tumour</td>\n",
       "      <td>dc9d40c3-0af2-481e-9e54-7b6329649eb6</td>\n",
       "    </tr>\n",
       "    <tr>\n",
       "      <th>1</th>\n",
       "      <td>10.0</td>\n",
       "      <td>46478798</td>\n",
       "      <td>46479812</td>\n",
       "      <td>2212316</td>\n",
       "      <td>undetermined</td>\n",
       "      <td>0.63</td>\n",
       "      <td>12170</td>\n",
       "      <td>TCGA-CN-5369</td>\n",
       "      <td>female</td>\n",
       "      <td>90.0</td>\n",
       "      <td>...</td>\n",
       "      <td>0</td>\n",
       "      <td>379.0</td>\n",
       "      <td>6th</td>\n",
       "      <td>TCGA-CN-5369-01A</td>\n",
       "      <td>primary tumour</td>\n",
       "      <td>yes</td>\n",
       "      <td>b4c02606-0f86-46e4-9daf-dc7dbcd60d78</td>\n",
       "      <td>TCGA-CN-5369-01A-01D-1431-02</td>\n",
       "      <td>Primary tumour</td>\n",
       "      <td>1a532ca9-e72f-4906-867b-272a18cfec79</td>\n",
       "    </tr>\n",
       "    <tr>\n",
       "      <th>2</th>\n",
       "      <td>10.0</td>\n",
       "      <td>46478798</td>\n",
       "      <td>46479812</td>\n",
       "      <td>2205898</td>\n",
       "      <td>undetermined</td>\n",
       "      <td>0.80</td>\n",
       "      <td>12170</td>\n",
       "      <td>TCGA-CN-5367</td>\n",
       "      <td>female</td>\n",
       "      <td>60.0</td>\n",
       "      <td>...</td>\n",
       "      <td>0</td>\n",
       "      <td>351.0</td>\n",
       "      <td>6th</td>\n",
       "      <td>TCGA-CN-5367-01A</td>\n",
       "      <td>primary tumour</td>\n",
       "      <td>yes</td>\n",
       "      <td>379f9e65-54f3-4566-b018-3f3eee6a4df4</td>\n",
       "      <td>TCGA-CN-5367-01A-01D-1431-02</td>\n",
       "      <td>Primary tumour</td>\n",
       "      <td>1380173d-316f-4821-8b98-654ad1050a38</td>\n",
       "    </tr>\n",
       "    <tr>\n",
       "      <th>3</th>\n",
       "      <td>10.0</td>\n",
       "      <td>46478798</td>\n",
       "      <td>46479812</td>\n",
       "      <td>2183483</td>\n",
       "      <td>undetermined</td>\n",
       "      <td>0.56</td>\n",
       "      <td>12170</td>\n",
       "      <td>TCGA-CN-5364</td>\n",
       "      <td>male</td>\n",
       "      <td>55.0</td>\n",
       "      <td>...</td>\n",
       "      <td>0</td>\n",
       "      <td>492.0</td>\n",
       "      <td>6th</td>\n",
       "      <td>TCGA-CN-5364-01A</td>\n",
       "      <td>primary tumour</td>\n",
       "      <td>yes</td>\n",
       "      <td>38a4ac42-be08-4187-98c2-af861218c3db</td>\n",
       "      <td>TCGA-CN-5364-01A-01D-1431-02</td>\n",
       "      <td>Primary tumour</td>\n",
       "      <td>6ce3d597-51f1-4807-a28f-271f25f95ed4</td>\n",
       "    </tr>\n",
       "    <tr>\n",
       "      <th>4</th>\n",
       "      <td>10.0</td>\n",
       "      <td>46478798</td>\n",
       "      <td>46479812</td>\n",
       "      <td>2214933</td>\n",
       "      <td>undetermined</td>\n",
       "      <td>0.64</td>\n",
       "      <td>12170</td>\n",
       "      <td>TCGA-CN-5360</td>\n",
       "      <td>male</td>\n",
       "      <td>68.0</td>\n",
       "      <td>...</td>\n",
       "      <td>1</td>\n",
       "      <td>866.0</td>\n",
       "      <td>6th</td>\n",
       "      <td>TCGA-CN-5360-01A</td>\n",
       "      <td>primary tumour</td>\n",
       "      <td>yes</td>\n",
       "      <td>0c00768e-8b13-4b8e-80fc-b344740845f1</td>\n",
       "      <td>TCGA-CN-5360-01A-01D-1431-02</td>\n",
       "      <td>Primary tumour</td>\n",
       "      <td>7ee362c2-86ad-462c-b478-21255d96ed90</td>\n",
       "    </tr>\n",
       "  </tbody>\n",
       "</table>\n",
       "<p>5 rows × 25 columns</p>\n",
       "</div>\n",
       "    <div class=\"colab-df-buttons\">\n",
       "\n",
       "  <div class=\"colab-df-container\">\n",
       "    <button class=\"colab-df-convert\" onclick=\"convertToInteractive('df-a9a6f648-e274-4e16-a192-f8a564532826')\"\n",
       "            title=\"Convert this dataframe to an interactive table.\"\n",
       "            style=\"display:none;\">\n",
       "\n",
       "  <svg xmlns=\"http://www.w3.org/2000/svg\" height=\"24px\" viewBox=\"0 -960 960 960\">\n",
       "    <path d=\"M120-120v-720h720v720H120Zm60-500h600v-160H180v160Zm220 220h160v-160H400v160Zm0 220h160v-160H400v160ZM180-400h160v-160H180v160Zm440 0h160v-160H620v160ZM180-180h160v-160H180v160Zm440 0h160v-160H620v160Z\"/>\n",
       "  </svg>\n",
       "    </button>\n",
       "\n",
       "  <style>\n",
       "    .colab-df-container {\n",
       "      display:flex;\n",
       "      gap: 12px;\n",
       "    }\n",
       "\n",
       "    .colab-df-convert {\n",
       "      background-color: #E8F0FE;\n",
       "      border: none;\n",
       "      border-radius: 50%;\n",
       "      cursor: pointer;\n",
       "      display: none;\n",
       "      fill: #1967D2;\n",
       "      height: 32px;\n",
       "      padding: 0 0 0 0;\n",
       "      width: 32px;\n",
       "    }\n",
       "\n",
       "    .colab-df-convert:hover {\n",
       "      background-color: #E2EBFA;\n",
       "      box-shadow: 0px 1px 2px rgba(60, 64, 67, 0.3), 0px 1px 3px 1px rgba(60, 64, 67, 0.15);\n",
       "      fill: #174EA6;\n",
       "    }\n",
       "\n",
       "    .colab-df-buttons div {\n",
       "      margin-bottom: 4px;\n",
       "    }\n",
       "\n",
       "    [theme=dark] .colab-df-convert {\n",
       "      background-color: #3B4455;\n",
       "      fill: #D2E3FC;\n",
       "    }\n",
       "\n",
       "    [theme=dark] .colab-df-convert:hover {\n",
       "      background-color: #434B5C;\n",
       "      box-shadow: 0px 1px 3px 1px rgba(0, 0, 0, 0.15);\n",
       "      filter: drop-shadow(0px 1px 2px rgba(0, 0, 0, 0.3));\n",
       "      fill: #FFFFFF;\n",
       "    }\n",
       "  </style>\n",
       "\n",
       "    <script>\n",
       "      const buttonEl =\n",
       "        document.querySelector('#df-a9a6f648-e274-4e16-a192-f8a564532826 button.colab-df-convert');\n",
       "      buttonEl.style.display =\n",
       "        google.colab.kernel.accessAllowed ? 'block' : 'none';\n",
       "\n",
       "      async function convertToInteractive(key) {\n",
       "        const element = document.querySelector('#df-a9a6f648-e274-4e16-a192-f8a564532826');\n",
       "        const dataTable =\n",
       "          await google.colab.kernel.invokeFunction('convertToInteractive',\n",
       "                                                    [key], {});\n",
       "        if (!dataTable) return;\n",
       "\n",
       "        const docLinkHtml = 'Like what you see? Visit the ' +\n",
       "          '<a target=\"_blank\" href=https://colab.research.google.com/notebooks/data_table.ipynb>data table notebook</a>'\n",
       "          + ' to learn more about interactive tables.';\n",
       "        element.innerHTML = '';\n",
       "        dataTable['output_type'] = 'display_data';\n",
       "        await google.colab.output.renderOutput(dataTable, element);\n",
       "        const docLink = document.createElement('div');\n",
       "        docLink.innerHTML = docLinkHtml;\n",
       "        element.appendChild(docLink);\n",
       "      }\n",
       "    </script>\n",
       "  </div>\n",
       "\n",
       "\n",
       "<div id=\"df-b66e16ec-9396-4fad-9b75-c3e54fb148fc\">\n",
       "  <button class=\"colab-df-quickchart\" onclick=\"quickchart('df-b66e16ec-9396-4fad-9b75-c3e54fb148fc')\"\n",
       "            title=\"Suggest charts\"\n",
       "            style=\"display:none;\">\n",
       "\n",
       "<svg xmlns=\"http://www.w3.org/2000/svg\" height=\"24px\"viewBox=\"0 0 24 24\"\n",
       "     width=\"24px\">\n",
       "    <g>\n",
       "        <path d=\"M19 3H5c-1.1 0-2 .9-2 2v14c0 1.1.9 2 2 2h14c1.1 0 2-.9 2-2V5c0-1.1-.9-2-2-2zM9 17H7v-7h2v7zm4 0h-2V7h2v10zm4 0h-2v-4h2v4z\"/>\n",
       "    </g>\n",
       "</svg>\n",
       "  </button>\n",
       "\n",
       "<style>\n",
       "  .colab-df-quickchart {\n",
       "      --bg-color: #E8F0FE;\n",
       "      --fill-color: #1967D2;\n",
       "      --hover-bg-color: #E2EBFA;\n",
       "      --hover-fill-color: #174EA6;\n",
       "      --disabled-fill-color: #AAA;\n",
       "      --disabled-bg-color: #DDD;\n",
       "  }\n",
       "\n",
       "  [theme=dark] .colab-df-quickchart {\n",
       "      --bg-color: #3B4455;\n",
       "      --fill-color: #D2E3FC;\n",
       "      --hover-bg-color: #434B5C;\n",
       "      --hover-fill-color: #FFFFFF;\n",
       "      --disabled-bg-color: #3B4455;\n",
       "      --disabled-fill-color: #666;\n",
       "  }\n",
       "\n",
       "  .colab-df-quickchart {\n",
       "    background-color: var(--bg-color);\n",
       "    border: none;\n",
       "    border-radius: 50%;\n",
       "    cursor: pointer;\n",
       "    display: none;\n",
       "    fill: var(--fill-color);\n",
       "    height: 32px;\n",
       "    padding: 0;\n",
       "    width: 32px;\n",
       "  }\n",
       "\n",
       "  .colab-df-quickchart:hover {\n",
       "    background-color: var(--hover-bg-color);\n",
       "    box-shadow: 0 1px 2px rgba(60, 64, 67, 0.3), 0 1px 3px 1px rgba(60, 64, 67, 0.15);\n",
       "    fill: var(--button-hover-fill-color);\n",
       "  }\n",
       "\n",
       "  .colab-df-quickchart-complete:disabled,\n",
       "  .colab-df-quickchart-complete:disabled:hover {\n",
       "    background-color: var(--disabled-bg-color);\n",
       "    fill: var(--disabled-fill-color);\n",
       "    box-shadow: none;\n",
       "  }\n",
       "\n",
       "  .colab-df-spinner {\n",
       "    border: 2px solid var(--fill-color);\n",
       "    border-color: transparent;\n",
       "    border-bottom-color: var(--fill-color);\n",
       "    animation:\n",
       "      spin 1s steps(1) infinite;\n",
       "  }\n",
       "\n",
       "  @keyframes spin {\n",
       "    0% {\n",
       "      border-color: transparent;\n",
       "      border-bottom-color: var(--fill-color);\n",
       "      border-left-color: var(--fill-color);\n",
       "    }\n",
       "    20% {\n",
       "      border-color: transparent;\n",
       "      border-left-color: var(--fill-color);\n",
       "      border-top-color: var(--fill-color);\n",
       "    }\n",
       "    30% {\n",
       "      border-color: transparent;\n",
       "      border-left-color: var(--fill-color);\n",
       "      border-top-color: var(--fill-color);\n",
       "      border-right-color: var(--fill-color);\n",
       "    }\n",
       "    40% {\n",
       "      border-color: transparent;\n",
       "      border-right-color: var(--fill-color);\n",
       "      border-top-color: var(--fill-color);\n",
       "    }\n",
       "    60% {\n",
       "      border-color: transparent;\n",
       "      border-right-color: var(--fill-color);\n",
       "    }\n",
       "    80% {\n",
       "      border-color: transparent;\n",
       "      border-right-color: var(--fill-color);\n",
       "      border-bottom-color: var(--fill-color);\n",
       "    }\n",
       "    90% {\n",
       "      border-color: transparent;\n",
       "      border-bottom-color: var(--fill-color);\n",
       "    }\n",
       "  }\n",
       "</style>\n",
       "\n",
       "  <script>\n",
       "    async function quickchart(key) {\n",
       "      const quickchartButtonEl =\n",
       "        document.querySelector('#' + key + ' button');\n",
       "      quickchartButtonEl.disabled = true;  // To prevent multiple clicks.\n",
       "      quickchartButtonEl.classList.add('colab-df-spinner');\n",
       "      try {\n",
       "        const charts = await google.colab.kernel.invokeFunction(\n",
       "            'suggestCharts', [key], {});\n",
       "      } catch (error) {\n",
       "        console.error('Error during call to suggestCharts:', error);\n",
       "      }\n",
       "      quickchartButtonEl.classList.remove('colab-df-spinner');\n",
       "      quickchartButtonEl.classList.add('colab-df-quickchart-complete');\n",
       "    }\n",
       "    (() => {\n",
       "      let quickchartButtonEl =\n",
       "        document.querySelector('#df-b66e16ec-9396-4fad-9b75-c3e54fb148fc button');\n",
       "      quickchartButtonEl.style.display =\n",
       "        google.colab.kernel.accessAllowed ? 'block' : 'none';\n",
       "    })();\n",
       "  </script>\n",
       "</div>\n",
       "\n",
       "    </div>\n",
       "  </div>\n"
      ],
      "text/plain": [
       "   Chromosome  Chromosome start  Chromosome end  Mutation ID Mutation type  \\\n",
       "0        10.0          46478798        46479812      2190753  undetermined   \n",
       "1        10.0          46478798        46479812      2212316  undetermined   \n",
       "2        10.0          46478798        46479812      2205898  undetermined   \n",
       "3        10.0          46478798        46479812      2183483  undetermined   \n",
       "4        10.0          46478798        46479812      2214933  undetermined   \n",
       "\n",
       "   Segment mean  Analysis ID      Donor ID   Sex_x  Age at diagnosis_x  ...  \\\n",
       "0          0.32        12170  TCGA-CN-5374  female                56.0  ...   \n",
       "1          0.63        12170  TCGA-CN-5369  female                90.0  ...   \n",
       "2          0.80        12170  TCGA-CN-5367  female                60.0  ...   \n",
       "3          0.56        12170  TCGA-CN-5364    male                55.0  ...   \n",
       "4          0.64        12170  TCGA-CN-5360    male                68.0  ...   \n",
       "\n",
       "  Donor vital status Survival time (days)  \\\n",
       "0                  1                274.0   \n",
       "1                  0                379.0   \n",
       "2                  0                351.0   \n",
       "3                  0                492.0   \n",
       "4                  1                866.0   \n",
       "\n",
       "  Donor tumour staging system at diagnosis     Specimen ID_y  Specimen type_y  \\\n",
       "0                                      6th  TCGA-CN-5374-01A   primary tumour   \n",
       "1                                      6th  TCGA-CN-5369-01A   primary tumour   \n",
       "2                                      6th  TCGA-CN-5367-01A   primary tumour   \n",
       "3                                      6th  TCGA-CN-5364-01A   primary tumour   \n",
       "4                                      6th  TCGA-CN-5360-01A   primary tumour   \n",
       "\n",
       "   Tumour confirmed_y                        Specimen notes  \\\n",
       "0                 yes  617df1e0-b075-4610-b6d5-8850786fea70   \n",
       "1                 yes  b4c02606-0f86-46e4-9daf-dc7dbcd60d78   \n",
       "2                 yes  379f9e65-54f3-4566-b018-3f3eee6a4df4   \n",
       "3                 yes  38a4ac42-be08-4187-98c2-af861218c3db   \n",
       "4                 yes  0c00768e-8b13-4b8e-80fc-b344740845f1   \n",
       "\n",
       "                      Sample ID   Sample type_y  \\\n",
       "0  TCGA-CN-5374-01A-01D-1431-02  Primary tumour   \n",
       "1  TCGA-CN-5369-01A-01D-1431-02  Primary tumour   \n",
       "2  TCGA-CN-5367-01A-01D-1431-02  Primary tumour   \n",
       "3  TCGA-CN-5364-01A-01D-1431-02  Primary tumour   \n",
       "4  TCGA-CN-5360-01A-01D-1431-02  Primary tumour   \n",
       "\n",
       "                           Sample notes  \n",
       "0  dc9d40c3-0af2-481e-9e54-7b6329649eb6  \n",
       "1  1a532ca9-e72f-4906-867b-272a18cfec79  \n",
       "2  1380173d-316f-4821-8b98-654ad1050a38  \n",
       "3  6ce3d597-51f1-4807-a28f-271f25f95ed4  \n",
       "4  7ee362c2-86ad-462c-b478-21255d96ed90  \n",
       "\n",
       "[5 rows x 25 columns]"
      ]
     },
     "execution_count": 51,
     "metadata": {},
     "output_type": "execute_result"
    }
   ],
   "source": [
    "df1.head()"
   ]
  },
  {
   "cell_type": "code",
   "execution_count": null,
   "metadata": {
    "colab": {
     "base_uri": "https://localhost:8080/",
     "height": 638
    },
    "id": "Tffl9OrAc9UQ",
    "outputId": "89a85378-f44f-4186-c0b5-eadcd14c47f8"
   },
   "outputs": [
    {
     "data": {
      "image/png": "[encoded data removed]",
      "text/plain": [
       "<Figure size 640x480 with 2 Axes>"
      ]
     },
     "metadata": {},
     "output_type": "display_data"
    }
   ],
   "source": [
    "# Exclure les colonnes non numériques\n",
    "numerical_columns = df1.select_dtypes(include=['float64', 'int64'])\n",
    "\n",
    "# Calculer la matrice de corrélation\n",
    "corr_matrix = numerical_columns.corr()\n",
    "\n",
    "sns.heatmap(corr_matrix, annot=True, cmap='coolwarm')\n",
    "plt.show()\n"
   ]
  },
  {
   "cell_type": "markdown",
   "metadata": {
    "id": "-aQLHPeE50Db"
   },
   "source": [
    "# Régression"
   ]
  },
  {
   "cell_type": "markdown",
   "metadata": {},
   "source": [
    "Le but est de prédire le nombre des jours de survie des patients"
   ]
  },
  {
   "cell_type": "markdown",
   "metadata": {},
   "source": [
    "## Régession linéaire"
   ]
  },
  {
   "cell_type": "code",
   "execution_count": 4,
   "metadata": {},
   "outputs": [],
   "source": [
    "from sklearn.model_selection import train_test_split\n",
    "from sklearn.linear_model import LinearRegression\n",
    "from sklearn.metrics import mean_squared_error"
   ]
  },
  {
   "cell_type": "code",
   "execution_count": 10,
   "metadata": {},
   "outputs": [],
   "source": [
    "# Remplacez les valeurs de la colonne 'Sex_x'\n",
    "df['Sex_x'] = df['Sex_x'].replace({'female': 1, 'male': 0})"
   ]
  },
  {
   "cell_type": "code",
   "execution_count": 15,
   "metadata": {},
   "outputs": [],
   "source": [
    "# Convertir le stade du cancer en un float pour entrainer le modèle aisemment\n",
    "df['Donor tumour staging system at diagnosis'] = df['Donor tumour staging system at diagnosis'].str.extract('(\\d+)').astype(float)"
   ]
  },
  {
   "cell_type": "code",
   "execution_count": 42,
   "metadata": {},
   "outputs": [],
   "source": [
    "# Sélection des caractéristiques pertinentes\n",
    "features = ['Sex_x','Chromosome','Chromosome start','Chromosome end','Mutation ID','Segment mean', 'Age at diagnosis_x','Age at last follow-up', 'Donor tumour staging system at diagnosis', 'Interval of last follow-up (days)']"
   ]
  },
  {
   "cell_type": "code",
   "execution_count": 43,
   "metadata": {},
   "outputs": [],
   "source": [
    "# Sélection des caractéristiques pertinentes et de la variable cible\n",
    "X = df[features]\n",
    "y = df['Survival time (days)']"
   ]
  },
  {
   "cell_type": "code",
   "execution_count": 44,
   "metadata": {},
   "outputs": [],
   "source": [
    "# Séparer les données en ensembles d'entraînement et de test\n",
    "X_train, X_test, y_train, y_test = train_test_split(X, y, test_size=0.2, random_state=42)"
   ]
  },
  {
   "cell_type": "code",
   "execution_count": 45,
   "metadata": {},
   "outputs": [],
   "source": [
    "# Instancier le modèle de régression linéaire\n",
    "model = LinearRegression()\n",
    "\n",
    "# Entraîner le modèle sur l'ensemble d'entraînement\n",
    "model.fit(X_train, y_train)\n",
    "\n",
    "# Prédire sur l'ensemble de test\n",
    "y_pred = model.predict(X_test)"
   ]
  },
  {
   "cell_type": "code",
   "execution_count": 46,
   "metadata": {},
   "outputs": [
    {
     "name": "stdout",
     "output_type": "stream",
     "text": [
      "Mean Squared Error: 1978.5686203370697\n"
     ]
    }
   ],
   "source": [
    "# Calculer l'erreur quadratique moyenne\n",
    "mse = mean_squared_error(y_test, y_pred)\n",
    "print(\"Mean Squared Error:\", mse)"
   ]
  },
  {
   "cell_type": "markdown",
   "metadata": {},
   "source": [
    "Cela indique en général que notre modèle de régression linéaire a une certaine erreur dans ses prédictions.Ainsi, il faut améliorer le modèle en mettant en place plusieurs ajustements."
   ]
  },
  {
   "cell_type": "markdown",
   "metadata": {},
   "source": [
    "## Ajustement du modèle en enlevant les variables non significatives "
   ]
  },
  {
   "cell_type": "code",
   "execution_count": 56,
   "metadata": {},
   "outputs": [
    {
     "name": "stdout",
     "output_type": "stream",
     "text": [
      "                             OLS Regression Results                             \n",
      "================================================================================\n",
      "Dep. Variable:     Survival time (days)   R-squared:                       0.998\n",
      "Model:                              OLS   Adj. R-squared:                  0.998\n",
      "Method:                   Least Squares   F-statistic:                 5.104e+04\n",
      "Date:                  Fri, 19 Apr 2024   Prob (F-statistic):          2.85e-305\n",
      "Time:                          00:24:26   Log-Likelihood:                -1181.5\n",
      "No. Observations:                   233   AIC:                             2369.\n",
      "Df Residuals:                       230   BIC:                             2379.\n",
      "Df Model:                             2                                         \n",
      "Covariance Type:              nonrobust                                         \n",
      "============================================================================================================\n",
      "                                               coef    std err          t      P>|t|      [0.025      0.975]\n",
      "------------------------------------------------------------------------------------------------------------\n",
      "const                                      -87.3550     35.553     -2.457      0.015    -157.407     -17.303\n",
      "Donor tumour staging system at diagnosis    12.0135      5.297      2.268      0.024       1.577      22.450\n",
      "Interval of last follow-up (days)            1.0034      0.003    317.214      0.000       0.997       1.010\n",
      "==============================================================================\n",
      "Omnibus:                      239.022   Durbin-Watson:                   2.069\n",
      "Prob(Omnibus):                  0.000   Jarque-Bera (JB):            19379.961\n",
      "Skew:                          -3.650   Prob(JB):                         0.00\n",
      "Kurtosis:                      47.079   Cond. No.                     1.54e+04\n",
      "==============================================================================\n",
      "\n",
      "Warnings:\n",
      "[1] Standard Errors assume that the covariance matrix of the errors is correctly specified.\n",
      "[2] The condition number is large, 1.54e+04. This might indicate that there are\n",
      "strong multicollinearity or other numerical problems.\n"
     ]
    }
   ],
   "source": [
    "import statsmodels.api as sm\n",
    "\n",
    "# Ajouter une colonne constante à la matrice de caractéristiques\n",
    "X_with_const = sm.add_constant(X)\n",
    "\n",
    "# Ajuster le modèle de régression linéaire multiple\n",
    "model = sm.OLS(y, X_with_const).fit()\n",
    "\n",
    "# Obtenir les résultats du test de Student pour chaque coefficient\n",
    "t_test_results = model.summary().tables[1]\n",
    "\n",
    "# Extraire les p-values des coefficients\n",
    "p_values = model.pvalues[1:]  # Exclure la constante\n",
    "\n",
    "# Identifier les indices des variables non significatives (p-value > seuil)\n",
    "seuil = 0.05\n",
    "non_significatives = p_values[p_values > seuil].index\n",
    "\n",
    "# Supprimer les variables non significatives du modèle\n",
    "X_filtre = X.drop(non_significatives, axis=1)\n",
    "\n",
    "# Ajuster un nouveau modèle avec les variables filtrées\n",
    "model_filtre = sm.OLS(y, sm.add_constant(X_filtre)).fit()\n",
    "\n",
    "# Afficher les résultats du modèle filtré\n",
    "print(model_filtre.summary())"
   ]
  },
  {
   "cell_type": "markdown",
   "metadata": {},
   "source": [
    "Les résultats de la régression linéaire multiple (RLM) montrent un modèle ajusté avec un très bon ajustement aux données, avec un coefficient de détermination R² de 0,998. Cela signifie que le modèle explique près de 99,8 % de la variance dans le temps de survie des patients atteints de carcinome épidermoïde de la cavité buccale et du pharynx. L'ajustement du modèle a conduit à la suppression des variables non significatives, ce qui a amélioré la performance globale du modèle. \n",
    "\n",
    "Les coefficients de régression pour les variables significatives indiquent que chaque augmentation d'une unité dans la variable \"Interval of last follow-up (days)\" est associée à une augmentation moyenne de 1,0034 unité dans le temps de survie des patients. Les p-values associées à ces coefficients sont toutes deux significatives (p < 0,05), ce qui indique une relation statistiquement significative entre ces variables et le temps de survie."
   ]
  },
  {
   "cell_type": "markdown",
   "metadata": {},
   "source": [
    "## Transformation des caractéristiques et ajout de termes polynomiaux "
   ]
  },
  {
   "cell_type": "code",
   "execution_count": 59,
   "metadata": {},
   "outputs": [],
   "source": [
    "from sklearn.preprocessing import PolynomialFeatures\n",
    "\n",
    "# Création de l'objet PolynomialFeatures pour ajouter des termes polynomiaux jusqu'au degré 2\n",
    "poly = PolynomialFeatures(degree=2, include_bias=False)\n",
    "\n",
    "# Transformation des caractéristiques\n",
    "X_poly = poly.fit_transform(X_filtre)"
   ]
  },
  {
   "cell_type": "code",
   "execution_count": 60,
   "metadata": {},
   "outputs": [
    {
     "name": "stdout",
     "output_type": "stream",
     "text": [
      "Mean Squared Error with Polynomial Features: 1716.898984857758\n"
     ]
    }
   ],
   "source": [
    "# Séparer les données en ensembles d'entraînement et de test\n",
    "X_train_poly, X_test_poly, y_train, y_test = train_test_split(X_poly, y, test_size=0.2, random_state=42)\n",
    "\n",
    "# Instancier le modèle de régression linéaire\n",
    "model_poly = LinearRegression()\n",
    "\n",
    "# Entraîner le modèle sur l'ensemble d'entraînement avec les caractéristiques polynomiales\n",
    "model_poly.fit(X_train_poly, y_train)\n",
    "\n",
    "# Prédire sur l'ensemble de test\n",
    "y_pred_poly = model_poly.predict(X_test_poly)\n",
    "\n",
    "# Calculer l'erreur quadratique moyenne pour le modèle avec les caractéristiques polynomiales\n",
    "mse_poly = mean_squared_error(y_test, y_pred_poly)\n",
    "print(\"Mean Squared Error with Polynomial Features:\", mse_poly)"
   ]
  },
  {
   "cell_type": "code",
   "execution_count": null,
   "metadata": {},
   "outputs": [],
   "source": [
    "MSE a diminué en utilisant les données filtrées, càd après avoir enlevé les variables non significatives grace au test de Student."
   ]
  },
  {
   "cell_type": "markdown",
   "metadata": {},
   "source": [
    "## Réduction de la dimensionnalité avec l'analyse en composantes principales (PCA)"
   ]
  },
  {
   "cell_type": "code",
   "execution_count": 61,
   "metadata": {},
   "outputs": [],
   "source": [
    "from sklearn.decomposition import PCA\n",
    "\n",
    "# Création de l'objet PCA pour réduire les dimensions à 2\n",
    "pca = PCA(n_components=2)\n",
    "\n",
    "# Transformation des caractéristiques\n",
    "X_pca = pca.fit_transform(X_filtre)"
   ]
  },
  {
   "cell_type": "code",
   "execution_count": 62,
   "metadata": {},
   "outputs": [
    {
     "name": "stdout",
     "output_type": "stream",
     "text": [
      "Mean Squared Error with PCA Features: 1742.333161839068\n"
     ]
    }
   ],
   "source": [
    "# Séparer les données en ensembles d'entraînement et de test\n",
    "X_train_pca, X_test_pca, y_train, y_test = train_test_split(X_pca, y, test_size=0.2, random_state=42)\n",
    "\n",
    "# Instancier le modèle de régression linéaire\n",
    "model_pca = LinearRegression()\n",
    "\n",
    "# Entraîner le modèle sur l'ensemble d'entraînement avec les caractéristiques réduites par PCA\n",
    "model_pca.fit(X_train_pca, y_train)\n",
    "\n",
    "# Prédire sur l'ensemble de test\n",
    "y_pred_pca = model_pca.predict(X_test_pca)\n",
    "\n",
    "# Calculer l'erreur quadratique moyenne pour le modèle avec les caractéristiques réduites par PCA\n",
    "mse_pca = mean_squared_error(y_test, y_pred_pca)\n",
    "print(\"Mean Squared Error with PCA Features:\", mse_pca)"
   ]
  },
  {
   "cell_type": "markdown",
   "metadata": {},
   "source": [
    "La MSE a diminué, mais il n'est pas aussi faible que dans le cas de la régression polynomiale"
   ]
  },
  {
   "cell_type": "markdown",
   "metadata": {},
   "source": [
    "## Utilisation de la régression Ridge ou Lasso pour la régularisation "
   ]
  },
  {
   "cell_type": "code",
   "execution_count": null,
   "metadata": {},
   "outputs": [],
   "source": [
    "from sklearn.linear_model import Ridge, Lasso\n",
    "\n",
    "# Création de l'objet Ridge pour la régression avec régularisation L2\n",
    "ridge = Ridge(alpha=0.1)\n",
    "\n",
    "# Entraînement du modèle Ridge\n",
    "ridge.fit(X_train, y_train)\n",
    "\n",
    "# Prédiction sur l'ensemble de test\n",
    "y_pred_ridge = ridge.predict(X_test)\n",
    "\n",
    "# Création de l'objet Lasso pour la régression avec régularisation L1\n",
    "lasso = Lasso(alpha=0.1)\n",
    "\n",
    "# Entraînement du modèle Lasso\n",
    "lasso.fit(X_train, y_train)\n",
    "\n",
    "# Prédiction sur l'ensemble de test\n",
    "y_pred_lasso = lasso.predict(X_test)"
   ]
  },
  {
   "cell_type": "code",
   "execution_count": 64,
   "metadata": {},
   "outputs": [
    {
     "name": "stdout",
     "output_type": "stream",
     "text": [
      "Mean Squared Error for Ridge Regression: 1978.8431099217223\n",
      "Mean Squared Error for Lasso Regression: 2013.3766413934936\n"
     ]
    }
   ],
   "source": [
    "from sklearn.metrics import mean_squared_error\n",
    "\n",
    "# Calculer l'erreur quadratique moyenne pour le modèle Ridge\n",
    "mse_ridge = mean_squared_error(y_test, y_pred_ridge)\n",
    "print(\"Mean Squared Error for Ridge Regression:\", mse_ridge)\n",
    "\n",
    "# Calculer l'erreur quadratique moyenne pour le modèle Lasso\n",
    "mse_lasso = mean_squared_error(y_test, y_pred_lasso)\n",
    "print(\"Mean Squared Error for Lasso Regression:\", mse_lasso)"
   ]
  },
  {
   "cell_type": "code",
   "execution_count": null,
   "metadata": {},
   "outputs": [],
   "source": [
    "On obtient des valeurs plus élevées par rapport à tous les modèles précédents."
   ]
  },
  {
   "cell_type": "markdown",
   "metadata": {},
   "source": [
    "## SVM "
   ]
  },
  {
   "cell_type": "code",
   "execution_count": 28,
   "metadata": {},
   "outputs": [],
   "source": [
    "# L'importation d'un search vector regressor\n",
    "from sklearn.svm import SVR"
   ]
  },
  {
   "cell_type": "code",
   "execution_count": 65,
   "metadata": {},
   "outputs": [],
   "source": [
    "# Séparation des données en ensembles d'entraînement et de test\n",
    "X_train, X_test, y_train, y_test = train_test_split(X_filtre, y, test_size=0.2, random_state=42)"
   ]
  },
  {
   "cell_type": "markdown",
   "metadata": {},
   "source": [
    "### Noyau linéaire"
   ]
  },
  {
   "cell_type": "code",
   "execution_count": 66,
   "metadata": {},
   "outputs": [],
   "source": [
    "# Instanciation du modèle SVM pour la régression\n",
    "svm_regressor = SVR(kernel='linear')"
   ]
  },
  {
   "cell_type": "code",
   "execution_count": 67,
   "metadata": {},
   "outputs": [],
   "source": [
    "# Entraînement du modèle\n",
    "svm_regressor.fit(X_train, y_train)\n",
    "\n",
    "# Prédiction sur l'ensemble de test\n",
    "y_pred = svm_regressor.predict(X_test)"
   ]
  },
  {
   "cell_type": "code",
   "execution_count": 68,
   "metadata": {},
   "outputs": [
    {
     "name": "stdout",
     "output_type": "stream",
     "text": [
      "Mean Squared Error for SVM Regression: 1905.6136443092141\n"
     ]
    }
   ],
   "source": [
    "# Calcul de l'erreur quadratique moyenne (MSE)\n",
    "mse = mean_squared_error(y_test, y_pred)\n",
    "print(\"Mean Squared Error for SVM Regression:\", mse)"
   ]
  },
  {
   "cell_type": "markdown",
   "metadata": {},
   "source": [
    "Dans ce cas particulier, la régression polynomiale établie sur des données filtrées semble être le meilleur modèle en termes de MSE."
   ]
  },
  {
   "cell_type": "markdown",
   "metadata": {
    "id": "zLCgtQp553vR"
   },
   "source": [
    "# Classification"
   ]
  },
  {
   "cell_type": "markdown",
   "metadata": {},
   "source": [
    "Le but est de classifier nos données afin de déterminer le statut vital du patient(Ce dernier prend la valeur 1 pour vivant, 0 pour non)"
   ]
  },
  {
   "cell_type": "code",
   "execution_count": 76,
   "metadata": {},
   "outputs": [],
   "source": [
    "y = df['Donor vital status']"
   ]
  },
  {
   "cell_type": "markdown",
   "metadata": {},
   "source": [
    "## SVM"
   ]
  },
  {
   "cell_type": "code",
   "execution_count": 78,
   "metadata": {},
   "outputs": [],
   "source": [
    "# L'importation d'un search vector classifier\n",
    "from sklearn.svm import SVC\n",
    "from sklearn.metrics import accuracy_score, classification_report"
   ]
  },
  {
   "cell_type": "code",
   "execution_count": 79,
   "metadata": {},
   "outputs": [
    {
     "name": "stdout",
     "output_type": "stream",
     "text": [
      "Accuracy: 0.8723404255319149\n",
      "Classification Report:\n",
      "              precision    recall  f1-score   support\n",
      "\n",
      "           0       0.00      0.00      0.00         6\n",
      "           1       0.87      1.00      0.93        41\n",
      "\n",
      "    accuracy                           0.87        47\n",
      "   macro avg       0.44      0.50      0.47        47\n",
      "weighted avg       0.76      0.87      0.81        47\n",
      "\n"
     ]
    },
    {
     "name": "stderr",
     "output_type": "stream",
     "text": [
      "C:\\ProgramData\\Anaconda3\\lib\\site-packages\\sklearn\\metrics\\_classification.py:1221: UndefinedMetricWarning: Precision and F-score are ill-defined and being set to 0.0 in labels with no predicted samples. Use `zero_division` parameter to control this behavior.\n",
      "  _warn_prf(average, modifier, msg_start, len(result))\n"
     ]
    }
   ],
   "source": [
    "# Diviser les données en ensembles d'entraînement et de test\n",
    "X_train, X_test, y_train, y_test = train_test_split(X_filtre, y, test_size=0.2, random_state=42)\n",
    "\n",
    "# Créer un modèle SVM\n",
    "svm_model = SVC(kernel='linear', random_state=42)\n",
    "\n",
    "# Entraîner le modèle sur les données d'entraînement\n",
    "svm_model.fit(X_train, y_train)\n",
    "\n",
    "# Prédire les classes sur l'ensemble de test\n",
    "y_pred = svm_model.predict(X_test)\n",
    "\n",
    "# Calculer l'exactitude du modèle\n",
    "accuracy = accuracy_score(y_test, y_pred)\n",
    "print(\"Accuracy:\", accuracy)\n",
    "\n",
    "# Afficher le rapport de classification\n",
    "print(\"Classification Report:\")\n",
    "print(classification_report(y_test, y_pred))"
   ]
  },
  {
   "cell_type": "markdown",
   "metadata": {},
   "source": [
    "l'accuracy est de 0.87, ce qui signifie que le modèle prédit correctement le statut vital des donneurs dans environ 87% des cas.\n",
    "Le modèle SVM a une bonne capacité à prédire le statut vital des donneurs pour la classe 1 (vivant), mais il échoue à prédire correctement la classe 0 (mort)."
   ]
  },
  {
   "cell_type": "markdown",
   "metadata": {},
   "source": [
    "## Arbre de décision"
   ]
  },
  {
   "cell_type": "code",
   "execution_count": 80,
   "metadata": {},
   "outputs": [
    {
     "name": "stdout",
     "output_type": "stream",
     "text": [
      "Accuracy: 0.7872340425531915\n",
      "Classification Report:\n",
      "              precision    recall  f1-score   support\n",
      "\n",
      "           0       0.33      0.67      0.44         6\n",
      "           1       0.94      0.80      0.87        41\n",
      "\n",
      "    accuracy                           0.79        47\n",
      "   macro avg       0.64      0.74      0.66        47\n",
      "weighted avg       0.87      0.79      0.81        47\n",
      "\n"
     ]
    }
   ],
   "source": [
    "from sklearn.tree import DecisionTreeClassifier\n",
    "\n",
    "# Créer un modèle d'arbre de décision\n",
    "decision_tree_model = DecisionTreeClassifier(random_state=42)\n",
    "\n",
    "# Entraîner le modèle sur les données d'entraînement\n",
    "decision_tree_model.fit(X_train, y_train)\n",
    "\n",
    "# Prédire les classes sur l'ensemble de test\n",
    "y_pred = decision_tree_model.predict(X_test)\n",
    "\n",
    "# Calculer l'exactitude du modèle\n",
    "accuracy = accuracy_score(y_test, y_pred)\n",
    "print(\"Accuracy:\", accuracy)\n",
    "\n",
    "# Afficher le rapport de classification\n",
    "print(\"Classification Report:\")\n",
    "print(classification_report(y_test, y_pred))"
   ]
  },
  {
   "cell_type": "markdown",
   "metadata": {},
   "source": [
    "Le modèle identifie correctement environ 67% des exemples de la classe 0 et 80% des exemples de la classe 1."
   ]
  },
  {
   "cell_type": "markdown",
   "metadata": {},
   "source": [
    "## Random Forest"
   ]
  },
  {
   "cell_type": "code",
   "execution_count": 81,
   "metadata": {},
   "outputs": [
    {
     "name": "stdout",
     "output_type": "stream",
     "text": [
      "Accuracy: 0.7872340425531915\n",
      "Classification Report:\n",
      "              precision    recall  f1-score   support\n",
      "\n",
      "           0       0.33      0.67      0.44         6\n",
      "           1       0.94      0.80      0.87        41\n",
      "\n",
      "    accuracy                           0.79        47\n",
      "   macro avg       0.64      0.74      0.66        47\n",
      "weighted avg       0.87      0.79      0.81        47\n",
      "\n"
     ]
    }
   ],
   "source": [
    "from sklearn.ensemble import RandomForestClassifier\n",
    "\n",
    "# Créer le modèle de forêt aléatoire\n",
    "rf_classifier = RandomForestClassifier(n_estimators=100, random_state=42)\n",
    "\n",
    "# Entraîner le modèle\n",
    "rf_classifier.fit(X_train, y_train)\n",
    "\n",
    "# Prédire sur l'ensemble de test\n",
    "y_pred = rf_classifier.predict(X_test)\n",
    "\n",
    "# Calculer l'accuracy\n",
    "accuracy = accuracy_score(y_test, y_pred)\n",
    "print(\"Accuracy:\", accuracy)\n",
    "\n",
    "# Afficher le rapport de classification\n",
    "print(\"Classification Report:\")\n",
    "print(classification_report(y_test, y_pred))"
   ]
  },
  {
   "cell_type": "markdown",
   "metadata": {},
   "source": [
    "Bien que la précision pour la classe 0(mort) soit relativement faible, le modèle présente une bonne précision et un bon rappel pour la classe 1(vivant)"
   ]
  },
  {
   "cell_type": "markdown",
   "metadata": {},
   "source": [
    "## K-Nearest Neighbors"
   ]
  },
  {
   "cell_type": "code",
   "execution_count": 84,
   "metadata": {},
   "outputs": [
    {
     "name": "stdout",
     "output_type": "stream",
     "text": [
      "Accuracy: 0.8085106382978723\n",
      "Classification Report:\n",
      "              precision    recall  f1-score   support\n",
      "\n",
      "           0       0.00      0.00      0.00         6\n",
      "           1       0.86      0.93      0.89        41\n",
      "\n",
      "    accuracy                           0.81        47\n",
      "   macro avg       0.43      0.46      0.45        47\n",
      "weighted avg       0.75      0.81      0.78        47\n",
      "\n"
     ]
    }
   ],
   "source": [
    "from sklearn.neighbors import KNeighborsClassifier\n",
    "\n",
    "# Création du classifieur KNN avec k=5\n",
    "knn = KNeighborsClassifier(n_neighbors=5)\n",
    "\n",
    "# Entraînement du classifieur\n",
    "knn.fit(X_train, y_train)\n",
    "\n",
    "# Prédiction sur l'ensemble de test\n",
    "y_pred = knn.predict(X_test)\n",
    "\n",
    "# Calcul de l'accuracy\n",
    "accuracy = accuracy_score(y_test, y_pred)\n",
    "print(\"Accuracy:\", accuracy)\n",
    "\n",
    "# Rapport de classification\n",
    "print(\"Classification Report:\")\n",
    "print(classification_report(y_test, y_pred))"
   ]
  },
  {
   "cell_type": "markdown",
   "metadata": {},
   "source": [
    "Le modèle a bien performé pour la classe 1 (\"alive\"), mais a eu des difficultés à prédire la classe 0 (\"dead\")"
   ]
  },
  {
   "cell_type": "markdown",
   "metadata": {},
   "source": [
    "Le meilleur modèle en termes de précision s'avère SVM sur des donées filtrées"
   ]
  }
 ],
 "metadata": {
  "colab": {
   "provenance": []
  },
  "kernelspec": {
   "display_name": "Python 3",
   "language": "python",
   "name": "python3"
  },
  "language_info": {
   "codemirror_mode": {
    "name": "ipython",
    "version": 3
   },
   "file_extension": ".py",
   "mimetype": "text/x-python",
   "name": "python",
   "nbconvert_exporter": "python",
   "pygments_lexer": "ipython3",
   "version": "3.8.3"
  }
 },
 "nbformat": 4,
 "nbformat_minor": 1
}
