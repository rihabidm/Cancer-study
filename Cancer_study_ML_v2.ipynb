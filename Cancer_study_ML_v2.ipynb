{
  "cells": [
    {
      "cell_type": "markdown",
      "metadata": {
        "id": "view-in-github",
        "colab_type": "text"
      },
      "source": [
        "<a href=\"https://colab.research.google.com/github/rihabidm/Cancer-study/blob/main/Cancer_study_ML_v2.ipynb\" target=\"_parent\"><img src=\"https://colab.research.google.com/assets/colab-badge.svg\" alt=\"Open In Colab\"/></a>"
      ]
    },
    {
      "cell_type": "markdown",
      "metadata": {
        "id": "7pqcYz38Q0Tv"
      },
      "source": [
        "\n",
        "# Introduction"
      ]
    },
    {
      "cell_type": "markdown",
      "metadata": {
        "id": "iOuaM-owFHrL"
      },
      "source": [
        "Le carcinome épidermoïde de la cavité buccale et du pharynx représente un défi de santé majeur, nécessitant des stratégies de diagnostic et de traitement efficaces. Dans ce contexte, l'utilisation de l'intelligence artificielle (IA) et de l'apprentissage automatique offre des perspectives prometteuses pour améliorer la prise en charge des patients. Ce projet vise à exploiter les données cliniques et génomiques disponibles pour prédire les issues des patients atteints de ce type de cancer, avec pour objectif ultime d'améliorer les résultats cliniques et la qualité de vie des patients."
      ]
    },
    {
      "cell_type": "markdown",
      "metadata": {
        "id": "oHvgJvWrFNYK"
      },
      "source": [
        "# A propos de l'ensemble des données"
      ]
    },
    {
      "cell_type": "markdown",
      "source": [
        "## Source"
      ],
      "metadata": {
        "id": "_EAIrNRKJvSc"
      }
    },
    {
      "cell_type": "markdown",
      "source": [
        "Les deux datasets ont ete prises du site du projet \"The Cancer Genome Atlas\" (TCGA)\n",
        "\n",
        "SITE : https://dcc.icgc.org/releases/legacy_data_releases/version_13/Stomach_Adenocarcinoma-TCGA-US"
      ],
      "metadata": {
        "id": "-2cMfV0SJx5N"
      }
    },
    {
      "cell_type": "markdown",
      "source": [
        "## Premier dataset"
      ],
      "metadata": {
        "id": "Zln6qBX4NhyX"
      }
    },
    {
      "cell_type": "markdown",
      "source": [
        "C'est une collection d'informations sur des donneurs de tissus et de cellules. Chaque ligne représente un donneur individuel avec des détails sur son cancer et ses échantillons prélevés.\n",
        "\n"
      ],
      "metadata": {
        "id": "NFImGIYvNoT-"
      }
    },
    {
      "cell_type": "markdown",
      "source": [
        "**Presentation des colonnes de la 1 ere dataset :**\n",
        "\n"
      ],
      "metadata": {
        "id": "WWBcQK7q92RR"
      }
    },
    {
      "cell_type": "markdown",
      "metadata": {
        "id": "V06L4vuRXc6I"
      },
      "source": [
        "- Assembly Version : La version de l'assemblage génomique utilisée pour aligner les données.\n",
        "- Chromosome: Le numéro de chromosome où la mutation est située.\n",
        "- Chromosome start: La position de début de la mutation sur le chromosome.\n",
        "- Chromosome end: La position de fin de la mutation sur le chromosome.\n",
        "- Mutation ID: L'identifiant unique de la mutation.\n",
        "- Mutation type: Le type de mutation, tel que substitution, insertion, délétion, etc.\n",
        "- Segment mean: La moyenne du segment où la mutation est située.\n",
        "- Analysis ID: L'identifiant de l'analyse.\n",
        "- Donor ID: L'identifiant unique du donneur.\n",
        "- Sex_x: Le sexe du donneur.\n",
        "- Age at diagnosis_x: L'âge du donneur au moment du diagnostic.\n",
        "- ICD-10_x: Le code de la Classification internationale des maladies (CIM-10) associé au cancer.\n",
        "- Specimen ID_x: L'identifiant de l'échantillon.\n",
        "- Analyzed sample ID: L'identifiant de l'échantillon analysé.\n",
        "- Age at last follow-up: L'âge du donneur lors du dernier suivi.\n",
        "- Interval of last follow-up (days): L'intervalle en jours depuis le dernier suivi.\n",
        "- Donor vital status: Le statut vital du donneur (décédé ou vivant).\n",
        "- Survival time (days): Le temps de survie en jours.\n",
        "- Donor tumour staging system at diagnosis: Le système de stadification de la tumeur utilisé lors du diagnostic.\n",
        "- Specimen ID_y: L'identifiant de l'échantillon de type y.\n",
        "- Specimen type_y: Le type de spécimen de type y.\n",
        "- Tumour confirmed_y: La confirmation de la tumeur de type y.\n",
        "- Specimen notes: Les notes associées à l'échantillon.\n",
        "- Sample ID: L'identifiant de l'échantillon.\n",
        "- Sample type_y: Le type d'échantillon de type y.\n",
        "- Sample notes: Les notes associées à l'échantillon."
      ]
    },
    {
      "cell_type": "markdown",
      "source": [
        "## Deuxième dataset"
      ],
      "metadata": {
        "id": "Z-YqolJcOiob"
      }
    },
    {
      "cell_type": "markdown",
      "source": [
        "Ce jeu de données inclue plus d'informations sur l'état de la maladie, la stadification de la tumeur, et le temps de survie des donneurs depuis le diagnostic.\n",
        "\n",
        "\n",
        "\n",
        "**Presentation des colonnes de la 2 eme dataset :**\n",
        "\n",
        "- Cancer Type: Type de cancer diagnostiqué chez le donneur.\n",
        "- Donor ID: Identifiant unique attribué au donneur.\n",
        "- Sex: Sexe du donneur .\n",
        "- Age at diagnosis: Âge du donneur au moment du diagnostic du cancer.\n",
        "- Age at last follow-up: Âge du donneur au moment du dernier suivi médical.\n",
        "- Disease status last follow-up: Statut de la maladie au dernier suivi médical .\n",
        "- Interval of last follow-up (days): Intervalle de temps en jours entre le dernier suivi médical et la date actuelle.\n",
        "- Donor vital status: Statut vital du donneur (vivant ou décédé).\n",
        "- Survival time (days): Temps de survie du donneur en jours depuis le diagnostic du cancer.\n",
        "- ICD-10: Code de classification internationale des maladies, 10e révision, utilisé pour identifier le cancer.\n",
        "- Donor tumour staging system at diagnosis: Système de stadification de la tumeur utilisé pour évaluer l'étendue du cancer au moment du diagnostic.\n",
        "- Specimen ID: Identifiant unique attribué à l'échantillon prélevé chez le donneur.\n",
        "- Specimen type: Type d'échantillon prélevé.\n",
        "- Tumour confirmed: Indication de confirmation de la présence de la tumeur dans l'échantillon.\n",
        "- Digital image of stained section: Présence d'une image numérique d'une section colorée de l'échantillon.\n",
        "- Specimen notes: Remarques ou détails supplémentaires sur l'échantillon prélevé.\n",
        "- Sample ID: Identifiant unique attribué à l'échantillon spécifique.\n",
        "- Sample type: Type d'échantillon analysé .\n",
        "- Sample notes: Remarques ou détails supplémentaires sur l'échantillon analysé."
      ],
      "metadata": {
        "id": "HA2kiPk3PoF6"
      }
    },
    {
      "cell_type": "markdown",
      "metadata": {
        "id": "K6GXueoLFYFJ"
      },
      "source": [
        "# Objectif"
      ]
    },
    {
      "cell_type": "markdown",
      "metadata": {
        "id": "d_pD-DIQFZ8t"
      },
      "source": [
        "L'objectif principal de ce projet est de développer des modèles prédictifs précis pour estimer le temps de survie, le risque de récidive et le statut vital des patients atteints de carcinome épidermoïde de la cavité buccale et du pharynx. En combinant des techniques avancées d'IA avec une analyse approfondie des données cliniques et génomiques, nous cherchons à identifier les facteurs prédictifs clés et à personnaliser les stratégies de prise en charge pour chaque patient. En fournissant des insights précieux aux cliniciens, ce projet vise à améliorer les décisions médicales et les résultats cliniques dans la lutte contre ce type de cancer."
      ]
    },
    {
      "cell_type": "markdown",
      "metadata": {
        "id": "__--AJn_7V7v"
      },
      "source": [
        "# IAE"
      ]
    },
    {
      "cell_type": "markdown",
      "metadata": {
        "id": "hQJuvYFF7V7w"
      },
      "source": [
        "Les techniques d'Interprétabilité de l'Apprentissage Automatique sont utilisées pour chaque modèle établie afin de générer des explications interprétables pour les prédictions.Nous nous sommes basées sur les indicateurs de performance notamment MSE et la précision"
      ]
    },
    {
      "cell_type": "markdown",
      "metadata": {
        "id": "WbVe5nPpF5BI"
      },
      "source": [
        "\n",
        "# L'analyse exploratoire des données (EDA)"
      ]
    },
    {
      "cell_type": "code",
      "execution_count": null,
      "metadata": {
        "id": "CDRD1RVIQ1kl"
      },
      "outputs": [],
      "source": [
        "import pandas as pd\n",
        "import numpy as np\n",
        "import matplotlib.pyplot as plt\n",
        "from google.colab import files\n",
        "import seaborn as sns\n",
        "import os"
      ]
    },
    {
      "cell_type": "code",
      "source": [
        "#chargement de la 1 ere dataset\n",
        "data1 = pd.read_excel(r'df1 (1).xlsx')"
      ],
      "metadata": {
        "id": "zP4m6HrQKvil"
      },
      "execution_count": null,
      "outputs": []
    },
    {
      "cell_type": "code",
      "source": [
        "data1.head()"
      ],
      "metadata": {
        "colab": {
          "base_uri": "https://localhost:8080/",
          "height": 816
        },
        "id": "ChO_ygqjLsXi",
        "outputId": "95f5f7b5-da12-4339-dc43-e0f4f54a10fa"
      },
      "execution_count": null,
      "outputs": [
        {
          "output_type": "execute_result",
          "data": {
            "text/plain": [
              "                         Cancer Type      Donor ID     Sex  Age at diagnosis  \\\n",
              "0  Stomach Adenocarcinoma (TCGA, US)  TCGA-B7-5816  female                51   \n",
              "1  Stomach Adenocarcinoma (TCGA, US)  TCGA-B7-5816  female                51   \n",
              "2  Stomach Adenocarcinoma (TCGA, US)  TCGA-B7-5816  female                51   \n",
              "3  Stomach Adenocarcinoma (TCGA, US)  TCGA-B7-5816  female                51   \n",
              "4  Stomach Adenocarcinoma (TCGA, US)  TCGA-B7-5816  female                51   \n",
              "\n",
              "   Age at last follow-up  Interval of last follow-up (days)  \\\n",
              "0                     51                                171   \n",
              "1                     51                                171   \n",
              "2                     51                                171   \n",
              "3                     51                                171   \n",
              "4                     51                                171   \n",
              "\n",
              "  Donor vital status ICD-10       Specimen ID   Specimen type  \\\n",
              "0              alive  C16.1  TCGA-B7-5816-01A  primary tumour   \n",
              "1              alive  C16.1  TCGA-B7-5816-01A  primary tumour   \n",
              "2              alive  C16.1  TCGA-B7-5816-01A  primary tumour   \n",
              "3              alive  C16.1  TCGA-B7-5816-01A  primary tumour   \n",
              "4              alive  C16.1  TCGA-B7-5816-01A  primary tumour   \n",
              "\n",
              "  Tumour confirmed                   Digital image of stained section  \\\n",
              "0              yes  http://REPLACE_WITH_REAL_URL/842d5f43-6fda-4eb...   \n",
              "1              yes  http://REPLACE_WITH_REAL_URL/842d5f43-6fda-4eb...   \n",
              "2              yes  http://REPLACE_WITH_REAL_URL/842d5f43-6fda-4eb...   \n",
              "3              yes  http://REPLACE_WITH_REAL_URL/842d5f43-6fda-4eb...   \n",
              "4              yes  http://REPLACE_WITH_REAL_URL/842d5f43-6fda-4eb...   \n",
              "\n",
              "                         Specimen notes                     Sample ID  \\\n",
              "0  1b4b19c1-75a6-4434-831e-adce44c54eb5   TCGA-B7-5816-01A-11-A287-20   \n",
              "1  1b4b19c1-75a6-4434-831e-adce44c54eb5  TCGA-B7-5816-01A-21D-1598-02   \n",
              "2  1b4b19c1-75a6-4434-831e-adce44c54eb5  TCGA-B7-5816-01A-21D-1599-01   \n",
              "3  1b4b19c1-75a6-4434-831e-adce44c54eb5  TCGA-B7-5816-01A-21D-1600-08   \n",
              "4  1b4b19c1-75a6-4434-831e-adce44c54eb5  TCGA-B7-5816-01A-21D-1601-05   \n",
              "\n",
              "      Sample type                          Sample notes  \n",
              "0  Primary tumour  1784E366-1B6C-4DAC-B93D-7D90CBD406EA  \n",
              "1  Primary tumour  52f84358-e1b4-4837-8c3d-9b4e8ddb4fab  \n",
              "2  Primary tumour  6615aade-8a83-41d0-9bbe-abe03e30f260  \n",
              "3  Primary tumour  f844b521-1ff0-4e58-9d70-9f7dc0ed0ee7  \n",
              "4  Primary tumour  1641fc04-a0a0-41b8-8087-e7bbdc96c4a8  "
            ],
            "text/html": [
              "\n",
              "  <div id=\"df-dc4f5b48-234d-4fda-a16a-f440221f33b5\" class=\"colab-df-container\">\n",
              "    <div>\n",
              "<style scoped>\n",
              "    .dataframe tbody tr th:only-of-type {\n",
              "        vertical-align: middle;\n",
              "    }\n",
              "\n",
              "    .dataframe tbody tr th {\n",
              "        vertical-align: top;\n",
              "    }\n",
              "\n",
              "    .dataframe thead th {\n",
              "        text-align: right;\n",
              "    }\n",
              "</style>\n",
              "<table border=\"1\" class=\"dataframe\">\n",
              "  <thead>\n",
              "    <tr style=\"text-align: right;\">\n",
              "      <th></th>\n",
              "      <th>Cancer Type</th>\n",
              "      <th>Donor ID</th>\n",
              "      <th>Sex</th>\n",
              "      <th>Age at diagnosis</th>\n",
              "      <th>Age at last follow-up</th>\n",
              "      <th>Interval of last follow-up (days)</th>\n",
              "      <th>Donor vital status</th>\n",
              "      <th>ICD-10</th>\n",
              "      <th>Specimen ID</th>\n",
              "      <th>Specimen type</th>\n",
              "      <th>Tumour confirmed</th>\n",
              "      <th>Digital image of stained section</th>\n",
              "      <th>Specimen notes</th>\n",
              "      <th>Sample ID</th>\n",
              "      <th>Sample type</th>\n",
              "      <th>Sample notes</th>\n",
              "    </tr>\n",
              "  </thead>\n",
              "  <tbody>\n",
              "    <tr>\n",
              "      <th>0</th>\n",
              "      <td>Stomach Adenocarcinoma (TCGA, US)</td>\n",
              "      <td>TCGA-B7-5816</td>\n",
              "      <td>female</td>\n",
              "      <td>51</td>\n",
              "      <td>51</td>\n",
              "      <td>171</td>\n",
              "      <td>alive</td>\n",
              "      <td>C16.1</td>\n",
              "      <td>TCGA-B7-5816-01A</td>\n",
              "      <td>primary tumour</td>\n",
              "      <td>yes</td>\n",
              "      <td>http://REPLACE_WITH_REAL_URL/842d5f43-6fda-4eb...</td>\n",
              "      <td>1b4b19c1-75a6-4434-831e-adce44c54eb5</td>\n",
              "      <td>TCGA-B7-5816-01A-11-A287-20</td>\n",
              "      <td>Primary tumour</td>\n",
              "      <td>1784E366-1B6C-4DAC-B93D-7D90CBD406EA</td>\n",
              "    </tr>\n",
              "    <tr>\n",
              "      <th>1</th>\n",
              "      <td>Stomach Adenocarcinoma (TCGA, US)</td>\n",
              "      <td>TCGA-B7-5816</td>\n",
              "      <td>female</td>\n",
              "      <td>51</td>\n",
              "      <td>51</td>\n",
              "      <td>171</td>\n",
              "      <td>alive</td>\n",
              "      <td>C16.1</td>\n",
              "      <td>TCGA-B7-5816-01A</td>\n",
              "      <td>primary tumour</td>\n",
              "      <td>yes</td>\n",
              "      <td>http://REPLACE_WITH_REAL_URL/842d5f43-6fda-4eb...</td>\n",
              "      <td>1b4b19c1-75a6-4434-831e-adce44c54eb5</td>\n",
              "      <td>TCGA-B7-5816-01A-21D-1598-02</td>\n",
              "      <td>Primary tumour</td>\n",
              "      <td>52f84358-e1b4-4837-8c3d-9b4e8ddb4fab</td>\n",
              "    </tr>\n",
              "    <tr>\n",
              "      <th>2</th>\n",
              "      <td>Stomach Adenocarcinoma (TCGA, US)</td>\n",
              "      <td>TCGA-B7-5816</td>\n",
              "      <td>female</td>\n",
              "      <td>51</td>\n",
              "      <td>51</td>\n",
              "      <td>171</td>\n",
              "      <td>alive</td>\n",
              "      <td>C16.1</td>\n",
              "      <td>TCGA-B7-5816-01A</td>\n",
              "      <td>primary tumour</td>\n",
              "      <td>yes</td>\n",
              "      <td>http://REPLACE_WITH_REAL_URL/842d5f43-6fda-4eb...</td>\n",
              "      <td>1b4b19c1-75a6-4434-831e-adce44c54eb5</td>\n",
              "      <td>TCGA-B7-5816-01A-21D-1599-01</td>\n",
              "      <td>Primary tumour</td>\n",
              "      <td>6615aade-8a83-41d0-9bbe-abe03e30f260</td>\n",
              "    </tr>\n",
              "    <tr>\n",
              "      <th>3</th>\n",
              "      <td>Stomach Adenocarcinoma (TCGA, US)</td>\n",
              "      <td>TCGA-B7-5816</td>\n",
              "      <td>female</td>\n",
              "      <td>51</td>\n",
              "      <td>51</td>\n",
              "      <td>171</td>\n",
              "      <td>alive</td>\n",
              "      <td>C16.1</td>\n",
              "      <td>TCGA-B7-5816-01A</td>\n",
              "      <td>primary tumour</td>\n",
              "      <td>yes</td>\n",
              "      <td>http://REPLACE_WITH_REAL_URL/842d5f43-6fda-4eb...</td>\n",
              "      <td>1b4b19c1-75a6-4434-831e-adce44c54eb5</td>\n",
              "      <td>TCGA-B7-5816-01A-21D-1600-08</td>\n",
              "      <td>Primary tumour</td>\n",
              "      <td>f844b521-1ff0-4e58-9d70-9f7dc0ed0ee7</td>\n",
              "    </tr>\n",
              "    <tr>\n",
              "      <th>4</th>\n",
              "      <td>Stomach Adenocarcinoma (TCGA, US)</td>\n",
              "      <td>TCGA-B7-5816</td>\n",
              "      <td>female</td>\n",
              "      <td>51</td>\n",
              "      <td>51</td>\n",
              "      <td>171</td>\n",
              "      <td>alive</td>\n",
              "      <td>C16.1</td>\n",
              "      <td>TCGA-B7-5816-01A</td>\n",
              "      <td>primary tumour</td>\n",
              "      <td>yes</td>\n",
              "      <td>http://REPLACE_WITH_REAL_URL/842d5f43-6fda-4eb...</td>\n",
              "      <td>1b4b19c1-75a6-4434-831e-adce44c54eb5</td>\n",
              "      <td>TCGA-B7-5816-01A-21D-1601-05</td>\n",
              "      <td>Primary tumour</td>\n",
              "      <td>1641fc04-a0a0-41b8-8087-e7bbdc96c4a8</td>\n",
              "    </tr>\n",
              "  </tbody>\n",
              "</table>\n",
              "</div>\n",
              "    <div class=\"colab-df-buttons\">\n",
              "\n",
              "  <div class=\"colab-df-container\">\n",
              "    <button class=\"colab-df-convert\" onclick=\"convertToInteractive('df-dc4f5b48-234d-4fda-a16a-f440221f33b5')\"\n",
              "            title=\"Convert this dataframe to an interactive table.\"\n",
              "            style=\"display:none;\">\n",
              "\n",
              "  <svg xmlns=\"http://www.w3.org/2000/svg\" height=\"24px\" viewBox=\"0 -960 960 960\">\n",
              "    <path d=\"M120-120v-720h720v720H120Zm60-500h600v-160H180v160Zm220 220h160v-160H400v160Zm0 220h160v-160H400v160ZM180-400h160v-160H180v160Zm440 0h160v-160H620v160ZM180-180h160v-160H180v160Zm440 0h160v-160H620v160Z\"/>\n",
              "  </svg>\n",
              "    </button>\n",
              "\n",
              "  <style>\n",
              "    .colab-df-container {\n",
              "      display:flex;\n",
              "      gap: 12px;\n",
              "    }\n",
              "\n",
              "    .colab-df-convert {\n",
              "      background-color: #E8F0FE;\n",
              "      border: none;\n",
              "      border-radius: 50%;\n",
              "      cursor: pointer;\n",
              "      display: none;\n",
              "      fill: #1967D2;\n",
              "      height: 32px;\n",
              "      padding: 0 0 0 0;\n",
              "      width: 32px;\n",
              "    }\n",
              "\n",
              "    .colab-df-convert:hover {\n",
              "      background-color: #E2EBFA;\n",
              "      box-shadow: 0px 1px 2px rgba(60, 64, 67, 0.3), 0px 1px 3px 1px rgba(60, 64, 67, 0.15);\n",
              "      fill: #174EA6;\n",
              "    }\n",
              "\n",
              "    .colab-df-buttons div {\n",
              "      margin-bottom: 4px;\n",
              "    }\n",
              "\n",
              "    [theme=dark] .colab-df-convert {\n",
              "      background-color: #3B4455;\n",
              "      fill: #D2E3FC;\n",
              "    }\n",
              "\n",
              "    [theme=dark] .colab-df-convert:hover {\n",
              "      background-color: #434B5C;\n",
              "      box-shadow: 0px 1px 3px 1px rgba(0, 0, 0, 0.15);\n",
              "      filter: drop-shadow(0px 1px 2px rgba(0, 0, 0, 0.3));\n",
              "      fill: #FFFFFF;\n",
              "    }\n",
              "  </style>\n",
              "\n",
              "    <script>\n",
              "      const buttonEl =\n",
              "        document.querySelector('#df-dc4f5b48-234d-4fda-a16a-f440221f33b5 button.colab-df-convert');\n",
              "      buttonEl.style.display =\n",
              "        google.colab.kernel.accessAllowed ? 'block' : 'none';\n",
              "\n",
              "      async function convertToInteractive(key) {\n",
              "        const element = document.querySelector('#df-dc4f5b48-234d-4fda-a16a-f440221f33b5');\n",
              "        const dataTable =\n",
              "          await google.colab.kernel.invokeFunction('convertToInteractive',\n",
              "                                                    [key], {});\n",
              "        if (!dataTable) return;\n",
              "\n",
              "        const docLinkHtml = 'Like what you see? Visit the ' +\n",
              "          '<a target=\"_blank\" href=https://colab.research.google.com/notebooks/data_table.ipynb>data table notebook</a>'\n",
              "          + ' to learn more about interactive tables.';\n",
              "        element.innerHTML = '';\n",
              "        dataTable['output_type'] = 'display_data';\n",
              "        await google.colab.output.renderOutput(dataTable, element);\n",
              "        const docLink = document.createElement('div');\n",
              "        docLink.innerHTML = docLinkHtml;\n",
              "        element.appendChild(docLink);\n",
              "      }\n",
              "    </script>\n",
              "  </div>\n",
              "\n",
              "\n",
              "<div id=\"df-3e68eef2-977f-41ac-bae0-3977649fef08\">\n",
              "  <button class=\"colab-df-quickchart\" onclick=\"quickchart('df-3e68eef2-977f-41ac-bae0-3977649fef08')\"\n",
              "            title=\"Suggest charts\"\n",
              "            style=\"display:none;\">\n",
              "\n",
              "<svg xmlns=\"http://www.w3.org/2000/svg\" height=\"24px\"viewBox=\"0 0 24 24\"\n",
              "     width=\"24px\">\n",
              "    <g>\n",
              "        <path d=\"M19 3H5c-1.1 0-2 .9-2 2v14c0 1.1.9 2 2 2h14c1.1 0 2-.9 2-2V5c0-1.1-.9-2-2-2zM9 17H7v-7h2v7zm4 0h-2V7h2v10zm4 0h-2v-4h2v4z\"/>\n",
              "    </g>\n",
              "</svg>\n",
              "  </button>\n",
              "\n",
              "<style>\n",
              "  .colab-df-quickchart {\n",
              "      --bg-color: #E8F0FE;\n",
              "      --fill-color: #1967D2;\n",
              "      --hover-bg-color: #E2EBFA;\n",
              "      --hover-fill-color: #174EA6;\n",
              "      --disabled-fill-color: #AAA;\n",
              "      --disabled-bg-color: #DDD;\n",
              "  }\n",
              "\n",
              "  [theme=dark] .colab-df-quickchart {\n",
              "      --bg-color: #3B4455;\n",
              "      --fill-color: #D2E3FC;\n",
              "      --hover-bg-color: #434B5C;\n",
              "      --hover-fill-color: #FFFFFF;\n",
              "      --disabled-bg-color: #3B4455;\n",
              "      --disabled-fill-color: #666;\n",
              "  }\n",
              "\n",
              "  .colab-df-quickchart {\n",
              "    background-color: var(--bg-color);\n",
              "    border: none;\n",
              "    border-radius: 50%;\n",
              "    cursor: pointer;\n",
              "    display: none;\n",
              "    fill: var(--fill-color);\n",
              "    height: 32px;\n",
              "    padding: 0;\n",
              "    width: 32px;\n",
              "  }\n",
              "\n",
              "  .colab-df-quickchart:hover {\n",
              "    background-color: var(--hover-bg-color);\n",
              "    box-shadow: 0 1px 2px rgba(60, 64, 67, 0.3), 0 1px 3px 1px rgba(60, 64, 67, 0.15);\n",
              "    fill: var(--button-hover-fill-color);\n",
              "  }\n",
              "\n",
              "  .colab-df-quickchart-complete:disabled,\n",
              "  .colab-df-quickchart-complete:disabled:hover {\n",
              "    background-color: var(--disabled-bg-color);\n",
              "    fill: var(--disabled-fill-color);\n",
              "    box-shadow: none;\n",
              "  }\n",
              "\n",
              "  .colab-df-spinner {\n",
              "    border: 2px solid var(--fill-color);\n",
              "    border-color: transparent;\n",
              "    border-bottom-color: var(--fill-color);\n",
              "    animation:\n",
              "      spin 1s steps(1) infinite;\n",
              "  }\n",
              "\n",
              "  @keyframes spin {\n",
              "    0% {\n",
              "      border-color: transparent;\n",
              "      border-bottom-color: var(--fill-color);\n",
              "      border-left-color: var(--fill-color);\n",
              "    }\n",
              "    20% {\n",
              "      border-color: transparent;\n",
              "      border-left-color: var(--fill-color);\n",
              "      border-top-color: var(--fill-color);\n",
              "    }\n",
              "    30% {\n",
              "      border-color: transparent;\n",
              "      border-left-color: var(--fill-color);\n",
              "      border-top-color: var(--fill-color);\n",
              "      border-right-color: var(--fill-color);\n",
              "    }\n",
              "    40% {\n",
              "      border-color: transparent;\n",
              "      border-right-color: var(--fill-color);\n",
              "      border-top-color: var(--fill-color);\n",
              "    }\n",
              "    60% {\n",
              "      border-color: transparent;\n",
              "      border-right-color: var(--fill-color);\n",
              "    }\n",
              "    80% {\n",
              "      border-color: transparent;\n",
              "      border-right-color: var(--fill-color);\n",
              "      border-bottom-color: var(--fill-color);\n",
              "    }\n",
              "    90% {\n",
              "      border-color: transparent;\n",
              "      border-bottom-color: var(--fill-color);\n",
              "    }\n",
              "  }\n",
              "</style>\n",
              "\n",
              "  <script>\n",
              "    async function quickchart(key) {\n",
              "      const quickchartButtonEl =\n",
              "        document.querySelector('#' + key + ' button');\n",
              "      quickchartButtonEl.disabled = true;  // To prevent multiple clicks.\n",
              "      quickchartButtonEl.classList.add('colab-df-spinner');\n",
              "      try {\n",
              "        const charts = await google.colab.kernel.invokeFunction(\n",
              "            'suggestCharts', [key], {});\n",
              "      } catch (error) {\n",
              "        console.error('Error during call to suggestCharts:', error);\n",
              "      }\n",
              "      quickchartButtonEl.classList.remove('colab-df-spinner');\n",
              "      quickchartButtonEl.classList.add('colab-df-quickchart-complete');\n",
              "    }\n",
              "    (() => {\n",
              "      let quickchartButtonEl =\n",
              "        document.querySelector('#df-3e68eef2-977f-41ac-bae0-3977649fef08 button');\n",
              "      quickchartButtonEl.style.display =\n",
              "        google.colab.kernel.accessAllowed ? 'block' : 'none';\n",
              "    })();\n",
              "  </script>\n",
              "</div>\n",
              "\n",
              "    </div>\n",
              "  </div>\n"
            ],
            "application/vnd.google.colaboratory.intrinsic+json": {
              "type": "dataframe",
              "variable_name": "data1",
              "summary": "{\n  \"name\": \"data1\",\n  \"rows\": 1370,\n  \"fields\": [\n    {\n      \"column\": \"Cancer Type\",\n      \"properties\": {\n        \"dtype\": \"category\",\n        \"num_unique_values\": 1,\n        \"samples\": [\n          \"Stomach Adenocarcinoma (TCGA, US)\"\n        ],\n        \"semantic_type\": \"\",\n        \"description\": \"\"\n      }\n    },\n    {\n      \"column\": \"Donor ID\",\n      \"properties\": {\n        \"dtype\": \"category\",\n        \"num_unique_values\": 173,\n        \"samples\": [\n          \"TCGA-F1-6177\"\n        ],\n        \"semantic_type\": \"\",\n        \"description\": \"\"\n      }\n    },\n    {\n      \"column\": \"Sex\",\n      \"properties\": {\n        \"dtype\": \"category\",\n        \"num_unique_values\": 2,\n        \"samples\": [\n          \"male\"\n        ],\n        \"semantic_type\": \"\",\n        \"description\": \"\"\n      }\n    },\n    {\n      \"column\": \"Age at diagnosis\",\n      \"properties\": {\n        \"dtype\": \"number\",\n        \"std\": 10,\n        \"min\": 34,\n        \"max\": 90,\n        \"num_unique_values\": 48,\n        \"samples\": [\n          54\n        ],\n        \"semantic_type\": \"\",\n        \"description\": \"\"\n      }\n    },\n    {\n      \"column\": \"Age at last follow-up\",\n      \"properties\": {\n        \"dtype\": \"number\",\n        \"std\": 11,\n        \"min\": 34,\n        \"max\": 93,\n        \"num_unique_values\": 48,\n        \"samples\": [\n          54\n        ],\n        \"semantic_type\": \"\",\n        \"description\": \"\"\n      }\n    },\n    {\n      \"column\": \"Interval of last follow-up (days)\",\n      \"properties\": {\n        \"dtype\": \"number\",\n        \"std\": 334,\n        \"min\": 0,\n        \"max\": 2131,\n        \"num_unique_values\": 84,\n        \"samples\": [\n          111\n        ],\n        \"semantic_type\": \"\",\n        \"description\": \"\"\n      }\n    },\n    {\n      \"column\": \"Donor vital status\",\n      \"properties\": {\n        \"dtype\": \"category\",\n        \"num_unique_values\": 2,\n        \"samples\": [\n          \"deceased\"\n        ],\n        \"semantic_type\": \"\",\n        \"description\": \"\"\n      }\n    },\n    {\n      \"column\": \"ICD-10\",\n      \"properties\": {\n        \"dtype\": \"category\",\n        \"num_unique_values\": 5,\n        \"samples\": [\n          \"C16.0\"\n        ],\n        \"semantic_type\": \"\",\n        \"description\": \"\"\n      }\n    },\n    {\n      \"column\": \"Specimen ID\",\n      \"properties\": {\n        \"dtype\": \"category\",\n        \"num_unique_values\": 173,\n        \"samples\": [\n          \"TCGA-F1-6177-01A\"\n        ],\n        \"semantic_type\": \"\",\n        \"description\": \"\"\n      }\n    },\n    {\n      \"column\": \"Specimen type\",\n      \"properties\": {\n        \"dtype\": \"category\",\n        \"num_unique_values\": 1,\n        \"samples\": [\n          \"primary tumour\"\n        ],\n        \"semantic_type\": \"\",\n        \"description\": \"\"\n      }\n    },\n    {\n      \"column\": \"Tumour confirmed\",\n      \"properties\": {\n        \"dtype\": \"category\",\n        \"num_unique_values\": 1,\n        \"samples\": [\n          \"yes\"\n        ],\n        \"semantic_type\": \"\",\n        \"description\": \"\"\n      }\n    },\n    {\n      \"column\": \"Digital image of stained section\",\n      \"properties\": {\n        \"dtype\": \"category\",\n        \"num_unique_values\": 173,\n        \"samples\": [\n          \"http://REPLACE_WITH_REAL_URL/896352cb-7520-4c98-aed6-a86f723d999f,f5b7e812-9685-4f60-a6a5-bd937284b802\"\n        ],\n        \"semantic_type\": \"\",\n        \"description\": \"\"\n      }\n    },\n    {\n      \"column\": \"Specimen notes\",\n      \"properties\": {\n        \"dtype\": \"category\",\n        \"num_unique_values\": 173,\n        \"samples\": [\n          \"0538efde-935d-4571-a200-b181ab622447\"\n        ],\n        \"semantic_type\": \"\",\n        \"description\": \"\"\n      }\n    },\n    {\n      \"column\": \"Sample ID\",\n      \"properties\": {\n        \"dtype\": \"string\",\n        \"num_unique_values\": 1370,\n        \"samples\": [\n          \"TCGA-BR-4370-01A-01D-1154-02\"\n        ],\n        \"semantic_type\": \"\",\n        \"description\": \"\"\n      }\n    },\n    {\n      \"column\": \"Sample type\",\n      \"properties\": {\n        \"dtype\": \"category\",\n        \"num_unique_values\": 1,\n        \"samples\": [\n          \"Primary tumour\"\n        ],\n        \"semantic_type\": \"\",\n        \"description\": \"\"\n      }\n    },\n    {\n      \"column\": \"Sample notes\",\n      \"properties\": {\n        \"dtype\": \"string\",\n        \"num_unique_values\": 1370,\n        \"samples\": [\n          \"b27fac46-97c3-4262-b8cb-6e15aa75483a\"\n        ],\n        \"semantic_type\": \"\",\n        \"description\": \"\"\n      }\n    }\n  ]\n}"
            }
          },
          "metadata": {},
          "execution_count": 10
        }
      ]
    },
    {
      "cell_type": "code",
      "source": [
        "#chargement de la 2 eme dataset\n",
        "data2 = pd.read_csv(r'df2.csv')"
      ],
      "metadata": {
        "id": "hYTsc6TzLxTO"
      },
      "execution_count": null,
      "outputs": []
    },
    {
      "cell_type": "code",
      "source": [
        "data2.head()"
      ],
      "metadata": {
        "colab": {
          "base_uri": "https://localhost:8080/",
          "height": 816
        },
        "id": "LbwH-ugyO9hF",
        "outputId": "96e91a60-b17a-4939-d8c0-1b402cf3d6f1"
      },
      "execution_count": null,
      "outputs": [
        {
          "output_type": "execute_result",
          "data": {
            "text/plain": [
              "                                        Cancer Type      Donor ID   Sex  \\\n",
              "0  Head and Neck Squamous Cell Carcinoma (TCGA, US)  TCGA-BA-4074  male   \n",
              "1  Head and Neck Squamous Cell Carcinoma (TCGA, US)  TCGA-BA-4074  male   \n",
              "2  Head and Neck Squamous Cell Carcinoma (TCGA, US)  TCGA-BA-4074  male   \n",
              "3  Head and Neck Squamous Cell Carcinoma (TCGA, US)  TCGA-BA-4074  male   \n",
              "4  Head and Neck Squamous Cell Carcinoma (TCGA, US)  TCGA-BA-4074  male   \n",
              "\n",
              "   Age at diagnosis  Age at last follow-up Disease status last follow-up  \\\n",
              "0              69.0                   70.0                   progression   \n",
              "1              69.0                   70.0                   progression   \n",
              "2              69.0                   70.0                   progression   \n",
              "3              69.0                   70.0                   progression   \n",
              "4              69.0                   70.0                   progression   \n",
              "\n",
              "   Interval of last follow-up (days) Donor vital status  Survival time (days)  \\\n",
              "0                              461.0           deceased                 436.0   \n",
              "1                              461.0           deceased                 436.0   \n",
              "2                              461.0           deceased                 436.0   \n",
              "3                              461.0           deceased                 436.0   \n",
              "4                              461.0           deceased                 436.0   \n",
              "\n",
              "  ICD-10 Donor tumour staging system at diagnosis       Specimen ID  \\\n",
              "0  C02.9                                      6th  TCGA-BA-4074-01A   \n",
              "1  C02.9                                      6th  TCGA-BA-4074-01A   \n",
              "2  C02.9                                      6th  TCGA-BA-4074-01A   \n",
              "3  C02.9                                      6th  TCGA-BA-4074-01A   \n",
              "4  C02.9                                      6th  TCGA-BA-4074-01A   \n",
              "\n",
              "    Specimen type Tumour confirmed  \\\n",
              "0  primary tumour              yes   \n",
              "1  primary tumour              yes   \n",
              "2  primary tumour              yes   \n",
              "3  primary tumour              yes   \n",
              "4  primary tumour              yes   \n",
              "\n",
              "                    Digital image of stained section  \\\n",
              "0  http://REPLACE_WITH_REAL_URL/0fd278bd-28c3-45b...   \n",
              "1  http://REPLACE_WITH_REAL_URL/0fd278bd-28c3-45b...   \n",
              "2  http://REPLACE_WITH_REAL_URL/0fd278bd-28c3-45b...   \n",
              "3  http://REPLACE_WITH_REAL_URL/0fd278bd-28c3-45b...   \n",
              "4  http://REPLACE_WITH_REAL_URL/0fd278bd-28c3-45b...   \n",
              "\n",
              "                         Specimen notes                     Sample ID  \\\n",
              "0  7bc6b159-19b4-4711-961d-830bc9e56493  TCGA-BA-4074-01A-01D-1431-02   \n",
              "1  7bc6b159-19b4-4711-961d-830bc9e56493  TCGA-BA-4074-01A-01D-1432-01   \n",
              "2  7bc6b159-19b4-4711-961d-830bc9e56493  TCGA-BA-4074-01A-01D-1433-05   \n",
              "3  7bc6b159-19b4-4711-961d-830bc9e56493  TCGA-BA-4074-01A-01D-1434-08   \n",
              "4  7bc6b159-19b4-4711-961d-830bc9e56493  TCGA-BA-4074-01A-01R-1436-07   \n",
              "\n",
              "      Sample type                          Sample notes  \n",
              "0  Primary tumour  4786a24c-d127-43fb-9d9c-ff59622b7b24  \n",
              "1  Primary tumour  e20f7423-4504-4421-b6d9-861f65220233  \n",
              "2  Primary tumour  12ca1d21-97ef-4947-bc65-14b7055307fa  \n",
              "3  Primary tumour  2c84e904-0cbc-4645-b7e5-94ec45e61268  \n",
              "4  Primary tumour  78a8e33e-fd10-4dcd-b8fd-aad93db18c45  "
            ],
            "text/html": [
              "\n",
              "  <div id=\"df-78ca271c-5312-48f3-b195-fda7dcabc681\" class=\"colab-df-container\">\n",
              "    <div>\n",
              "<style scoped>\n",
              "    .dataframe tbody tr th:only-of-type {\n",
              "        vertical-align: middle;\n",
              "    }\n",
              "\n",
              "    .dataframe tbody tr th {\n",
              "        vertical-align: top;\n",
              "    }\n",
              "\n",
              "    .dataframe thead th {\n",
              "        text-align: right;\n",
              "    }\n",
              "</style>\n",
              "<table border=\"1\" class=\"dataframe\">\n",
              "  <thead>\n",
              "    <tr style=\"text-align: right;\">\n",
              "      <th></th>\n",
              "      <th>Cancer Type</th>\n",
              "      <th>Donor ID</th>\n",
              "      <th>Sex</th>\n",
              "      <th>Age at diagnosis</th>\n",
              "      <th>Age at last follow-up</th>\n",
              "      <th>Disease status last follow-up</th>\n",
              "      <th>Interval of last follow-up (days)</th>\n",
              "      <th>Donor vital status</th>\n",
              "      <th>Survival time (days)</th>\n",
              "      <th>ICD-10</th>\n",
              "      <th>Donor tumour staging system at diagnosis</th>\n",
              "      <th>Specimen ID</th>\n",
              "      <th>Specimen type</th>\n",
              "      <th>Tumour confirmed</th>\n",
              "      <th>Digital image of stained section</th>\n",
              "      <th>Specimen notes</th>\n",
              "      <th>Sample ID</th>\n",
              "      <th>Sample type</th>\n",
              "      <th>Sample notes</th>\n",
              "    </tr>\n",
              "  </thead>\n",
              "  <tbody>\n",
              "    <tr>\n",
              "      <th>0</th>\n",
              "      <td>Head and Neck Squamous Cell Carcinoma (TCGA, US)</td>\n",
              "      <td>TCGA-BA-4074</td>\n",
              "      <td>male</td>\n",
              "      <td>69.0</td>\n",
              "      <td>70.0</td>\n",
              "      <td>progression</td>\n",
              "      <td>461.0</td>\n",
              "      <td>deceased</td>\n",
              "      <td>436.0</td>\n",
              "      <td>C02.9</td>\n",
              "      <td>6th</td>\n",
              "      <td>TCGA-BA-4074-01A</td>\n",
              "      <td>primary tumour</td>\n",
              "      <td>yes</td>\n",
              "      <td>http://REPLACE_WITH_REAL_URL/0fd278bd-28c3-45b...</td>\n",
              "      <td>7bc6b159-19b4-4711-961d-830bc9e56493</td>\n",
              "      <td>TCGA-BA-4074-01A-01D-1431-02</td>\n",
              "      <td>Primary tumour</td>\n",
              "      <td>4786a24c-d127-43fb-9d9c-ff59622b7b24</td>\n",
              "    </tr>\n",
              "    <tr>\n",
              "      <th>1</th>\n",
              "      <td>Head and Neck Squamous Cell Carcinoma (TCGA, US)</td>\n",
              "      <td>TCGA-BA-4074</td>\n",
              "      <td>male</td>\n",
              "      <td>69.0</td>\n",
              "      <td>70.0</td>\n",
              "      <td>progression</td>\n",
              "      <td>461.0</td>\n",
              "      <td>deceased</td>\n",
              "      <td>436.0</td>\n",
              "      <td>C02.9</td>\n",
              "      <td>6th</td>\n",
              "      <td>TCGA-BA-4074-01A</td>\n",
              "      <td>primary tumour</td>\n",
              "      <td>yes</td>\n",
              "      <td>http://REPLACE_WITH_REAL_URL/0fd278bd-28c3-45b...</td>\n",
              "      <td>7bc6b159-19b4-4711-961d-830bc9e56493</td>\n",
              "      <td>TCGA-BA-4074-01A-01D-1432-01</td>\n",
              "      <td>Primary tumour</td>\n",
              "      <td>e20f7423-4504-4421-b6d9-861f65220233</td>\n",
              "    </tr>\n",
              "    <tr>\n",
              "      <th>2</th>\n",
              "      <td>Head and Neck Squamous Cell Carcinoma (TCGA, US)</td>\n",
              "      <td>TCGA-BA-4074</td>\n",
              "      <td>male</td>\n",
              "      <td>69.0</td>\n",
              "      <td>70.0</td>\n",
              "      <td>progression</td>\n",
              "      <td>461.0</td>\n",
              "      <td>deceased</td>\n",
              "      <td>436.0</td>\n",
              "      <td>C02.9</td>\n",
              "      <td>6th</td>\n",
              "      <td>TCGA-BA-4074-01A</td>\n",
              "      <td>primary tumour</td>\n",
              "      <td>yes</td>\n",
              "      <td>http://REPLACE_WITH_REAL_URL/0fd278bd-28c3-45b...</td>\n",
              "      <td>7bc6b159-19b4-4711-961d-830bc9e56493</td>\n",
              "      <td>TCGA-BA-4074-01A-01D-1433-05</td>\n",
              "      <td>Primary tumour</td>\n",
              "      <td>12ca1d21-97ef-4947-bc65-14b7055307fa</td>\n",
              "    </tr>\n",
              "    <tr>\n",
              "      <th>3</th>\n",
              "      <td>Head and Neck Squamous Cell Carcinoma (TCGA, US)</td>\n",
              "      <td>TCGA-BA-4074</td>\n",
              "      <td>male</td>\n",
              "      <td>69.0</td>\n",
              "      <td>70.0</td>\n",
              "      <td>progression</td>\n",
              "      <td>461.0</td>\n",
              "      <td>deceased</td>\n",
              "      <td>436.0</td>\n",
              "      <td>C02.9</td>\n",
              "      <td>6th</td>\n",
              "      <td>TCGA-BA-4074-01A</td>\n",
              "      <td>primary tumour</td>\n",
              "      <td>yes</td>\n",
              "      <td>http://REPLACE_WITH_REAL_URL/0fd278bd-28c3-45b...</td>\n",
              "      <td>7bc6b159-19b4-4711-961d-830bc9e56493</td>\n",
              "      <td>TCGA-BA-4074-01A-01D-1434-08</td>\n",
              "      <td>Primary tumour</td>\n",
              "      <td>2c84e904-0cbc-4645-b7e5-94ec45e61268</td>\n",
              "    </tr>\n",
              "    <tr>\n",
              "      <th>4</th>\n",
              "      <td>Head and Neck Squamous Cell Carcinoma (TCGA, US)</td>\n",
              "      <td>TCGA-BA-4074</td>\n",
              "      <td>male</td>\n",
              "      <td>69.0</td>\n",
              "      <td>70.0</td>\n",
              "      <td>progression</td>\n",
              "      <td>461.0</td>\n",
              "      <td>deceased</td>\n",
              "      <td>436.0</td>\n",
              "      <td>C02.9</td>\n",
              "      <td>6th</td>\n",
              "      <td>TCGA-BA-4074-01A</td>\n",
              "      <td>primary tumour</td>\n",
              "      <td>yes</td>\n",
              "      <td>http://REPLACE_WITH_REAL_URL/0fd278bd-28c3-45b...</td>\n",
              "      <td>7bc6b159-19b4-4711-961d-830bc9e56493</td>\n",
              "      <td>TCGA-BA-4074-01A-01R-1436-07</td>\n",
              "      <td>Primary tumour</td>\n",
              "      <td>78a8e33e-fd10-4dcd-b8fd-aad93db18c45</td>\n",
              "    </tr>\n",
              "  </tbody>\n",
              "</table>\n",
              "</div>\n",
              "    <div class=\"colab-df-buttons\">\n",
              "\n",
              "  <div class=\"colab-df-container\">\n",
              "    <button class=\"colab-df-convert\" onclick=\"convertToInteractive('df-78ca271c-5312-48f3-b195-fda7dcabc681')\"\n",
              "            title=\"Convert this dataframe to an interactive table.\"\n",
              "            style=\"display:none;\">\n",
              "\n",
              "  <svg xmlns=\"http://www.w3.org/2000/svg\" height=\"24px\" viewBox=\"0 -960 960 960\">\n",
              "    <path d=\"M120-120v-720h720v720H120Zm60-500h600v-160H180v160Zm220 220h160v-160H400v160Zm0 220h160v-160H400v160ZM180-400h160v-160H180v160Zm440 0h160v-160H620v160ZM180-180h160v-160H180v160Zm440 0h160v-160H620v160Z\"/>\n",
              "  </svg>\n",
              "    </button>\n",
              "\n",
              "  <style>\n",
              "    .colab-df-container {\n",
              "      display:flex;\n",
              "      gap: 12px;\n",
              "    }\n",
              "\n",
              "    .colab-df-convert {\n",
              "      background-color: #E8F0FE;\n",
              "      border: none;\n",
              "      border-radius: 50%;\n",
              "      cursor: pointer;\n",
              "      display: none;\n",
              "      fill: #1967D2;\n",
              "      height: 32px;\n",
              "      padding: 0 0 0 0;\n",
              "      width: 32px;\n",
              "    }\n",
              "\n",
              "    .colab-df-convert:hover {\n",
              "      background-color: #E2EBFA;\n",
              "      box-shadow: 0px 1px 2px rgba(60, 64, 67, 0.3), 0px 1px 3px 1px rgba(60, 64, 67, 0.15);\n",
              "      fill: #174EA6;\n",
              "    }\n",
              "\n",
              "    .colab-df-buttons div {\n",
              "      margin-bottom: 4px;\n",
              "    }\n",
              "\n",
              "    [theme=dark] .colab-df-convert {\n",
              "      background-color: #3B4455;\n",
              "      fill: #D2E3FC;\n",
              "    }\n",
              "\n",
              "    [theme=dark] .colab-df-convert:hover {\n",
              "      background-color: #434B5C;\n",
              "      box-shadow: 0px 1px 3px 1px rgba(0, 0, 0, 0.15);\n",
              "      filter: drop-shadow(0px 1px 2px rgba(0, 0, 0, 0.3));\n",
              "      fill: #FFFFFF;\n",
              "    }\n",
              "  </style>\n",
              "\n",
              "    <script>\n",
              "      const buttonEl =\n",
              "        document.querySelector('#df-78ca271c-5312-48f3-b195-fda7dcabc681 button.colab-df-convert');\n",
              "      buttonEl.style.display =\n",
              "        google.colab.kernel.accessAllowed ? 'block' : 'none';\n",
              "\n",
              "      async function convertToInteractive(key) {\n",
              "        const element = document.querySelector('#df-78ca271c-5312-48f3-b195-fda7dcabc681');\n",
              "        const dataTable =\n",
              "          await google.colab.kernel.invokeFunction('convertToInteractive',\n",
              "                                                    [key], {});\n",
              "        if (!dataTable) return;\n",
              "\n",
              "        const docLinkHtml = 'Like what you see? Visit the ' +\n",
              "          '<a target=\"_blank\" href=https://colab.research.google.com/notebooks/data_table.ipynb>data table notebook</a>'\n",
              "          + ' to learn more about interactive tables.';\n",
              "        element.innerHTML = '';\n",
              "        dataTable['output_type'] = 'display_data';\n",
              "        await google.colab.output.renderOutput(dataTable, element);\n",
              "        const docLink = document.createElement('div');\n",
              "        docLink.innerHTML = docLinkHtml;\n",
              "        element.appendChild(docLink);\n",
              "      }\n",
              "    </script>\n",
              "  </div>\n",
              "\n",
              "\n",
              "<div id=\"df-2e70fe2c-3cac-4c34-9162-c6024945552a\">\n",
              "  <button class=\"colab-df-quickchart\" onclick=\"quickchart('df-2e70fe2c-3cac-4c34-9162-c6024945552a')\"\n",
              "            title=\"Suggest charts\"\n",
              "            style=\"display:none;\">\n",
              "\n",
              "<svg xmlns=\"http://www.w3.org/2000/svg\" height=\"24px\"viewBox=\"0 0 24 24\"\n",
              "     width=\"24px\">\n",
              "    <g>\n",
              "        <path d=\"M19 3H5c-1.1 0-2 .9-2 2v14c0 1.1.9 2 2 2h14c1.1 0 2-.9 2-2V5c0-1.1-.9-2-2-2zM9 17H7v-7h2v7zm4 0h-2V7h2v10zm4 0h-2v-4h2v4z\"/>\n",
              "    </g>\n",
              "</svg>\n",
              "  </button>\n",
              "\n",
              "<style>\n",
              "  .colab-df-quickchart {\n",
              "      --bg-color: #E8F0FE;\n",
              "      --fill-color: #1967D2;\n",
              "      --hover-bg-color: #E2EBFA;\n",
              "      --hover-fill-color: #174EA6;\n",
              "      --disabled-fill-color: #AAA;\n",
              "      --disabled-bg-color: #DDD;\n",
              "  }\n",
              "\n",
              "  [theme=dark] .colab-df-quickchart {\n",
              "      --bg-color: #3B4455;\n",
              "      --fill-color: #D2E3FC;\n",
              "      --hover-bg-color: #434B5C;\n",
              "      --hover-fill-color: #FFFFFF;\n",
              "      --disabled-bg-color: #3B4455;\n",
              "      --disabled-fill-color: #666;\n",
              "  }\n",
              "\n",
              "  .colab-df-quickchart {\n",
              "    background-color: var(--bg-color);\n",
              "    border: none;\n",
              "    border-radius: 50%;\n",
              "    cursor: pointer;\n",
              "    display: none;\n",
              "    fill: var(--fill-color);\n",
              "    height: 32px;\n",
              "    padding: 0;\n",
              "    width: 32px;\n",
              "  }\n",
              "\n",
              "  .colab-df-quickchart:hover {\n",
              "    background-color: var(--hover-bg-color);\n",
              "    box-shadow: 0 1px 2px rgba(60, 64, 67, 0.3), 0 1px 3px 1px rgba(60, 64, 67, 0.15);\n",
              "    fill: var(--button-hover-fill-color);\n",
              "  }\n",
              "\n",
              "  .colab-df-quickchart-complete:disabled,\n",
              "  .colab-df-quickchart-complete:disabled:hover {\n",
              "    background-color: var(--disabled-bg-color);\n",
              "    fill: var(--disabled-fill-color);\n",
              "    box-shadow: none;\n",
              "  }\n",
              "\n",
              "  .colab-df-spinner {\n",
              "    border: 2px solid var(--fill-color);\n",
              "    border-color: transparent;\n",
              "    border-bottom-color: var(--fill-color);\n",
              "    animation:\n",
              "      spin 1s steps(1) infinite;\n",
              "  }\n",
              "\n",
              "  @keyframes spin {\n",
              "    0% {\n",
              "      border-color: transparent;\n",
              "      border-bottom-color: var(--fill-color);\n",
              "      border-left-color: var(--fill-color);\n",
              "    }\n",
              "    20% {\n",
              "      border-color: transparent;\n",
              "      border-left-color: var(--fill-color);\n",
              "      border-top-color: var(--fill-color);\n",
              "    }\n",
              "    30% {\n",
              "      border-color: transparent;\n",
              "      border-left-color: var(--fill-color);\n",
              "      border-top-color: var(--fill-color);\n",
              "      border-right-color: var(--fill-color);\n",
              "    }\n",
              "    40% {\n",
              "      border-color: transparent;\n",
              "      border-right-color: var(--fill-color);\n",
              "      border-top-color: var(--fill-color);\n",
              "    }\n",
              "    60% {\n",
              "      border-color: transparent;\n",
              "      border-right-color: var(--fill-color);\n",
              "    }\n",
              "    80% {\n",
              "      border-color: transparent;\n",
              "      border-right-color: var(--fill-color);\n",
              "      border-bottom-color: var(--fill-color);\n",
              "    }\n",
              "    90% {\n",
              "      border-color: transparent;\n",
              "      border-bottom-color: var(--fill-color);\n",
              "    }\n",
              "  }\n",
              "</style>\n",
              "\n",
              "  <script>\n",
              "    async function quickchart(key) {\n",
              "      const quickchartButtonEl =\n",
              "        document.querySelector('#' + key + ' button');\n",
              "      quickchartButtonEl.disabled = true;  // To prevent multiple clicks.\n",
              "      quickchartButtonEl.classList.add('colab-df-spinner');\n",
              "      try {\n",
              "        const charts = await google.colab.kernel.invokeFunction(\n",
              "            'suggestCharts', [key], {});\n",
              "      } catch (error) {\n",
              "        console.error('Error during call to suggestCharts:', error);\n",
              "      }\n",
              "      quickchartButtonEl.classList.remove('colab-df-spinner');\n",
              "      quickchartButtonEl.classList.add('colab-df-quickchart-complete');\n",
              "    }\n",
              "    (() => {\n",
              "      let quickchartButtonEl =\n",
              "        document.querySelector('#df-2e70fe2c-3cac-4c34-9162-c6024945552a button');\n",
              "      quickchartButtonEl.style.display =\n",
              "        google.colab.kernel.accessAllowed ? 'block' : 'none';\n",
              "    })();\n",
              "  </script>\n",
              "</div>\n",
              "\n",
              "    </div>\n",
              "  </div>\n"
            ],
            "application/vnd.google.colaboratory.intrinsic+json": {
              "type": "dataframe",
              "variable_name": "data2",
              "summary": "{\n  \"name\": \"data2\",\n  \"rows\": 3979,\n  \"fields\": [\n    {\n      \"column\": \"Cancer Type\",\n      \"properties\": {\n        \"dtype\": \"category\",\n        \"num_unique_values\": 1,\n        \"samples\": [\n          \"Head and Neck Squamous Cell Carcinoma (TCGA, US)\"\n        ],\n        \"semantic_type\": \"\",\n        \"description\": \"\"\n      }\n    },\n    {\n      \"column\": \"Donor ID\",\n      \"properties\": {\n        \"dtype\": \"category\",\n        \"num_unique_values\": 327,\n        \"samples\": [\n          \"TCGA-CV-7103\"\n        ],\n        \"semantic_type\": \"\",\n        \"description\": \"\"\n      }\n    },\n    {\n      \"column\": \"Sex\",\n      \"properties\": {\n        \"dtype\": \"category\",\n        \"num_unique_values\": 2,\n        \"samples\": [\n          \"female\"\n        ],\n        \"semantic_type\": \"\",\n        \"description\": \"\"\n      }\n    },\n    {\n      \"column\": \"Age at diagnosis\",\n      \"properties\": {\n        \"dtype\": \"number\",\n        \"std\": 12.140310687377998,\n        \"min\": 19.0,\n        \"max\": 90.0,\n        \"num_unique_values\": 57,\n        \"samples\": [\n          69.0\n        ],\n        \"semantic_type\": \"\",\n        \"description\": \"\"\n      }\n    },\n    {\n      \"column\": \"Age at last follow-up\",\n      \"properties\": {\n        \"dtype\": \"number\",\n        \"std\": 12.132875419241392,\n        \"min\": 19.0,\n        \"max\": 91.0,\n        \"num_unique_values\": 54,\n        \"samples\": [\n          52.0\n        ],\n        \"semantic_type\": \"\",\n        \"description\": \"\"\n      }\n    },\n    {\n      \"column\": \"Disease status last follow-up\",\n      \"properties\": {\n        \"dtype\": \"category\",\n        \"num_unique_values\": 2,\n        \"samples\": [\n          \"complete remission\"\n        ],\n        \"semantic_type\": \"\",\n        \"description\": \"\"\n      }\n    },\n    {\n      \"column\": \"Interval of last follow-up (days)\",\n      \"properties\": {\n        \"dtype\": \"number\",\n        \"std\": 885.5839736075762,\n        \"min\": 0.0,\n        \"max\": 4334.0,\n        \"num_unique_values\": 213,\n        \"samples\": [\n          186.0\n        ],\n        \"semantic_type\": \"\",\n        \"description\": \"\"\n      }\n    },\n    {\n      \"column\": \"Donor vital status\",\n      \"properties\": {\n        \"dtype\": \"category\",\n        \"num_unique_values\": 2,\n        \"samples\": [\n          \"alive\"\n        ],\n        \"semantic_type\": \"\",\n        \"description\": \"\"\n      }\n    },\n    {\n      \"column\": \"Survival time (days)\",\n      \"properties\": {\n        \"dtype\": \"number\",\n        \"std\": 892.3650762609223,\n        \"min\": 45.0,\n        \"max\": 4115.0,\n        \"num_unique_values\": 96,\n        \"samples\": [\n          1969.0\n        ],\n        \"semantic_type\": \"\",\n        \"description\": \"\"\n      }\n    },\n    {\n      \"column\": \"ICD-10\",\n      \"properties\": {\n        \"dtype\": \"category\",\n        \"num_unique_values\": 14,\n        \"samples\": [\n          \"C03.9\"\n        ],\n        \"semantic_type\": \"\",\n        \"description\": \"\"\n      }\n    },\n    {\n      \"column\": \"Donor tumour staging system at diagnosis\",\n      \"properties\": {\n        \"dtype\": \"category\",\n        \"num_unique_values\": 2,\n        \"samples\": [\n          \"7th\"\n        ],\n        \"semantic_type\": \"\",\n        \"description\": \"\"\n      }\n    },\n    {\n      \"column\": \"Specimen ID\",\n      \"properties\": {\n        \"dtype\": \"category\",\n        \"num_unique_values\": 714,\n        \"samples\": [\n          \"TCGA-CN-5360-01A\"\n        ],\n        \"semantic_type\": \"\",\n        \"description\": \"\"\n      }\n    },\n    {\n      \"column\": \"Specimen type\",\n      \"properties\": {\n        \"dtype\": \"category\",\n        \"num_unique_values\": 3,\n        \"samples\": [\n          \"primary tumour\"\n        ],\n        \"semantic_type\": \"\",\n        \"description\": \"\"\n      }\n    },\n    {\n      \"column\": \"Tumour confirmed\",\n      \"properties\": {\n        \"dtype\": \"category\",\n        \"num_unique_values\": 1,\n        \"samples\": [\n          \"yes\"\n        ],\n        \"semantic_type\": \"\",\n        \"description\": \"\"\n      }\n    },\n    {\n      \"column\": \"Digital image of stained section\",\n      \"properties\": {\n        \"dtype\": \"category\",\n        \"num_unique_values\": 400,\n        \"samples\": [\n          \"http://REPLACE_WITH_REAL_URL/5d4e1a7e-fdd7-418a-89cb-cdf3bdaac997\"\n        ],\n        \"semantic_type\": \"\",\n        \"description\": \"\"\n      }\n    },\n    {\n      \"column\": \"Specimen notes\",\n      \"properties\": {\n        \"dtype\": \"category\",\n        \"num_unique_values\": 714,\n        \"samples\": [\n          \"0c00768e-8b13-4b8e-80fc-b344740845f1\"\n        ],\n        \"semantic_type\": \"\",\n        \"description\": \"\"\n      }\n    },\n    {\n      \"column\": \"Sample ID\",\n      \"properties\": {\n        \"dtype\": \"string\",\n        \"num_unique_values\": 3979,\n        \"samples\": [\n          \"TCGA-CN-4722-01A-01D-1432-01\"\n        ],\n        \"semantic_type\": \"\",\n        \"description\": \"\"\n      }\n    },\n    {\n      \"column\": \"Sample type\",\n      \"properties\": {\n        \"dtype\": \"category\",\n        \"num_unique_values\": 3,\n        \"samples\": [\n          \"Primary tumour\"\n        ],\n        \"semantic_type\": \"\",\n        \"description\": \"\"\n      }\n    },\n    {\n      \"column\": \"Sample notes\",\n      \"properties\": {\n        \"dtype\": \"string\",\n        \"num_unique_values\": 3979,\n        \"samples\": [\n          \"dfbd9b87-a9d1-41c4-8765-7da00b5c9ca9\"\n        ],\n        \"semantic_type\": \"\",\n        \"description\": \"\"\n      }\n    }\n  ]\n}"
            }
          },
          "metadata": {},
          "execution_count": 20
        }
      ]
    },
    {
      "cell_type": "markdown",
      "source": [
        "### Concatenation des deux datasets"
      ],
      "metadata": {
        "id": "OB96qxqkRLwj"
      }
    },
    {
      "cell_type": "markdown",
      "source": [
        "La fusion de ces ensembles de données grâce à la concaténation par l'identifiant du donneur nous ouvre des possibilités passionnantes pour une étude de prédiction de survie plus robuste. En combinant les détails cliniques et biologiques des deux ensembles, nous pouvons élaborer des modèles prédictifs plus précis, tenant compte d'une gamme plus large de facteurs influençant la survie des patients atteints de cancer. Cette approche plus complète nous permettra d'explorer des relations potentielles entre les caractéristiques du cancer, les traitements, et les résultats de survie, ouvrant ainsi la voie à une meilleure compréhension des facteurs qui influencent le pronostic des patients."
      ],
      "metadata": {
        "id": "EHWr-8u8RSR_"
      }
    },
    {
      "cell_type": "code",
      "source": [
        "df_cleaned = data1.drop_duplicates('Donor ID')\n",
        "\n",
        "df2_cleaned = data2.drop_duplicates('Donor ID')\n",
        "\n",
        "dataNw = pd.merge(df_cleaned,df2_cleaned , on='Donor ID', how='left')"
      ],
      "metadata": {
        "id": "YOi3JsUVRUEW"
      },
      "execution_count": null,
      "outputs": []
    },
    {
      "cell_type": "code",
      "source": [
        "df_cleaned = data1.drop_duplicates('Donor ID')\n",
        "\n",
        "df2_cleane = data2.drop_duplicates('Donor ID')"
      ],
      "metadata": {
        "id": "Mh8r3vnwRyPW"
      },
      "execution_count": null,
      "outputs": []
    },
    {
      "cell_type": "markdown",
      "source": [
        "## Nettoyage de la nouvelle Dataset"
      ],
      "metadata": {
        "id": "9YUexqLASIsV"
      }
    },
    {
      "cell_type": "code",
      "execution_count": null,
      "metadata": {
        "id": "cXyED3IIObpk"
      },
      "outputs": [],
      "source": [
        "df = pd.read_csv(r'DatasetML.csv')"
      ]
    },
    {
      "cell_type": "code",
      "execution_count": null,
      "metadata": {
        "colab": {
          "base_uri": "https://localhost:8080/",
          "height": 846
        },
        "id": "26lns1PhQLsZ",
        "outputId": "6d42f38a-89a4-4b59-fc8c-6014945be681"
      },
      "outputs": [
        {
          "data": {
            "application/vnd.google.colaboratory.intrinsic+json": {
              "type": "dataframe",
              "variable_name": "df"
            },
            "text/html": [
              "\n",
              "  <div id=\"df-27d65af9-e98e-4b4d-86bb-b04ed331528d\" class=\"colab-df-container\">\n",
              "    <div>\n",
              "<style scoped>\n",
              "    .dataframe tbody tr th:only-of-type {\n",
              "        vertical-align: middle;\n",
              "    }\n",
              "\n",
              "    .dataframe tbody tr th {\n",
              "        vertical-align: top;\n",
              "    }\n",
              "\n",
              "    .dataframe thead th {\n",
              "        text-align: right;\n",
              "    }\n",
              "</style>\n",
              "<table border=\"1\" class=\"dataframe\">\n",
              "  <thead>\n",
              "    <tr style=\"text-align: right;\">\n",
              "      <th></th>\n",
              "      <th>Cancer Type_x</th>\n",
              "      <th>Assembly Version</th>\n",
              "      <th>Chromosome</th>\n",
              "      <th>Chromosome start</th>\n",
              "      <th>Chromosome end</th>\n",
              "      <th>Mutation ID</th>\n",
              "      <th>Mutation type</th>\n",
              "      <th>Segment mean</th>\n",
              "      <th>Analysis ID</th>\n",
              "      <th>Platform</th>\n",
              "      <th>...</th>\n",
              "      <th>Donor vital status</th>\n",
              "      <th>Survival time (days)</th>\n",
              "      <th>Donor tumour staging system at diagnosis</th>\n",
              "      <th>Specimen ID_y</th>\n",
              "      <th>Specimen type_y</th>\n",
              "      <th>Tumour confirmed_y</th>\n",
              "      <th>Specimen notes</th>\n",
              "      <th>Sample ID</th>\n",
              "      <th>Sample type_y</th>\n",
              "      <th>Sample notes</th>\n",
              "    </tr>\n",
              "  </thead>\n",
              "  <tbody>\n",
              "    <tr>\n",
              "      <th>0</th>\n",
              "      <td>Head and Neck Squamous Cell Carcinoma (TCGA, US)</td>\n",
              "      <td>GRCh37</td>\n",
              "      <td>10.0</td>\n",
              "      <td>46478798</td>\n",
              "      <td>46479812</td>\n",
              "      <td>2190753</td>\n",
              "      <td>undetermined</td>\n",
              "      <td>0.32</td>\n",
              "      <td>12170</td>\n",
              "      <td>Affymetrix Genome-Wide Human SNP Array 6.0</td>\n",
              "      <td>...</td>\n",
              "      <td>alive</td>\n",
              "      <td>274.0</td>\n",
              "      <td>6th</td>\n",
              "      <td>TCGA-CN-5374-01A</td>\n",
              "      <td>primary tumour</td>\n",
              "      <td>yes</td>\n",
              "      <td>617df1e0-b075-4610-b6d5-8850786fea70</td>\n",
              "      <td>TCGA-CN-5374-01A-01D-1431-02</td>\n",
              "      <td>Primary tumour</td>\n",
              "      <td>dc9d40c3-0af2-481e-9e54-7b6329649eb6</td>\n",
              "    </tr>\n",
              "    <tr>\n",
              "      <th>1</th>\n",
              "      <td>Head and Neck Squamous Cell Carcinoma (TCGA, US)</td>\n",
              "      <td>GRCh37</td>\n",
              "      <td>10.0</td>\n",
              "      <td>46478798</td>\n",
              "      <td>46479812</td>\n",
              "      <td>2212316</td>\n",
              "      <td>undetermined</td>\n",
              "      <td>0.63</td>\n",
              "      <td>12170</td>\n",
              "      <td>Affymetrix Genome-Wide Human SNP Array 6.0</td>\n",
              "      <td>...</td>\n",
              "      <td>deceased</td>\n",
              "      <td>379.0</td>\n",
              "      <td>6th</td>\n",
              "      <td>TCGA-CN-5369-01A</td>\n",
              "      <td>primary tumour</td>\n",
              "      <td>yes</td>\n",
              "      <td>b4c02606-0f86-46e4-9daf-dc7dbcd60d78</td>\n",
              "      <td>TCGA-CN-5369-01A-01D-1431-02</td>\n",
              "      <td>Primary tumour</td>\n",
              "      <td>1a532ca9-e72f-4906-867b-272a18cfec79</td>\n",
              "    </tr>\n",
              "    <tr>\n",
              "      <th>2</th>\n",
              "      <td>Head and Neck Squamous Cell Carcinoma (TCGA, US)</td>\n",
              "      <td>GRCh37</td>\n",
              "      <td>10.0</td>\n",
              "      <td>46478798</td>\n",
              "      <td>46479812</td>\n",
              "      <td>2205898</td>\n",
              "      <td>undetermined</td>\n",
              "      <td>0.80</td>\n",
              "      <td>12170</td>\n",
              "      <td>Affymetrix Genome-Wide Human SNP Array 6.0</td>\n",
              "      <td>...</td>\n",
              "      <td>deceased</td>\n",
              "      <td>351.0</td>\n",
              "      <td>6th</td>\n",
              "      <td>TCGA-CN-5367-01A</td>\n",
              "      <td>primary tumour</td>\n",
              "      <td>yes</td>\n",
              "      <td>379f9e65-54f3-4566-b018-3f3eee6a4df4</td>\n",
              "      <td>TCGA-CN-5367-01A-01D-1431-02</td>\n",
              "      <td>Primary tumour</td>\n",
              "      <td>1380173d-316f-4821-8b98-654ad1050a38</td>\n",
              "    </tr>\n",
              "    <tr>\n",
              "      <th>3</th>\n",
              "      <td>Head and Neck Squamous Cell Carcinoma (TCGA, US)</td>\n",
              "      <td>GRCh37</td>\n",
              "      <td>10.0</td>\n",
              "      <td>46478798</td>\n",
              "      <td>46479812</td>\n",
              "      <td>2183483</td>\n",
              "      <td>undetermined</td>\n",
              "      <td>0.56</td>\n",
              "      <td>12170</td>\n",
              "      <td>Affymetrix Genome-Wide Human SNP Array 6.0</td>\n",
              "      <td>...</td>\n",
              "      <td>deceased</td>\n",
              "      <td>492.0</td>\n",
              "      <td>6th</td>\n",
              "      <td>TCGA-CN-5364-01A</td>\n",
              "      <td>primary tumour</td>\n",
              "      <td>yes</td>\n",
              "      <td>38a4ac42-be08-4187-98c2-af861218c3db</td>\n",
              "      <td>TCGA-CN-5364-01A-01D-1431-02</td>\n",
              "      <td>Primary tumour</td>\n",
              "      <td>6ce3d597-51f1-4807-a28f-271f25f95ed4</td>\n",
              "    </tr>\n",
              "    <tr>\n",
              "      <th>4</th>\n",
              "      <td>Head and Neck Squamous Cell Carcinoma (TCGA, US)</td>\n",
              "      <td>GRCh37</td>\n",
              "      <td>10.0</td>\n",
              "      <td>46478798</td>\n",
              "      <td>46479812</td>\n",
              "      <td>2214933</td>\n",
              "      <td>undetermined</td>\n",
              "      <td>0.64</td>\n",
              "      <td>12170</td>\n",
              "      <td>Affymetrix Genome-Wide Human SNP Array 6.0</td>\n",
              "      <td>...</td>\n",
              "      <td>alive</td>\n",
              "      <td>866.0</td>\n",
              "      <td>6th</td>\n",
              "      <td>TCGA-CN-5360-01A</td>\n",
              "      <td>primary tumour</td>\n",
              "      <td>yes</td>\n",
              "      <td>0c00768e-8b13-4b8e-80fc-b344740845f1</td>\n",
              "      <td>TCGA-CN-5360-01A-01D-1431-02</td>\n",
              "      <td>Primary tumour</td>\n",
              "      <td>7ee362c2-86ad-462c-b478-21255d96ed90</td>\n",
              "    </tr>\n",
              "  </tbody>\n",
              "</table>\n",
              "<p>5 rows × 33 columns</p>\n",
              "</div>\n",
              "    <div class=\"colab-df-buttons\">\n",
              "\n",
              "  <div class=\"colab-df-container\">\n",
              "    <button class=\"colab-df-convert\" onclick=\"convertToInteractive('df-27d65af9-e98e-4b4d-86bb-b04ed331528d')\"\n",
              "            title=\"Convert this dataframe to an interactive table.\"\n",
              "            style=\"display:none;\">\n",
              "\n",
              "  <svg xmlns=\"http://www.w3.org/2000/svg\" height=\"24px\" viewBox=\"0 -960 960 960\">\n",
              "    <path d=\"M120-120v-720h720v720H120Zm60-500h600v-160H180v160Zm220 220h160v-160H400v160Zm0 220h160v-160H400v160ZM180-400h160v-160H180v160Zm440 0h160v-160H620v160ZM180-180h160v-160H180v160Zm440 0h160v-160H620v160Z\"/>\n",
              "  </svg>\n",
              "    </button>\n",
              "\n",
              "  <style>\n",
              "    .colab-df-container {\n",
              "      display:flex;\n",
              "      gap: 12px;\n",
              "    }\n",
              "\n",
              "    .colab-df-convert {\n",
              "      background-color: #E8F0FE;\n",
              "      border: none;\n",
              "      border-radius: 50%;\n",
              "      cursor: pointer;\n",
              "      display: none;\n",
              "      fill: #1967D2;\n",
              "      height: 32px;\n",
              "      padding: 0 0 0 0;\n",
              "      width: 32px;\n",
              "    }\n",
              "\n",
              "    .colab-df-convert:hover {\n",
              "      background-color: #E2EBFA;\n",
              "      box-shadow: 0px 1px 2px rgba(60, 64, 67, 0.3), 0px 1px 3px 1px rgba(60, 64, 67, 0.15);\n",
              "      fill: #174EA6;\n",
              "    }\n",
              "\n",
              "    .colab-df-buttons div {\n",
              "      margin-bottom: 4px;\n",
              "    }\n",
              "\n",
              "    [theme=dark] .colab-df-convert {\n",
              "      background-color: #3B4455;\n",
              "      fill: #D2E3FC;\n",
              "    }\n",
              "\n",
              "    [theme=dark] .colab-df-convert:hover {\n",
              "      background-color: #434B5C;\n",
              "      box-shadow: 0px 1px 3px 1px rgba(0, 0, 0, 0.15);\n",
              "      filter: drop-shadow(0px 1px 2px rgba(0, 0, 0, 0.3));\n",
              "      fill: #FFFFFF;\n",
              "    }\n",
              "  </style>\n",
              "\n",
              "    <script>\n",
              "      const buttonEl =\n",
              "        document.querySelector('#df-27d65af9-e98e-4b4d-86bb-b04ed331528d button.colab-df-convert');\n",
              "      buttonEl.style.display =\n",
              "        google.colab.kernel.accessAllowed ? 'block' : 'none';\n",
              "\n",
              "      async function convertToInteractive(key) {\n",
              "        const element = document.querySelector('#df-27d65af9-e98e-4b4d-86bb-b04ed331528d');\n",
              "        const dataTable =\n",
              "          await google.colab.kernel.invokeFunction('convertToInteractive',\n",
              "                                                    [key], {});\n",
              "        if (!dataTable) return;\n",
              "\n",
              "        const docLinkHtml = 'Like what you see? Visit the ' +\n",
              "          '<a target=\"_blank\" href=https://colab.research.google.com/notebooks/data_table.ipynb>data table notebook</a>'\n",
              "          + ' to learn more about interactive tables.';\n",
              "        element.innerHTML = '';\n",
              "        dataTable['output_type'] = 'display_data';\n",
              "        await google.colab.output.renderOutput(dataTable, element);\n",
              "        const docLink = document.createElement('div');\n",
              "        docLink.innerHTML = docLinkHtml;\n",
              "        element.appendChild(docLink);\n",
              "      }\n",
              "    </script>\n",
              "  </div>\n",
              "\n",
              "\n",
              "<div id=\"df-7cc24716-81fc-4d4b-82c0-49a90a794197\">\n",
              "  <button class=\"colab-df-quickchart\" onclick=\"quickchart('df-7cc24716-81fc-4d4b-82c0-49a90a794197')\"\n",
              "            title=\"Suggest charts\"\n",
              "            style=\"display:none;\">\n",
              "\n",
              "<svg xmlns=\"http://www.w3.org/2000/svg\" height=\"24px\"viewBox=\"0 0 24 24\"\n",
              "     width=\"24px\">\n",
              "    <g>\n",
              "        <path d=\"M19 3H5c-1.1 0-2 .9-2 2v14c0 1.1.9 2 2 2h14c1.1 0 2-.9 2-2V5c0-1.1-.9-2-2-2zM9 17H7v-7h2v7zm4 0h-2V7h2v10zm4 0h-2v-4h2v4z\"/>\n",
              "    </g>\n",
              "</svg>\n",
              "  </button>\n",
              "\n",
              "<style>\n",
              "  .colab-df-quickchart {\n",
              "      --bg-color: #E8F0FE;\n",
              "      --fill-color: #1967D2;\n",
              "      --hover-bg-color: #E2EBFA;\n",
              "      --hover-fill-color: #174EA6;\n",
              "      --disabled-fill-color: #AAA;\n",
              "      --disabled-bg-color: #DDD;\n",
              "  }\n",
              "\n",
              "  [theme=dark] .colab-df-quickchart {\n",
              "      --bg-color: #3B4455;\n",
              "      --fill-color: #D2E3FC;\n",
              "      --hover-bg-color: #434B5C;\n",
              "      --hover-fill-color: #FFFFFF;\n",
              "      --disabled-bg-color: #3B4455;\n",
              "      --disabled-fill-color: #666;\n",
              "  }\n",
              "\n",
              "  .colab-df-quickchart {\n",
              "    background-color: var(--bg-color);\n",
              "    border: none;\n",
              "    border-radius: 50%;\n",
              "    cursor: pointer;\n",
              "    display: none;\n",
              "    fill: var(--fill-color);\n",
              "    height: 32px;\n",
              "    padding: 0;\n",
              "    width: 32px;\n",
              "  }\n",
              "\n",
              "  .colab-df-quickchart:hover {\n",
              "    background-color: var(--hover-bg-color);\n",
              "    box-shadow: 0 1px 2px rgba(60, 64, 67, 0.3), 0 1px 3px 1px rgba(60, 64, 67, 0.15);\n",
              "    fill: var(--button-hover-fill-color);\n",
              "  }\n",
              "\n",
              "  .colab-df-quickchart-complete:disabled,\n",
              "  .colab-df-quickchart-complete:disabled:hover {\n",
              "    background-color: var(--disabled-bg-color);\n",
              "    fill: var(--disabled-fill-color);\n",
              "    box-shadow: none;\n",
              "  }\n",
              "\n",
              "  .colab-df-spinner {\n",
              "    border: 2px solid var(--fill-color);\n",
              "    border-color: transparent;\n",
              "    border-bottom-color: var(--fill-color);\n",
              "    animation:\n",
              "      spin 1s steps(1) infinite;\n",
              "  }\n",
              "\n",
              "  @keyframes spin {\n",
              "    0% {\n",
              "      border-color: transparent;\n",
              "      border-bottom-color: var(--fill-color);\n",
              "      border-left-color: var(--fill-color);\n",
              "    }\n",
              "    20% {\n",
              "      border-color: transparent;\n",
              "      border-left-color: var(--fill-color);\n",
              "      border-top-color: var(--fill-color);\n",
              "    }\n",
              "    30% {\n",
              "      border-color: transparent;\n",
              "      border-left-color: var(--fill-color);\n",
              "      border-top-color: var(--fill-color);\n",
              "      border-right-color: var(--fill-color);\n",
              "    }\n",
              "    40% {\n",
              "      border-color: transparent;\n",
              "      border-right-color: var(--fill-color);\n",
              "      border-top-color: var(--fill-color);\n",
              "    }\n",
              "    60% {\n",
              "      border-color: transparent;\n",
              "      border-right-color: var(--fill-color);\n",
              "    }\n",
              "    80% {\n",
              "      border-color: transparent;\n",
              "      border-right-color: var(--fill-color);\n",
              "      border-bottom-color: var(--fill-color);\n",
              "    }\n",
              "    90% {\n",
              "      border-color: transparent;\n",
              "      border-bottom-color: var(--fill-color);\n",
              "    }\n",
              "  }\n",
              "</style>\n",
              "\n",
              "  <script>\n",
              "    async function quickchart(key) {\n",
              "      const quickchartButtonEl =\n",
              "        document.querySelector('#' + key + ' button');\n",
              "      quickchartButtonEl.disabled = true;  // To prevent multiple clicks.\n",
              "      quickchartButtonEl.classList.add('colab-df-spinner');\n",
              "      try {\n",
              "        const charts = await google.colab.kernel.invokeFunction(\n",
              "            'suggestCharts', [key], {});\n",
              "      } catch (error) {\n",
              "        console.error('Error during call to suggestCharts:', error);\n",
              "      }\n",
              "      quickchartButtonEl.classList.remove('colab-df-spinner');\n",
              "      quickchartButtonEl.classList.add('colab-df-quickchart-complete');\n",
              "    }\n",
              "    (() => {\n",
              "      let quickchartButtonEl =\n",
              "        document.querySelector('#df-7cc24716-81fc-4d4b-82c0-49a90a794197 button');\n",
              "      quickchartButtonEl.style.display =\n",
              "        google.colab.kernel.accessAllowed ? 'block' : 'none';\n",
              "    })();\n",
              "  </script>\n",
              "</div>\n",
              "\n",
              "    </div>\n",
              "  </div>\n"
            ],
            "text/plain": [
              "                                      Cancer Type_x Assembly Version  \\\n",
              "0  Head and Neck Squamous Cell Carcinoma (TCGA, US)           GRCh37   \n",
              "1  Head and Neck Squamous Cell Carcinoma (TCGA, US)           GRCh37   \n",
              "2  Head and Neck Squamous Cell Carcinoma (TCGA, US)           GRCh37   \n",
              "3  Head and Neck Squamous Cell Carcinoma (TCGA, US)           GRCh37   \n",
              "4  Head and Neck Squamous Cell Carcinoma (TCGA, US)           GRCh37   \n",
              "\n",
              "   Chromosome  Chromosome start  Chromosome end  Mutation ID Mutation type  \\\n",
              "0        10.0          46478798        46479812      2190753  undetermined   \n",
              "1        10.0          46478798        46479812      2212316  undetermined   \n",
              "2        10.0          46478798        46479812      2205898  undetermined   \n",
              "3        10.0          46478798        46479812      2183483  undetermined   \n",
              "4        10.0          46478798        46479812      2214933  undetermined   \n",
              "\n",
              "   Segment mean  Analysis ID                                    Platform  ...  \\\n",
              "0          0.32        12170  Affymetrix Genome-Wide Human SNP Array 6.0  ...   \n",
              "1          0.63        12170  Affymetrix Genome-Wide Human SNP Array 6.0  ...   \n",
              "2          0.80        12170  Affymetrix Genome-Wide Human SNP Array 6.0  ...   \n",
              "3          0.56        12170  Affymetrix Genome-Wide Human SNP Array 6.0  ...   \n",
              "4          0.64        12170  Affymetrix Genome-Wide Human SNP Array 6.0  ...   \n",
              "\n",
              "  Donor vital status Survival time (days)  \\\n",
              "0              alive                274.0   \n",
              "1           deceased                379.0   \n",
              "2           deceased                351.0   \n",
              "3           deceased                492.0   \n",
              "4              alive                866.0   \n",
              "\n",
              "   Donor tumour staging system at diagnosis     Specimen ID_y Specimen type_y  \\\n",
              "0                                       6th  TCGA-CN-5374-01A  primary tumour   \n",
              "1                                       6th  TCGA-CN-5369-01A  primary tumour   \n",
              "2                                       6th  TCGA-CN-5367-01A  primary tumour   \n",
              "3                                       6th  TCGA-CN-5364-01A  primary tumour   \n",
              "4                                       6th  TCGA-CN-5360-01A  primary tumour   \n",
              "\n",
              "  Tumour confirmed_y                        Specimen notes  \\\n",
              "0                yes  617df1e0-b075-4610-b6d5-8850786fea70   \n",
              "1                yes  b4c02606-0f86-46e4-9daf-dc7dbcd60d78   \n",
              "2                yes  379f9e65-54f3-4566-b018-3f3eee6a4df4   \n",
              "3                yes  38a4ac42-be08-4187-98c2-af861218c3db   \n",
              "4                yes  0c00768e-8b13-4b8e-80fc-b344740845f1   \n",
              "\n",
              "                      Sample ID   Sample type_y  \\\n",
              "0  TCGA-CN-5374-01A-01D-1431-02  Primary tumour   \n",
              "1  TCGA-CN-5369-01A-01D-1431-02  Primary tumour   \n",
              "2  TCGA-CN-5367-01A-01D-1431-02  Primary tumour   \n",
              "3  TCGA-CN-5364-01A-01D-1431-02  Primary tumour   \n",
              "4  TCGA-CN-5360-01A-01D-1431-02  Primary tumour   \n",
              "\n",
              "                           Sample notes  \n",
              "0  dc9d40c3-0af2-481e-9e54-7b6329649eb6  \n",
              "1  1a532ca9-e72f-4906-867b-272a18cfec79  \n",
              "2  1380173d-316f-4821-8b98-654ad1050a38  \n",
              "3  6ce3d597-51f1-4807-a28f-271f25f95ed4  \n",
              "4  7ee362c2-86ad-462c-b478-21255d96ed90  \n",
              "\n",
              "[5 rows x 33 columns]"
            ]
          },
          "execution_count": 40,
          "metadata": {},
          "output_type": "execute_result"
        }
      ],
      "source": [
        "df.head()"
      ]
    },
    {
      "cell_type": "code",
      "execution_count": null,
      "metadata": {
        "colab": {
          "base_uri": "https://localhost:8080/"
        },
        "id": "cQH_cmxQ6bFI",
        "outputId": "ee6dc58a-5a2f-4a70-8ab3-f914cae2184f"
      },
      "outputs": [
        {
          "name": "stdout",
          "output_type": "stream",
          "text": [
            "<class 'pandas.core.frame.DataFrame'>\n",
            "RangeIndex: 325 entries, 0 to 324\n",
            "Data columns (total 33 columns):\n",
            " #   Column                                    Non-Null Count  Dtype  \n",
            "---  ------                                    --------------  -----  \n",
            " 0   Cancer Type_x                             325 non-null    object \n",
            " 1   Assembly Version                          325 non-null    object \n",
            " 2   Chromosome                                325 non-null    float64\n",
            " 3   Chromosome start                          325 non-null    int64  \n",
            " 4   Chromosome end                            325 non-null    int64  \n",
            " 5   Mutation ID                               325 non-null    int64  \n",
            " 6   Mutation type                             325 non-null    object \n",
            " 7   Segment mean                              325 non-null    float64\n",
            " 8   Analysis ID                               325 non-null    int64  \n",
            " 9   Platform                                  325 non-null    object \n",
            " 10  Donor ID                                  325 non-null    object \n",
            " 11  Sex_x                                     325 non-null    object \n",
            " 12  Age at diagnosis_x                        324 non-null    float64\n",
            " 13  ICD-10_x                                  325 non-null    object \n",
            " 14  Specimen ID_x                             325 non-null    object \n",
            " 15  Specimen type_x                           325 non-null    object \n",
            " 16  Tumour confirmed_x                        175 non-null    object \n",
            " 17  Analyzed sample ID                        325 non-null    object \n",
            " 18  Sample type_x                             325 non-null    object \n",
            " 19  Matched sample ID                         164 non-null    object \n",
            " 20  Age at last follow-up                     324 non-null    float64\n",
            " 21  Disease status last follow-up             288 non-null    object \n",
            " 22  Interval of last follow-up (days)         233 non-null    float64\n",
            " 23  Donor vital status                        325 non-null    object \n",
            " 24  Survival time (days)                      99 non-null     float64\n",
            " 25  Donor tumour staging system at diagnosis  325 non-null    object \n",
            " 26  Specimen ID_y                             325 non-null    object \n",
            " 27  Specimen type_y                           325 non-null    object \n",
            " 28  Tumour confirmed_y                        325 non-null    object \n",
            " 29  Specimen notes                            325 non-null    object \n",
            " 30  Sample ID                                 325 non-null    object \n",
            " 31  Sample type_y                             325 non-null    object \n",
            " 32  Sample notes                              325 non-null    object \n",
            "dtypes: float64(6), int64(4), object(23)\n",
            "memory usage: 83.9+ KB\n"
          ]
        }
      ],
      "source": [
        "df.info()"
      ]
    },
    {
      "cell_type": "code",
      "execution_count": null,
      "metadata": {
        "id": "mf3t5Vki6bF0"
      },
      "outputs": [],
      "source": [
        "# Boucle pour parcourir chaque colonne\n",
        "for colonne in NewDataset.columns:\n",
        "    # Afficher le nom de la colonne\n",
        "    print(f\"Colonne : {colonne}\")\n",
        "    # Afficher les différentes valeurs uniques de la colonne\n",
        "    print(NewDataset[colonne].unique())\n",
        "    print(\"\\n\")\n"
      ]
    },
    {
      "cell_type": "code",
      "execution_count": null,
      "metadata": {
        "id": "oVC3tsae6bF-"
      },
      "outputs": [],
      "source": [
        "colonnes_a_supprimer = [ 'Cancer Type_x','Assembly Version','Platform','Specimen type_x','Tumour confirmed_x','Sample type_x','Disease status last follow-up','Matched sample ID']\n",
        "\n",
        "# Supprimer les colonnes spécifiées\n",
        "df.drop(columns=colonnes_a_supprimer, inplace=True)"
      ]
    },
    {
      "cell_type": "code",
      "execution_count": null,
      "metadata": {
        "colab": {
          "base_uri": "https://localhost:8080/"
        },
        "id": "KgCWaa5kWg9Y",
        "outputId": "23c32a45-41d9-492b-ee27-d90c35ced423"
      },
      "outputs": [
        {
          "data": {
            "text/plain": [
              "Index(['Chromosome', 'Chromosome start', 'Chromosome end', 'Mutation ID',\n",
              "       'Mutation type', 'Segment mean', 'Analysis ID', 'Donor ID', 'Sex_x',\n",
              "       'Age at diagnosis_x', 'ICD-10_x', 'Specimen ID_x', 'Analyzed sample ID',\n",
              "       'Age at last follow-up', 'Interval of last follow-up (days)',\n",
              "       'Donor vital status', 'Survival time (days)',\n",
              "       'Donor tumour staging system at diagnosis', 'Specimen ID_y',\n",
              "       'Specimen type_y', 'Tumour confirmed_y', 'Specimen notes', 'Sample ID',\n",
              "       'Sample type_y', 'Sample notes'],\n",
              "      dtype='object')"
            ]
          },
          "execution_count": 43,
          "metadata": {},
          "output_type": "execute_result"
        }
      ],
      "source": [
        "df.columns"
      ]
    },
    {
      "cell_type": "code",
      "execution_count": null,
      "metadata": {
        "id": "mJsQDz_cPmMl"
      },
      "outputs": [],
      "source": [
        "df1 = df.drop_duplicates('Donor ID')"
      ]
    },
    {
      "cell_type": "code",
      "execution_count": null,
      "metadata": {
        "id": "gCocyfXzgCKO"
      },
      "outputs": [],
      "source": [
        "df1['Survival time (days)'].fillna(df1['Interval of last follow-up (days)'], inplace=True)"
      ]
    },
    {
      "cell_type": "code",
      "execution_count": null,
      "metadata": {
        "id": "ts9es8VEgcqq"
      },
      "outputs": [],
      "source": [
        "# Supprimer les lignes contenant des valeurs manquantes\n",
        "df1 = df1.dropna(subset=[\"Survival time (days)\"])"
      ]
    },
    {
      "cell_type": "code",
      "execution_count": null,
      "metadata": {
        "colab": {
          "base_uri": "https://localhost:8080/"
        },
        "id": "8iX5z2YI28jI",
        "outputId": "b0b53f31-68b1-4559-b1fa-640578071b32"
      },
      "outputs": [
        {
          "data": {
            "text/plain": [
              "(233, 25)"
            ]
          },
          "execution_count": 47,
          "metadata": {},
          "output_type": "execute_result"
        }
      ],
      "source": [
        "df1.shape"
      ]
    },
    {
      "cell_type": "code",
      "execution_count": null,
      "metadata": {
        "colab": {
          "base_uri": "https://localhost:8080/"
        },
        "id": "VLn0zF3ygQTE",
        "outputId": "4d11a9e3-3e4e-48f0-e503-41b01f3c0f1d"
      },
      "outputs": [
        {
          "name": "stdout",
          "output_type": "stream",
          "text": [
            "<class 'pandas.core.frame.DataFrame'>\n",
            "Index: 233 entries, 0 to 324\n",
            "Data columns (total 25 columns):\n",
            " #   Column                                    Non-Null Count  Dtype  \n",
            "---  ------                                    --------------  -----  \n",
            " 0   Chromosome                                233 non-null    float64\n",
            " 1   Chromosome start                          233 non-null    int64  \n",
            " 2   Chromosome end                            233 non-null    int64  \n",
            " 3   Mutation ID                               233 non-null    int64  \n",
            " 4   Mutation type                             233 non-null    object \n",
            " 5   Segment mean                              233 non-null    float64\n",
            " 6   Analysis ID                               233 non-null    int64  \n",
            " 7   Donor ID                                  233 non-null    object \n",
            " 8   Sex_x                                     233 non-null    object \n",
            " 9   Age at diagnosis_x                        233 non-null    float64\n",
            " 10  ICD-10_x                                  233 non-null    object \n",
            " 11  Specimen ID_x                             233 non-null    object \n",
            " 12  Analyzed sample ID                        233 non-null    object \n",
            " 13  Age at last follow-up                     233 non-null    float64\n",
            " 14  Interval of last follow-up (days)         233 non-null    float64\n",
            " 15  Donor vital status                        233 non-null    object \n",
            " 16  Survival time (days)                      233 non-null    float64\n",
            " 17  Donor tumour staging system at diagnosis  233 non-null    object \n",
            " 18  Specimen ID_y                             233 non-null    object \n",
            " 19  Specimen type_y                           233 non-null    object \n",
            " 20  Tumour confirmed_y                        233 non-null    object \n",
            " 21  Specimen notes                            233 non-null    object \n",
            " 22  Sample ID                                 233 non-null    object \n",
            " 23  Sample type_y                             233 non-null    object \n",
            " 24  Sample notes                              233 non-null    object \n",
            "dtypes: float64(6), int64(4), object(15)\n",
            "memory usage: 47.3+ KB\n"
          ]
        }
      ],
      "source": [
        "df1.info()"
      ]
    },
    {
      "cell_type": "code",
      "execution_count": null,
      "metadata": {
        "id": "lxxyTyPKuQpD"
      },
      "outputs": [],
      "source": [
        "# Remplacez les valeurs de la colonne 'Donor vital status'\n",
        "df1['Donor vital status'] = df1['Donor vital status'].replace({'alive': 1, 'deceased': 0})"
      ]
    },
    {
      "cell_type": "code",
      "execution_count": null,
      "metadata": {
        "colab": {
          "base_uri": "https://localhost:8080/",
          "height": 846
        },
        "id": "5yLCqrIHcZBQ",
        "outputId": "826152e2-46e4-4a85-a5ec-d2e88fe8d635"
      },
      "outputs": [
        {
          "data": {
            "application/vnd.google.colaboratory.intrinsic+json": {
              "type": "dataframe",
              "variable_name": "df1"
            },
            "text/html": [
              "\n",
              "  <div id=\"df-a9a6f648-e274-4e16-a192-f8a564532826\" class=\"colab-df-container\">\n",
              "    <div>\n",
              "<style scoped>\n",
              "    .dataframe tbody tr th:only-of-type {\n",
              "        vertical-align: middle;\n",
              "    }\n",
              "\n",
              "    .dataframe tbody tr th {\n",
              "        vertical-align: top;\n",
              "    }\n",
              "\n",
              "    .dataframe thead th {\n",
              "        text-align: right;\n",
              "    }\n",
              "</style>\n",
              "<table border=\"1\" class=\"dataframe\">\n",
              "  <thead>\n",
              "    <tr style=\"text-align: right;\">\n",
              "      <th></th>\n",
              "      <th>Chromosome</th>\n",
              "      <th>Chromosome start</th>\n",
              "      <th>Chromosome end</th>\n",
              "      <th>Mutation ID</th>\n",
              "      <th>Mutation type</th>\n",
              "      <th>Segment mean</th>\n",
              "      <th>Analysis ID</th>\n",
              "      <th>Donor ID</th>\n",
              "      <th>Sex_x</th>\n",
              "      <th>Age at diagnosis_x</th>\n",
              "      <th>...</th>\n",
              "      <th>Donor vital status</th>\n",
              "      <th>Survival time (days)</th>\n",
              "      <th>Donor tumour staging system at diagnosis</th>\n",
              "      <th>Specimen ID_y</th>\n",
              "      <th>Specimen type_y</th>\n",
              "      <th>Tumour confirmed_y</th>\n",
              "      <th>Specimen notes</th>\n",
              "      <th>Sample ID</th>\n",
              "      <th>Sample type_y</th>\n",
              "      <th>Sample notes</th>\n",
              "    </tr>\n",
              "  </thead>\n",
              "  <tbody>\n",
              "    <tr>\n",
              "      <th>0</th>\n",
              "      <td>10.0</td>\n",
              "      <td>46478798</td>\n",
              "      <td>46479812</td>\n",
              "      <td>2190753</td>\n",
              "      <td>undetermined</td>\n",
              "      <td>0.32</td>\n",
              "      <td>12170</td>\n",
              "      <td>TCGA-CN-5374</td>\n",
              "      <td>female</td>\n",
              "      <td>56.0</td>\n",
              "      <td>...</td>\n",
              "      <td>1</td>\n",
              "      <td>274.0</td>\n",
              "      <td>6th</td>\n",
              "      <td>TCGA-CN-5374-01A</td>\n",
              "      <td>primary tumour</td>\n",
              "      <td>yes</td>\n",
              "      <td>617df1e0-b075-4610-b6d5-8850786fea70</td>\n",
              "      <td>TCGA-CN-5374-01A-01D-1431-02</td>\n",
              "      <td>Primary tumour</td>\n",
              "      <td>dc9d40c3-0af2-481e-9e54-7b6329649eb6</td>\n",
              "    </tr>\n",
              "    <tr>\n",
              "      <th>1</th>\n",
              "      <td>10.0</td>\n",
              "      <td>46478798</td>\n",
              "      <td>46479812</td>\n",
              "      <td>2212316</td>\n",
              "      <td>undetermined</td>\n",
              "      <td>0.63</td>\n",
              "      <td>12170</td>\n",
              "      <td>TCGA-CN-5369</td>\n",
              "      <td>female</td>\n",
              "      <td>90.0</td>\n",
              "      <td>...</td>\n",
              "      <td>0</td>\n",
              "      <td>379.0</td>\n",
              "      <td>6th</td>\n",
              "      <td>TCGA-CN-5369-01A</td>\n",
              "      <td>primary tumour</td>\n",
              "      <td>yes</td>\n",
              "      <td>b4c02606-0f86-46e4-9daf-dc7dbcd60d78</td>\n",
              "      <td>TCGA-CN-5369-01A-01D-1431-02</td>\n",
              "      <td>Primary tumour</td>\n",
              "      <td>1a532ca9-e72f-4906-867b-272a18cfec79</td>\n",
              "    </tr>\n",
              "    <tr>\n",
              "      <th>2</th>\n",
              "      <td>10.0</td>\n",
              "      <td>46478798</td>\n",
              "      <td>46479812</td>\n",
              "      <td>2205898</td>\n",
              "      <td>undetermined</td>\n",
              "      <td>0.80</td>\n",
              "      <td>12170</td>\n",
              "      <td>TCGA-CN-5367</td>\n",
              "      <td>female</td>\n",
              "      <td>60.0</td>\n",
              "      <td>...</td>\n",
              "      <td>0</td>\n",
              "      <td>351.0</td>\n",
              "      <td>6th</td>\n",
              "      <td>TCGA-CN-5367-01A</td>\n",
              "      <td>primary tumour</td>\n",
              "      <td>yes</td>\n",
              "      <td>379f9e65-54f3-4566-b018-3f3eee6a4df4</td>\n",
              "      <td>TCGA-CN-5367-01A-01D-1431-02</td>\n",
              "      <td>Primary tumour</td>\n",
              "      <td>1380173d-316f-4821-8b98-654ad1050a38</td>\n",
              "    </tr>\n",
              "    <tr>\n",
              "      <th>3</th>\n",
              "      <td>10.0</td>\n",
              "      <td>46478798</td>\n",
              "      <td>46479812</td>\n",
              "      <td>2183483</td>\n",
              "      <td>undetermined</td>\n",
              "      <td>0.56</td>\n",
              "      <td>12170</td>\n",
              "      <td>TCGA-CN-5364</td>\n",
              "      <td>male</td>\n",
              "      <td>55.0</td>\n",
              "      <td>...</td>\n",
              "      <td>0</td>\n",
              "      <td>492.0</td>\n",
              "      <td>6th</td>\n",
              "      <td>TCGA-CN-5364-01A</td>\n",
              "      <td>primary tumour</td>\n",
              "      <td>yes</td>\n",
              "      <td>38a4ac42-be08-4187-98c2-af861218c3db</td>\n",
              "      <td>TCGA-CN-5364-01A-01D-1431-02</td>\n",
              "      <td>Primary tumour</td>\n",
              "      <td>6ce3d597-51f1-4807-a28f-271f25f95ed4</td>\n",
              "    </tr>\n",
              "    <tr>\n",
              "      <th>4</th>\n",
              "      <td>10.0</td>\n",
              "      <td>46478798</td>\n",
              "      <td>46479812</td>\n",
              "      <td>2214933</td>\n",
              "      <td>undetermined</td>\n",
              "      <td>0.64</td>\n",
              "      <td>12170</td>\n",
              "      <td>TCGA-CN-5360</td>\n",
              "      <td>male</td>\n",
              "      <td>68.0</td>\n",
              "      <td>...</td>\n",
              "      <td>1</td>\n",
              "      <td>866.0</td>\n",
              "      <td>6th</td>\n",
              "      <td>TCGA-CN-5360-01A</td>\n",
              "      <td>primary tumour</td>\n",
              "      <td>yes</td>\n",
              "      <td>0c00768e-8b13-4b8e-80fc-b344740845f1</td>\n",
              "      <td>TCGA-CN-5360-01A-01D-1431-02</td>\n",
              "      <td>Primary tumour</td>\n",
              "      <td>7ee362c2-86ad-462c-b478-21255d96ed90</td>\n",
              "    </tr>\n",
              "  </tbody>\n",
              "</table>\n",
              "<p>5 rows × 25 columns</p>\n",
              "</div>\n",
              "    <div class=\"colab-df-buttons\">\n",
              "\n",
              "  <div class=\"colab-df-container\">\n",
              "    <button class=\"colab-df-convert\" onclick=\"convertToInteractive('df-a9a6f648-e274-4e16-a192-f8a564532826')\"\n",
              "            title=\"Convert this dataframe to an interactive table.\"\n",
              "            style=\"display:none;\">\n",
              "\n",
              "  <svg xmlns=\"http://www.w3.org/2000/svg\" height=\"24px\" viewBox=\"0 -960 960 960\">\n",
              "    <path d=\"M120-120v-720h720v720H120Zm60-500h600v-160H180v160Zm220 220h160v-160H400v160Zm0 220h160v-160H400v160ZM180-400h160v-160H180v160Zm440 0h160v-160H620v160ZM180-180h160v-160H180v160Zm440 0h160v-160H620v160Z\"/>\n",
              "  </svg>\n",
              "    </button>\n",
              "\n",
              "  <style>\n",
              "    .colab-df-container {\n",
              "      display:flex;\n",
              "      gap: 12px;\n",
              "    }\n",
              "\n",
              "    .colab-df-convert {\n",
              "      background-color: #E8F0FE;\n",
              "      border: none;\n",
              "      border-radius: 50%;\n",
              "      cursor: pointer;\n",
              "      display: none;\n",
              "      fill: #1967D2;\n",
              "      height: 32px;\n",
              "      padding: 0 0 0 0;\n",
              "      width: 32px;\n",
              "    }\n",
              "\n",
              "    .colab-df-convert:hover {\n",
              "      background-color: #E2EBFA;\n",
              "      box-shadow: 0px 1px 2px rgba(60, 64, 67, 0.3), 0px 1px 3px 1px rgba(60, 64, 67, 0.15);\n",
              "      fill: #174EA6;\n",
              "    }\n",
              "\n",
              "    .colab-df-buttons div {\n",
              "      margin-bottom: 4px;\n",
              "    }\n",
              "\n",
              "    [theme=dark] .colab-df-convert {\n",
              "      background-color: #3B4455;\n",
              "      fill: #D2E3FC;\n",
              "    }\n",
              "\n",
              "    [theme=dark] .colab-df-convert:hover {\n",
              "      background-color: #434B5C;\n",
              "      box-shadow: 0px 1px 3px 1px rgba(0, 0, 0, 0.15);\n",
              "      filter: drop-shadow(0px 1px 2px rgba(0, 0, 0, 0.3));\n",
              "      fill: #FFFFFF;\n",
              "    }\n",
              "  </style>\n",
              "\n",
              "    <script>\n",
              "      const buttonEl =\n",
              "        document.querySelector('#df-a9a6f648-e274-4e16-a192-f8a564532826 button.colab-df-convert');\n",
              "      buttonEl.style.display =\n",
              "        google.colab.kernel.accessAllowed ? 'block' : 'none';\n",
              "\n",
              "      async function convertToInteractive(key) {\n",
              "        const element = document.querySelector('#df-a9a6f648-e274-4e16-a192-f8a564532826');\n",
              "        const dataTable =\n",
              "          await google.colab.kernel.invokeFunction('convertToInteractive',\n",
              "                                                    [key], {});\n",
              "        if (!dataTable) return;\n",
              "\n",
              "        const docLinkHtml = 'Like what you see? Visit the ' +\n",
              "          '<a target=\"_blank\" href=https://colab.research.google.com/notebooks/data_table.ipynb>data table notebook</a>'\n",
              "          + ' to learn more about interactive tables.';\n",
              "        element.innerHTML = '';\n",
              "        dataTable['output_type'] = 'display_data';\n",
              "        await google.colab.output.renderOutput(dataTable, element);\n",
              "        const docLink = document.createElement('div');\n",
              "        docLink.innerHTML = docLinkHtml;\n",
              "        element.appendChild(docLink);\n",
              "      }\n",
              "    </script>\n",
              "  </div>\n",
              "\n",
              "\n",
              "<div id=\"df-b66e16ec-9396-4fad-9b75-c3e54fb148fc\">\n",
              "  <button class=\"colab-df-quickchart\" onclick=\"quickchart('df-b66e16ec-9396-4fad-9b75-c3e54fb148fc')\"\n",
              "            title=\"Suggest charts\"\n",
              "            style=\"display:none;\">\n",
              "\n",
              "<svg xmlns=\"http://www.w3.org/2000/svg\" height=\"24px\"viewBox=\"0 0 24 24\"\n",
              "     width=\"24px\">\n",
              "    <g>\n",
              "        <path d=\"M19 3H5c-1.1 0-2 .9-2 2v14c0 1.1.9 2 2 2h14c1.1 0 2-.9 2-2V5c0-1.1-.9-2-2-2zM9 17H7v-7h2v7zm4 0h-2V7h2v10zm4 0h-2v-4h2v4z\"/>\n",
              "    </g>\n",
              "</svg>\n",
              "  </button>\n",
              "\n",
              "<style>\n",
              "  .colab-df-quickchart {\n",
              "      --bg-color: #E8F0FE;\n",
              "      --fill-color: #1967D2;\n",
              "      --hover-bg-color: #E2EBFA;\n",
              "      --hover-fill-color: #174EA6;\n",
              "      --disabled-fill-color: #AAA;\n",
              "      --disabled-bg-color: #DDD;\n",
              "  }\n",
              "\n",
              "  [theme=dark] .colab-df-quickchart {\n",
              "      --bg-color: #3B4455;\n",
              "      --fill-color: #D2E3FC;\n",
              "      --hover-bg-color: #434B5C;\n",
              "      --hover-fill-color: #FFFFFF;\n",
              "      --disabled-bg-color: #3B4455;\n",
              "      --disabled-fill-color: #666;\n",
              "  }\n",
              "\n",
              "  .colab-df-quickchart {\n",
              "    background-color: var(--bg-color);\n",
              "    border: none;\n",
              "    border-radius: 50%;\n",
              "    cursor: pointer;\n",
              "    display: none;\n",
              "    fill: var(--fill-color);\n",
              "    height: 32px;\n",
              "    padding: 0;\n",
              "    width: 32px;\n",
              "  }\n",
              "\n",
              "  .colab-df-quickchart:hover {\n",
              "    background-color: var(--hover-bg-color);\n",
              "    box-shadow: 0 1px 2px rgba(60, 64, 67, 0.3), 0 1px 3px 1px rgba(60, 64, 67, 0.15);\n",
              "    fill: var(--button-hover-fill-color);\n",
              "  }\n",
              "\n",
              "  .colab-df-quickchart-complete:disabled,\n",
              "  .colab-df-quickchart-complete:disabled:hover {\n",
              "    background-color: var(--disabled-bg-color);\n",
              "    fill: var(--disabled-fill-color);\n",
              "    box-shadow: none;\n",
              "  }\n",
              "\n",
              "  .colab-df-spinner {\n",
              "    border: 2px solid var(--fill-color);\n",
              "    border-color: transparent;\n",
              "    border-bottom-color: var(--fill-color);\n",
              "    animation:\n",
              "      spin 1s steps(1) infinite;\n",
              "  }\n",
              "\n",
              "  @keyframes spin {\n",
              "    0% {\n",
              "      border-color: transparent;\n",
              "      border-bottom-color: var(--fill-color);\n",
              "      border-left-color: var(--fill-color);\n",
              "    }\n",
              "    20% {\n",
              "      border-color: transparent;\n",
              "      border-left-color: var(--fill-color);\n",
              "      border-top-color: var(--fill-color);\n",
              "    }\n",
              "    30% {\n",
              "      border-color: transparent;\n",
              "      border-left-color: var(--fill-color);\n",
              "      border-top-color: var(--fill-color);\n",
              "      border-right-color: var(--fill-color);\n",
              "    }\n",
              "    40% {\n",
              "      border-color: transparent;\n",
              "      border-right-color: var(--fill-color);\n",
              "      border-top-color: var(--fill-color);\n",
              "    }\n",
              "    60% {\n",
              "      border-color: transparent;\n",
              "      border-right-color: var(--fill-color);\n",
              "    }\n",
              "    80% {\n",
              "      border-color: transparent;\n",
              "      border-right-color: var(--fill-color);\n",
              "      border-bottom-color: var(--fill-color);\n",
              "    }\n",
              "    90% {\n",
              "      border-color: transparent;\n",
              "      border-bottom-color: var(--fill-color);\n",
              "    }\n",
              "  }\n",
              "</style>\n",
              "\n",
              "  <script>\n",
              "    async function quickchart(key) {\n",
              "      const quickchartButtonEl =\n",
              "        document.querySelector('#' + key + ' button');\n",
              "      quickchartButtonEl.disabled = true;  // To prevent multiple clicks.\n",
              "      quickchartButtonEl.classList.add('colab-df-spinner');\n",
              "      try {\n",
              "        const charts = await google.colab.kernel.invokeFunction(\n",
              "            'suggestCharts', [key], {});\n",
              "      } catch (error) {\n",
              "        console.error('Error during call to suggestCharts:', error);\n",
              "      }\n",
              "      quickchartButtonEl.classList.remove('colab-df-spinner');\n",
              "      quickchartButtonEl.classList.add('colab-df-quickchart-complete');\n",
              "    }\n",
              "    (() => {\n",
              "      let quickchartButtonEl =\n",
              "        document.querySelector('#df-b66e16ec-9396-4fad-9b75-c3e54fb148fc button');\n",
              "      quickchartButtonEl.style.display =\n",
              "        google.colab.kernel.accessAllowed ? 'block' : 'none';\n",
              "    })();\n",
              "  </script>\n",
              "</div>\n",
              "\n",
              "    </div>\n",
              "  </div>\n"
            ],
            "text/plain": [
              "   Chromosome  Chromosome start  Chromosome end  Mutation ID Mutation type  \\\n",
              "0        10.0          46478798        46479812      2190753  undetermined   \n",
              "1        10.0          46478798        46479812      2212316  undetermined   \n",
              "2        10.0          46478798        46479812      2205898  undetermined   \n",
              "3        10.0          46478798        46479812      2183483  undetermined   \n",
              "4        10.0          46478798        46479812      2214933  undetermined   \n",
              "\n",
              "   Segment mean  Analysis ID      Donor ID   Sex_x  Age at diagnosis_x  ...  \\\n",
              "0          0.32        12170  TCGA-CN-5374  female                56.0  ...   \n",
              "1          0.63        12170  TCGA-CN-5369  female                90.0  ...   \n",
              "2          0.80        12170  TCGA-CN-5367  female                60.0  ...   \n",
              "3          0.56        12170  TCGA-CN-5364    male                55.0  ...   \n",
              "4          0.64        12170  TCGA-CN-5360    male                68.0  ...   \n",
              "\n",
              "  Donor vital status Survival time (days)  \\\n",
              "0                  1                274.0   \n",
              "1                  0                379.0   \n",
              "2                  0                351.0   \n",
              "3                  0                492.0   \n",
              "4                  1                866.0   \n",
              "\n",
              "  Donor tumour staging system at diagnosis     Specimen ID_y  Specimen type_y  \\\n",
              "0                                      6th  TCGA-CN-5374-01A   primary tumour   \n",
              "1                                      6th  TCGA-CN-5369-01A   primary tumour   \n",
              "2                                      6th  TCGA-CN-5367-01A   primary tumour   \n",
              "3                                      6th  TCGA-CN-5364-01A   primary tumour   \n",
              "4                                      6th  TCGA-CN-5360-01A   primary tumour   \n",
              "\n",
              "   Tumour confirmed_y                        Specimen notes  \\\n",
              "0                 yes  617df1e0-b075-4610-b6d5-8850786fea70   \n",
              "1                 yes  b4c02606-0f86-46e4-9daf-dc7dbcd60d78   \n",
              "2                 yes  379f9e65-54f3-4566-b018-3f3eee6a4df4   \n",
              "3                 yes  38a4ac42-be08-4187-98c2-af861218c3db   \n",
              "4                 yes  0c00768e-8b13-4b8e-80fc-b344740845f1   \n",
              "\n",
              "                      Sample ID   Sample type_y  \\\n",
              "0  TCGA-CN-5374-01A-01D-1431-02  Primary tumour   \n",
              "1  TCGA-CN-5369-01A-01D-1431-02  Primary tumour   \n",
              "2  TCGA-CN-5367-01A-01D-1431-02  Primary tumour   \n",
              "3  TCGA-CN-5364-01A-01D-1431-02  Primary tumour   \n",
              "4  TCGA-CN-5360-01A-01D-1431-02  Primary tumour   \n",
              "\n",
              "                           Sample notes  \n",
              "0  dc9d40c3-0af2-481e-9e54-7b6329649eb6  \n",
              "1  1a532ca9-e72f-4906-867b-272a18cfec79  \n",
              "2  1380173d-316f-4821-8b98-654ad1050a38  \n",
              "3  6ce3d597-51f1-4807-a28f-271f25f95ed4  \n",
              "4  7ee362c2-86ad-462c-b478-21255d96ed90  \n",
              "\n",
              "[5 rows x 25 columns]"
            ]
          },
          "execution_count": 51,
          "metadata": {},
          "output_type": "execute_result"
        }
      ],
      "source": [
        "df1.head()"
      ]
    },
    {
      "cell_type": "code",
      "execution_count": null,
      "metadata": {
        "colab": {
          "base_uri": "https://localhost:8080/",
          "height": 638
        },
        "id": "Tffl9OrAc9UQ",
        "outputId": "89a85378-f44f-4186-c0b5-eadcd14c47f8"
      },
      "outputs": [
        {
          "data": {
            "image/png": "[encoded data removed]",
            "text/plain": [
              "<Figure size 640x480 with 2 Axes>"
            ]
          },
          "metadata": {},
          "output_type": "display_data"
        }
      ],
      "source": [
        "# Exclure les colonnes non numériques\n",
        "numerical_columns = df1.select_dtypes(include=['float64', 'int64'])\n",
        "\n",
        "# Calculer la matrice de corrélation\n",
        "corr_matrix = numerical_columns.corr()\n",
        "\n",
        "sns.heatmap(corr_matrix, annot=True, cmap='coolwarm')\n",
        "plt.show()\n"
      ]
    },
    {
      "cell_type": "code",
      "execution_count": null,
      "metadata": {
        "id": "8iiuzg3q7V7_",
        "outputId": "4e4796eb-ad83-4b01-bb2f-e8bcf4d6af55"
      },
      "outputs": [
        {
          "data": {
            "image/png": "[encoded data removed]",
            "text/plain": [
              "<Figure size 720x432 with 1 Axes>"
            ]
          },
          "metadata": {},
          "output_type": "display_data"
        }
      ],
      "source": [
        "sns.set(style=\"whitegrid\")\n",
        "plt.figure(figsize=(10, 6))\n",
        "sns.boxplot(x='Donor vital status', y='Survival time (days)', data=df)\n",
        "plt.title('Comparaison du temps de survie en fonction du statut vital du donneur')\n",
        "plt.xlabel('Statut vital du donneur (0: Décédé, 1: Vivant)')\n",
        "plt.ylabel('Temps de survie (jours)')\n",
        "plt.show()"
      ]
    },
    {
      "cell_type": "code",
      "execution_count": null,
      "metadata": {
        "id": "b3azgnfS7V8B",
        "outputId": "c6447778-5ce0-4591-b45e-ca53b424bfe9"
      },
      "outputs": [
        {
          "data": {
            "image/png": "[encoded data removed]",
            "text/plain": [
              "<Figure size 576x360 with 1 Axes>"
            ]
          },
          "metadata": {},
          "output_type": "display_data"
        }
      ],
      "source": [
        "plt.figure(figsize=(8, 5))\n",
        "sns.scatterplot(x='Age at diagnosis_x', y='Survival time (days)', data=df)\n",
        "plt.title('Relation entre l\\'âge au diagnostic et le temps de survie')\n",
        "plt.xlabel('Âge au diagnostic')\n",
        "plt.ylabel('Temps de survie (jours)')\n",
        "plt.show()"
      ]
    },
    {
      "cell_type": "code",
      "execution_count": null,
      "metadata": {
        "id": "o2-0UveU7V8B",
        "outputId": "a0bb86b7-45d6-45af-a92d-798c85abf51e"
      },
      "outputs": [
        {
          "data": {
            "image/png": "[encoded data removed]",
            "text/plain": [
              "<Figure size 576x360 with 1 Axes>"
            ]
          },
          "metadata": {},
          "output_type": "display_data"
        }
      ],
      "source": [
        "plt.figure(figsize=(8, 5))\n",
        "sns.countplot(x='Sex_x', data=df)\n",
        "plt.title('Répartition du sexe des donneurs')\n",
        "plt.xlabel('Sexe')\n",
        "plt.ylabel('Nombre de donneurs')\n",
        "plt.show()"
      ]
    },
    {
      "cell_type": "code",
      "execution_count": null,
      "metadata": {
        "id": "SUEF08Kx7V8C",
        "outputId": "ff83a4f6-9436-4e72-b122-1abe07a234a8"
      },
      "outputs": [
        {
          "data": {
            "image/png": "[encoded data removed]",
            "text/plain": [
              "<Figure size 720x432 with 1 Axes>"
            ]
          },
          "metadata": {},
          "output_type": "display_data"
        }
      ],
      "source": [
        "plt.figure(figsize=(10, 6))\n",
        "sns.countplot(x='Donor tumour staging system at diagnosis', data=df)\n",
        "plt.title('Répartition du stade de la tumeur au diagnostic')\n",
        "plt.xlabel('Stade de la tumeur')\n",
        "plt.ylabel('Nombre de donneurs')\n",
        "plt.show()"
      ]
    },
    {
      "cell_type": "code",
      "execution_count": null,
      "metadata": {
        "id": "LZixHfjr7V8D",
        "outputId": "6d4627e3-f3a0-46aa-a3d9-a7a245a31d86"
      },
      "outputs": [
        {
          "data": {
            "image/png": "[encoded data removed]",
            "text/plain": [
              "<Figure size 720x432 with 1 Axes>"
            ]
          },
          "metadata": {},
          "output_type": "display_data"
        }
      ],
      "source": [
        "plt.figure(figsize=(10, 6))\n",
        "sns.boxplot(x='Sex_x', y='Survival time (days)', hue='Donor vital status', data=df)\n",
        "plt.title('Comparaison du temps de survie par sexe et statut vital')\n",
        "plt.xlabel('Sexe')\n",
        "plt.ylabel('Temps de survie (jours)')\n",
        "plt.legend(title='Statut vital', loc='upper left')\n",
        "plt.show()"
      ]
    },
    {
      "cell_type": "markdown",
      "metadata": {
        "id": "-aQLHPeE50Db"
      },
      "source": [
        "# Régression"
      ]
    },
    {
      "cell_type": "markdown",
      "metadata": {
        "id": "LPJTxgzN7V8E"
      },
      "source": [
        "Le but est de prédire le nombre des jours de survie des patients"
      ]
    },
    {
      "cell_type": "markdown",
      "metadata": {
        "id": "drlwhm9J7V8F"
      },
      "source": [
        "## Régession linéaire"
      ]
    },
    {
      "cell_type": "code",
      "execution_count": null,
      "metadata": {
        "id": "5QhBvJtW7V8F"
      },
      "outputs": [],
      "source": [
        "from sklearn.model_selection import train_test_split\n",
        "from sklearn.linear_model import LinearRegression\n",
        "from sklearn.metrics import mean_squared_error"
      ]
    },
    {
      "cell_type": "code",
      "execution_count": null,
      "metadata": {
        "id": "Jr5gR_mR7V8G"
      },
      "outputs": [],
      "source": [
        "# Remplacez les valeurs de la colonne 'Sex_x'\n",
        "df['Sex_x'] = df['Sex_x'].replace({'female': 1, 'male': 0})"
      ]
    },
    {
      "cell_type": "code",
      "execution_count": null,
      "metadata": {
        "id": "P_8GZUiO7V8H"
      },
      "outputs": [],
      "source": [
        "# Convertir le stade du cancer en un float pour entrainer le modèle aisemment\n",
        "df['Donor tumour staging system at diagnosis'] = df['Donor tumour staging system at diagnosis'].str.extract('(\\d+)').astype(float)"
      ]
    },
    {
      "cell_type": "code",
      "execution_count": null,
      "metadata": {
        "id": "AFbtXHsj7V8H"
      },
      "outputs": [],
      "source": [
        "# Sélection des caractéristiques pertinentes\n",
        "features = ['Sex_x','Chromosome','Chromosome start','Chromosome end','Mutation ID','Segment mean', 'Age at diagnosis_x','Age at last follow-up', 'Donor tumour staging system at diagnosis', 'Interval of last follow-up (days)']"
      ]
    },
    {
      "cell_type": "code",
      "execution_count": null,
      "metadata": {
        "id": "Az0bhq827V8I"
      },
      "outputs": [],
      "source": [
        "# Sélection des caractéristiques pertinentes et de la variable cible\n",
        "X = df[features]\n",
        "y = df['Survival time (days)']"
      ]
    },
    {
      "cell_type": "code",
      "execution_count": null,
      "metadata": {
        "id": "IE4-J5JH7V8I"
      },
      "outputs": [],
      "source": [
        "# Séparer les données en ensembles d'entraînement et de test\n",
        "X_train, X_test, y_train, y_test = train_test_split(X, y, test_size=0.2, random_state=42)"
      ]
    },
    {
      "cell_type": "code",
      "execution_count": null,
      "metadata": {
        "id": "kLKe4L4Z7V8J"
      },
      "outputs": [],
      "source": [
        "# Instancier le modèle de régression linéaire\n",
        "model = LinearRegression()\n",
        "\n",
        "# Entraîner le modèle sur l'ensemble d'entraînement\n",
        "model.fit(X_train, y_train)\n",
        "\n",
        "# Prédire sur l'ensemble de test\n",
        "y_pred = model.predict(X_test)"
      ]
    },
    {
      "cell_type": "code",
      "execution_count": null,
      "metadata": {
        "id": "_b5rYRSE7V8K",
        "outputId": "947ed506-6be1-4e82-adba-4cabe3451935"
      },
      "outputs": [
        {
          "name": "stdout",
          "output_type": "stream",
          "text": [
            "Mean Squared Error: 1978.5686203370697\n"
          ]
        }
      ],
      "source": [
        "# Calculer l'erreur quadratique moyenne\n",
        "mse = mean_squared_error(y_test, y_pred)\n",
        "print(\"Mean Squared Error:\", mse)"
      ]
    },
    {
      "cell_type": "markdown",
      "metadata": {
        "id": "TWON9Mfa7V8M"
      },
      "source": [
        "Cela indique en général que notre modèle de régression linéaire a une certaine erreur dans ses prédictions.Ainsi, il faut améliorer le modèle en mettant en place plusieurs ajustements."
      ]
    },
    {
      "cell_type": "code",
      "execution_count": null,
      "metadata": {
        "id": "8E3cjBfS7V8N",
        "outputId": "4e8ef0dd-4b54-4cfa-989a-b1a6a0e32af9"
      },
      "outputs": [
        {
          "data": {
            "image/png": "[encoded data removed]",
            "text/plain": [
              "<Figure size 720x432 with 1 Axes>"
            ]
          },
          "metadata": {},
          "output_type": "display_data"
        }
      ],
      "source": [
        "plt.figure(figsize=(10, 6))\n",
        "plt.scatter(y_test, y_pred, color='blue', label='Predicted')\n",
        "# Tracer la droite d'identité (y = x)\n",
        "plt.plot(y_test, y_test, color='red', linestyle='--', label='Identity')\n",
        "plt.title('Comparaison entre les valeurs prédites et les valeurs réelles du temps de survie')\n",
        "plt.xlabel('Temps de survie réel (jours)')\n",
        "plt.ylabel('Temps de survie prédit (jours)')\n",
        "plt.legend()\n",
        "plt.show()"
      ]
    },
    {
      "cell_type": "markdown",
      "metadata": {
        "id": "UWtxYMQf7V8O"
      },
      "source": [
        "La proximité entre les valeurs prédites et les valeurs réelles indique que notre modèle de régression linéaire est bien ajusté et capable de faire des prédictions précises sur le temps de survie en fonction des caractéristiques fournies."
      ]
    },
    {
      "cell_type": "markdown",
      "metadata": {
        "id": "r5mrE1nE7V8P"
      },
      "source": [
        "## Ajustement du modèle en enlevant les variables non significatives"
      ]
    },
    {
      "cell_type": "code",
      "execution_count": null,
      "metadata": {
        "id": "Bwpux8Xd7V8P",
        "outputId": "126820c2-af33-4975-ae00-6696daff6975"
      },
      "outputs": [
        {
          "name": "stdout",
          "output_type": "stream",
          "text": [
            "                             OLS Regression Results                             \n",
            "================================================================================\n",
            "Dep. Variable:     Survival time (days)   R-squared:                       0.998\n",
            "Model:                              OLS   Adj. R-squared:                  0.998\n",
            "Method:                   Least Squares   F-statistic:                 5.104e+04\n",
            "Date:                  Fri, 19 Apr 2024   Prob (F-statistic):          2.85e-305\n",
            "Time:                          00:24:26   Log-Likelihood:                -1181.5\n",
            "No. Observations:                   233   AIC:                             2369.\n",
            "Df Residuals:                       230   BIC:                             2379.\n",
            "Df Model:                             2                                         \n",
            "Covariance Type:              nonrobust                                         \n",
            "============================================================================================================\n",
            "                                               coef    std err          t      P>|t|      [0.025      0.975]\n",
            "------------------------------------------------------------------------------------------------------------\n",
            "const                                      -87.3550     35.553     -2.457      0.015    -157.407     -17.303\n",
            "Donor tumour staging system at diagnosis    12.0135      5.297      2.268      0.024       1.577      22.450\n",
            "Interval of last follow-up (days)            1.0034      0.003    317.214      0.000       0.997       1.010\n",
            "==============================================================================\n",
            "Omnibus:                      239.022   Durbin-Watson:                   2.069\n",
            "Prob(Omnibus):                  0.000   Jarque-Bera (JB):            19379.961\n",
            "Skew:                          -3.650   Prob(JB):                         0.00\n",
            "Kurtosis:                      47.079   Cond. No.                     1.54e+04\n",
            "==============================================================================\n",
            "\n",
            "Warnings:\n",
            "[1] Standard Errors assume that the covariance matrix of the errors is correctly specified.\n",
            "[2] The condition number is large, 1.54e+04. This might indicate that there are\n",
            "strong multicollinearity or other numerical problems.\n"
          ]
        }
      ],
      "source": [
        "import statsmodels.api as sm\n",
        "\n",
        "# Ajouter une colonne constante à la matrice de caractéristiques\n",
        "X_with_const = sm.add_constant(X)\n",
        "\n",
        "# Ajuster le modèle de régression linéaire multiple\n",
        "model = sm.OLS(y, X_with_const).fit()\n",
        "\n",
        "# Obtenir les résultats du test de Student pour chaque coefficient\n",
        "t_test_results = model.summary().tables[1]\n",
        "\n",
        "# Extraire les p-values des coefficients\n",
        "p_values = model.pvalues[1:]  # Exclure la constante\n",
        "\n",
        "# Identifier les indices des variables non significatives (p-value > seuil)\n",
        "seuil = 0.05\n",
        "non_significatives = p_values[p_values > seuil].index\n",
        "\n",
        "# Supprimer les variables non significatives du modèle\n",
        "X_filtre = X.drop(non_significatives, axis=1)\n",
        "\n",
        "# Ajuster un nouveau modèle avec les variables filtrées\n",
        "model_filtre = sm.OLS(y, sm.add_constant(X_filtre)).fit()\n",
        "\n",
        "# Afficher les résultats du modèle filtré\n",
        "print(model_filtre.summary())"
      ]
    },
    {
      "cell_type": "markdown",
      "metadata": {
        "id": "WMZyuJ2r7V8R"
      },
      "source": [
        "Les résultats de la régression linéaire multiple (RLM) montrent un modèle ajusté avec un très bon ajustement aux données, avec un coefficient de détermination R² de 0,998. Cela signifie que le modèle explique près de 99,8 % de la variance dans le temps de survie des patients atteints de carcinome épidermoïde de la cavité buccale et du pharynx. L'ajustement du modèle a conduit à la suppression des variables non significatives, ce qui a amélioré la performance globale du modèle.\n",
        "\n",
        "Les coefficients de régression pour les variables significatives indiquent que chaque augmentation d'une unité dans la variable \"Interval of last follow-up (days)\" est associée à une augmentation moyenne de 1,0034 unité dans le temps de survie des patients. Les p-values associées à ces coefficients sont toutes deux significatives (p < 0,05), ce qui indique une relation statistiquement significative entre ces variables et le temps de survie."
      ]
    },
    {
      "cell_type": "markdown",
      "metadata": {
        "id": "7pFCfjbi7V8R"
      },
      "source": [
        "## Transformation des caractéristiques et ajout de termes polynomiaux"
      ]
    },
    {
      "cell_type": "code",
      "execution_count": null,
      "metadata": {
        "id": "RqKymF0l7V8S"
      },
      "outputs": [],
      "source": [
        "from sklearn.preprocessing import PolynomialFeatures\n",
        "\n",
        "# Création de l'objet PolynomialFeatures pour ajouter des termes polynomiaux jusqu'au degré 2\n",
        "poly = PolynomialFeatures(degree=2, include_bias=False)\n",
        "\n",
        "# Transformation des caractéristiques\n",
        "X_poly = poly.fit_transform(X_filtre)"
      ]
    },
    {
      "cell_type": "code",
      "execution_count": null,
      "metadata": {
        "id": "ko1uF1vH7V8T",
        "outputId": "11b9b0b5-faf2-4133-a578-43b5c493e9df"
      },
      "outputs": [
        {
          "name": "stdout",
          "output_type": "stream",
          "text": [
            "Mean Squared Error with Polynomial Features: 1716.898984857758\n"
          ]
        }
      ],
      "source": [
        "X_train_poly, X_test_poly, y_train, y_test = train_test_split(X_poly, y, test_size=0.2, random_state=42)\n",
        "\n",
        "model_poly = LinearRegression()\n",
        "\n",
        "model_poly.fit(X_train_poly, y_train)\n",
        "\n",
        "y_pred_poly = model_poly.predict(X_test_poly)\n",
        "\n",
        "mse_poly = mean_squared_error(y_test, y_pred_poly)\n",
        "print(\"Mean Squared Error with Polynomial Features:\", mse_poly)"
      ]
    },
    {
      "cell_type": "code",
      "execution_count": null,
      "metadata": {
        "id": "mkLrik4_7V8U"
      },
      "outputs": [],
      "source": [
        "MSE a diminué en utilisant les données filtrées, càd après avoir enlevé les variables non significatives grace au test de Student."
      ]
    },
    {
      "cell_type": "markdown",
      "metadata": {
        "id": "usrFzlJ57V8U"
      },
      "source": [
        "## Réduction de la dimensionnalité avec l'analyse en composantes principales (PCA)"
      ]
    },
    {
      "cell_type": "code",
      "execution_count": null,
      "metadata": {
        "id": "TlJDWeFR7V8V"
      },
      "outputs": [],
      "source": [
        "from sklearn.decomposition import PCA\n",
        "\n",
        "# Création de l'objet PCA pour réduire les dimensions à 2\n",
        "pca = PCA(n_components=2)\n",
        "\n",
        "# Transformation des caractéristiques\n",
        "X_pca = pca.fit_transform(X_filtre)"
      ]
    },
    {
      "cell_type": "code",
      "execution_count": null,
      "metadata": {
        "id": "3nFMrN-_7V8W",
        "outputId": "e579099f-1f30-430b-f7b9-6d786daf9469"
      },
      "outputs": [
        {
          "name": "stdout",
          "output_type": "stream",
          "text": [
            "Mean Squared Error with PCA Features: 1742.333161839068\n"
          ]
        }
      ],
      "source": [
        "X_train_pca, X_test_pca, y_train, y_test = train_test_split(X_pca, y, test_size=0.2, random_state=42)\n",
        "\n",
        "model_pca = LinearRegression()\n",
        "\n",
        "model_pca.fit(X_train_pca, y_train)\n",
        "\n",
        "y_pred_pca = model_pca.predict(X_test_pca)\n",
        "\n",
        "mse_pca = mean_squared_error(y_test, y_pred_pca)\n",
        "print(\"Mean Squared Error with PCA Features:\", mse_pca)"
      ]
    },
    {
      "cell_type": "markdown",
      "metadata": {
        "id": "AFglS9Jf7V8X"
      },
      "source": [
        "La MSE a diminué, mais il n'est pas aussi faible que dans le cas de la régression polynomiale"
      ]
    },
    {
      "cell_type": "markdown",
      "metadata": {
        "id": "GWEMCpWz7V8Y"
      },
      "source": [
        "## Utilisation de la régression Ridge ou Lasso pour la régularisation"
      ]
    },
    {
      "cell_type": "code",
      "execution_count": null,
      "metadata": {
        "id": "ryarNY2d7V8Y"
      },
      "outputs": [],
      "source": [
        "from sklearn.linear_model import Ridge, Lasso\n",
        "\n",
        "# Création de l'objet Ridge pour la régression avec régularisation L2\n",
        "ridge = Ridge(alpha=0.1)\n",
        "\n",
        "ridge.fit(X_train, y_train)\n",
        "\n",
        "y_pred_ridge = ridge.predict(X_test)\n",
        "\n",
        "# Création de l'objet Lasso pour la régression avec régularisation L1\n",
        "lasso = Lasso(alpha=0.1)\n",
        "\n",
        "lasso.fit(X_train, y_train)\n",
        "\n",
        "y_pred_lasso = lasso.predict(X_test)"
      ]
    },
    {
      "cell_type": "code",
      "execution_count": null,
      "metadata": {
        "id": "NYrQQVIa7V8a",
        "outputId": "f5422d5c-eff2-4ea9-c7ae-e146365e51fa"
      },
      "outputs": [
        {
          "name": "stdout",
          "output_type": "stream",
          "text": [
            "Mean Squared Error for Ridge Regression: 1978.8431099217223\n",
            "Mean Squared Error for Lasso Regression: 2013.3766413934936\n"
          ]
        }
      ],
      "source": [
        "from sklearn.metrics import mean_squared_error\n",
        "\n",
        "mse_ridge = mean_squared_error(y_test, y_pred_ridge)\n",
        "print(\"Mean Squared Error for Ridge Regression:\", mse_ridge)\n",
        "\n",
        "mse_lasso = mean_squared_error(y_test, y_pred_lasso)\n",
        "print(\"Mean Squared Error for Lasso Regression:\", mse_lasso)"
      ]
    },
    {
      "cell_type": "code",
      "execution_count": null,
      "metadata": {
        "id": "PwOIOl6z7V8b"
      },
      "outputs": [],
      "source": [
        "On obtient des valeurs plus élevées par rapport à tous les modèles précédents."
      ]
    },
    {
      "cell_type": "markdown",
      "metadata": {
        "id": "m0vEeefk7V8c"
      },
      "source": [
        "## SVM"
      ]
    },
    {
      "cell_type": "code",
      "execution_count": null,
      "metadata": {
        "id": "GIgaIXIX7V8d"
      },
      "outputs": [],
      "source": [
        "# L'importation d'un search vector regressor\n",
        "from sklearn.svm import SVR"
      ]
    },
    {
      "cell_type": "code",
      "execution_count": null,
      "metadata": {
        "id": "Zwr8Mn-U7V8e"
      },
      "outputs": [],
      "source": [
        "X_train, X_test, y_train, y_test = train_test_split(X_filtre, y, test_size=0.2, random_state=42)"
      ]
    },
    {
      "cell_type": "markdown",
      "metadata": {
        "id": "eaGGwTfC7V8e"
      },
      "source": [
        "### Noyau linéaire"
      ]
    },
    {
      "cell_type": "code",
      "execution_count": null,
      "metadata": {
        "id": "r3IsLgPW7V8f"
      },
      "outputs": [],
      "source": [
        "# Instanciation du modèle SVM pour la régression\n",
        "svm_regressor = SVR(kernel='linear')"
      ]
    },
    {
      "cell_type": "code",
      "execution_count": null,
      "metadata": {
        "id": "-v22gQSU7V8g"
      },
      "outputs": [],
      "source": [
        "svm_regressor.fit(X_train, y_train)\n",
        "\n",
        "y_pred = svm_regressor.predict(X_test)"
      ]
    },
    {
      "cell_type": "code",
      "execution_count": null,
      "metadata": {
        "id": "OgPGKhk47V8g",
        "outputId": "b5908f5e-0421-4697-e0eb-c0d72ab402f6"
      },
      "outputs": [
        {
          "name": "stdout",
          "output_type": "stream",
          "text": [
            "Mean Squared Error for SVM Regression: 1905.6136443092141\n"
          ]
        }
      ],
      "source": [
        "mse = mean_squared_error(y_test, y_pred)\n",
        "print(\"Mean Squared Error for SVM Regression:\", mse)"
      ]
    },
    {
      "cell_type": "markdown",
      "metadata": {
        "id": "PX4UA1yE7V8h"
      },
      "source": [
        "Dans ce cas particulier, la régression polynomiale établie sur des données filtrées semble être le meilleur modèle en termes de MSE."
      ]
    },
    {
      "cell_type": "markdown",
      "metadata": {
        "id": "zLCgtQp553vR"
      },
      "source": [
        "# Classification"
      ]
    },
    {
      "cell_type": "markdown",
      "metadata": {
        "id": "Kj9y-1HK7V8i"
      },
      "source": [
        "Le but est de classifier nos données afin de déterminer le statut vital du patient(Ce dernier prend la valeur 1 pour vivant, 0 pour non)"
      ]
    },
    {
      "cell_type": "code",
      "execution_count": null,
      "metadata": {
        "id": "q4wUKFdD7V8j"
      },
      "outputs": [],
      "source": [
        "y = df['Donor vital status']"
      ]
    },
    {
      "cell_type": "markdown",
      "metadata": {
        "id": "PehcqIVJ7V8k"
      },
      "source": [
        "## SVM"
      ]
    },
    {
      "cell_type": "code",
      "execution_count": null,
      "metadata": {
        "id": "-r82VHdM7V8k"
      },
      "outputs": [],
      "source": [
        "# L'importation d'un search vector classifier\n",
        "from sklearn.svm import SVC\n",
        "from sklearn.metrics import accuracy_score, classification_report"
      ]
    },
    {
      "cell_type": "code",
      "execution_count": null,
      "metadata": {
        "id": "caJrmIsi7V8l",
        "outputId": "2395530d-3de7-4e88-e342-1b1fa4d228b0"
      },
      "outputs": [
        {
          "name": "stdout",
          "output_type": "stream",
          "text": [
            "Accuracy: 0.8723404255319149\n",
            "Classification Report:\n",
            "              precision    recall  f1-score   support\n",
            "\n",
            "           0       0.00      0.00      0.00         6\n",
            "           1       0.87      1.00      0.93        41\n",
            "\n",
            "    accuracy                           0.87        47\n",
            "   macro avg       0.44      0.50      0.47        47\n",
            "weighted avg       0.76      0.87      0.81        47\n",
            "\n"
          ]
        },
        {
          "name": "stderr",
          "output_type": "stream",
          "text": [
            "C:\\ProgramData\\Anaconda3\\lib\\site-packages\\sklearn\\metrics\\_classification.py:1221: UndefinedMetricWarning: Precision and F-score are ill-defined and being set to 0.0 in labels with no predicted samples. Use `zero_division` parameter to control this behavior.\n",
            "  _warn_prf(average, modifier, msg_start, len(result))\n"
          ]
        }
      ],
      "source": [
        "X_train, X_test, y_train, y_test = train_test_split(X_filtre, y, test_size=0.2, random_state=42)\n",
        "\n",
        "# Créer un modèle SVM\n",
        "svm_model = SVC(kernel='linear', random_state=42)\n",
        "\n",
        "svm_model.fit(X_train, y_train)\n",
        "\n",
        "y_pred = svm_model.predict(X_test)\n",
        "\n",
        "# Calculer l'exactitude du modèle\n",
        "accuracy = accuracy_score(y_test, y_pred)\n",
        "print(\"Accuracy:\", accuracy)\n",
        "\n",
        "# Afficher le rapport de classification\n",
        "print(\"Classification Report:\")\n",
        "print(classification_report(y_test, y_pred))"
      ]
    },
    {
      "cell_type": "markdown",
      "metadata": {
        "id": "ZcOOteZg7V8m"
      },
      "source": [
        "l'accuracy est de 0.87, ce qui signifie que le modèle prédit correctement le statut vital des donneurs dans environ 87% des cas.\n",
        "Le modèle SVM a une bonne capacité à prédire le statut vital des donneurs pour la classe 1 (vivant), mais il échoue à prédire correctement la classe 0 (mort)."
      ]
    },
    {
      "cell_type": "markdown",
      "metadata": {
        "id": "jb3luyX87V8n"
      },
      "source": [
        "## Arbre de décision"
      ]
    },
    {
      "cell_type": "code",
      "execution_count": null,
      "metadata": {
        "id": "YPL1ctVM7V8o",
        "outputId": "f568780c-7d7d-4c5c-aa76-6c061876eb95"
      },
      "outputs": [
        {
          "name": "stdout",
          "output_type": "stream",
          "text": [
            "Accuracy: 0.7872340425531915\n",
            "Classification Report:\n",
            "              precision    recall  f1-score   support\n",
            "\n",
            "           0       0.33      0.67      0.44         6\n",
            "           1       0.94      0.80      0.87        41\n",
            "\n",
            "    accuracy                           0.79        47\n",
            "   macro avg       0.64      0.74      0.66        47\n",
            "weighted avg       0.87      0.79      0.81        47\n",
            "\n"
          ]
        }
      ],
      "source": [
        "from sklearn.tree import DecisionTreeClassifier\n",
        "\n",
        "# Créer un modèle d'arbre de décision\n",
        "decision_tree_model = DecisionTreeClassifier(random_state=42)\n",
        "\n",
        "decision_tree_model.fit(X_train, y_train)\n",
        "\n",
        "y_pred = decision_tree_model.predict(X_test)\n",
        "\n",
        "accuracy = accuracy_score(y_test, y_pred)\n",
        "print(\"Accuracy:\", accuracy)\n",
        "\n",
        "print(\"Classification Report:\")\n",
        "print(classification_report(y_test, y_pred))"
      ]
    },
    {
      "cell_type": "markdown",
      "metadata": {
        "id": "G_5BHqzT7V8q"
      },
      "source": [
        "Le modèle identifie correctement environ 67% des exemples de la classe 0 et 80% des exemples de la classe 1."
      ]
    },
    {
      "cell_type": "markdown",
      "metadata": {
        "id": "PJX68-Oj7V8r"
      },
      "source": [
        "## Random Forest"
      ]
    },
    {
      "cell_type": "code",
      "execution_count": null,
      "metadata": {
        "id": "GCjmsGpE7V8r",
        "outputId": "99d86431-b6b0-4978-f744-52fd3a046be6"
      },
      "outputs": [
        {
          "name": "stdout",
          "output_type": "stream",
          "text": [
            "Accuracy: 0.7872340425531915\n",
            "Classification Report:\n",
            "              precision    recall  f1-score   support\n",
            "\n",
            "           0       0.33      0.67      0.44         6\n",
            "           1       0.94      0.80      0.87        41\n",
            "\n",
            "    accuracy                           0.79        47\n",
            "   macro avg       0.64      0.74      0.66        47\n",
            "weighted avg       0.87      0.79      0.81        47\n",
            "\n"
          ]
        }
      ],
      "source": [
        "from sklearn.ensemble import RandomForestClassifier\n",
        "\n",
        "# Créer le modèle de forêt aléatoire\n",
        "rf_classifier = RandomForestClassifier(n_estimators=100, random_state=42)\n",
        "\n",
        "rf_classifier.fit(X_train, y_train)\n",
        "\n",
        "y_pred = rf_classifier.predict(X_test)\n",
        "\n",
        "accuracy = accuracy_score(y_test, y_pred)\n",
        "print(\"Accuracy:\", accuracy)\n",
        "\n",
        "print(\"Classification Report:\")\n",
        "print(classification_report(y_test, y_pred))"
      ]
    },
    {
      "cell_type": "markdown",
      "metadata": {
        "id": "qiK9627i7V8t"
      },
      "source": [
        "Bien que la précision pour la classe 0(mort) soit relativement faible, le modèle présente une bonne précision et un bon rappel pour la classe 1(vivant)"
      ]
    },
    {
      "cell_type": "markdown",
      "metadata": {
        "id": "LJy_BD8u7V8u"
      },
      "source": [
        "## K-Nearest Neighbors"
      ]
    },
    {
      "cell_type": "code",
      "execution_count": null,
      "metadata": {
        "id": "bU1CulXu7V8v",
        "outputId": "c78f3a6b-d39a-42ee-acca-a0cd606ff145"
      },
      "outputs": [
        {
          "name": "stdout",
          "output_type": "stream",
          "text": [
            "Accuracy: 0.8085106382978723\n",
            "Classification Report:\n",
            "              precision    recall  f1-score   support\n",
            "\n",
            "           0       0.00      0.00      0.00         6\n",
            "           1       0.86      0.93      0.89        41\n",
            "\n",
            "    accuracy                           0.81        47\n",
            "   macro avg       0.43      0.46      0.45        47\n",
            "weighted avg       0.75      0.81      0.78        47\n",
            "\n"
          ]
        }
      ],
      "source": [
        "from sklearn.neighbors import KNeighborsClassifier\n",
        "\n",
        "# Création du classifieur KNN avec k=5\n",
        "knn = KNeighborsClassifier(n_neighbors=5)\n",
        "\n",
        "knn.fit(X_train, y_train)\n",
        "\n",
        "y_pred = knn.predict(X_test)\n",
        "\n",
        "accuracy = accuracy_score(y_test, y_pred)\n",
        "print(\"Accuracy:\", accuracy)\n",
        "\n",
        "print(\"Classification Report:\")\n",
        "print(classification_report(y_test, y_pred))"
      ]
    },
    {
      "cell_type": "markdown",
      "metadata": {
        "id": "1jt9DJAR7V8w"
      },
      "source": [
        "Le modèle a bien performé pour la classe 1 (\"alive\"), mais a eu des difficultés à prédire la classe 0 (\"dead\")"
      ]
    },
    {
      "cell_type": "markdown",
      "metadata": {
        "id": "HH7Qq2zS7V8x"
      },
      "source": [
        "Le meilleur modèle en termes de précision s'avère SVM sur des donées filtrées"
      ]
    },
    {
      "cell_type": "markdown",
      "metadata": {
        "id": "cwzgEHWE7V8x"
      },
      "source": [
        "# Conclusion"
      ]
    },
    {
      "cell_type": "markdown",
      "metadata": {
        "id": "BPZRiVYc7V8y"
      },
      "source": [
        "Dans le cadre de cette étude, nous avons exploré différents modèles de classification et de régression pour analyser les données relatives au temps de survie des patients. Après un processus exhaustif d'analyse et de sélection de modèle, nous avons identifié le Support Vector Machine (SVM) comme étant le meilleur modèle pour la classification, et la régression polynomiale comme étant le meilleur modèle pour la prédiction du temps de survie.\n",
        "\n",
        "Pour la classification, le SVM a démontré une performance supérieure sur des données filtrées, après avoir effectué le test de Student pour sélectionner les variables les plus significatives. Ce modèle offre une capacité robuste à séparer efficacement les différentes classes de survie des patients, ce qui en fait un outil précieux pour la prédiction du statut vital.\n",
        "\n",
        "En ce qui concerne la régression, la régression polynomiale appliquée à des données filtrées a produit les résultats les plus prometteurs en termes de Mean Squared Error (MSE). Cette approche non linéaire a permis de capturer de manière plus précise la relation complexe entre les caractéristiques des patients et leur temps de survie, offrant ainsi des prédictions plus précises et fiables."
      ]
    }
  ],
  "metadata": {
    "colab": {
      "provenance": [],
      "toc_visible": true,
      "include_colab_link": true
    },
    "kernelspec": {
      "display_name": "Python 3",
      "language": "python",
      "name": "python3"
    },
    "language_info": {
      "codemirror_mode": {
        "name": "ipython",
        "version": 3
      },
      "file_extension": ".py",
      "mimetype": "text/x-python",
      "name": "python",
      "nbconvert_exporter": "python",
      "pygments_lexer": "ipython3",
      "version": "3.8.3"
    }
  },
  "nbformat": 4,
  "nbformat_minor": 0
}